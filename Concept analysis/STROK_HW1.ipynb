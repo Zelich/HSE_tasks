{
 "cells": [
  {
   "cell_type": "markdown",
   "metadata": {},
   "source": [
    "### Стерхов Сергей, Домашняя работа №1"
   ]
  },
  {
   "cell_type": "markdown",
   "metadata": {},
   "source": [
    "#### Задание 1"
   ]
  },
  {
   "cell_type": "markdown",
   "metadata": {},
   "source": [
    "Суръекция$\\longrightarrow$Инъекция. Докажем от противного. Пусть инъекция не соблюдается, тогда $\\exists x_1,x_2, a\\in U: f(x_1)=f(x_2)=a$. Так как множество $U$ конечно, то даже если всем остальным элементам, кроме $x_1$ и $x_2$, в соответствие поставятся разные элементы, то найдется элемент в $U$, который не достигается воздействием $f$ на $U$. Тогда $f$ не суръективно. Противоречие.\n",
    "Инъекция$\\longrightarrow$Суръекция. Докажем от противного. Пусть суръекция не соблюдается, тогда $\\exists x_1\\in U: \\forall x\\in U f(x)\\neq x_1$. Возьмем множество элементов $U_0\\subset U$, которое достигается воздействием $f$ на $U$. Для каждого из них в силу инъекции есть ровно один элемент из $U$, которые при применении на них $f$ дают $U_0$; назовем это множество $U_1$. $|U_1|=|U_0|<|U|$, значит элементы $U\\smallsetminus U_1$ еще не были задействованы. Из них не могут получиться элементы из $U_0$ в силу инъекции, значит они будут давать элементы из $U\\smallsetminus U_0$. Это будет выполняться даже если $|U\\smallsetminus U_0|=1$, а значит $|U\\smallsetminus U_0|=0$. Значит суръекция выполняется."
   ]
  },
  {
   "cell_type": "markdown",
   "metadata": {},
   "source": [
    "#### Задание 2а"
   ]
  },
  {
   "cell_type": "markdown",
   "metadata": {},
   "source": [
    "Написал скрипт, перебирающий пары относительно главной диагонали в множестве $\\{(0,0), (1,0), (0,1)\\}$."
   ]
  },
  {
   "cell_type": "code",
   "execution_count": 3,
   "metadata": {},
   "outputs": [
    {
     "name": "stdout",
     "output_type": "stream",
     "text": [
      "4231\n"
     ]
    }
   ],
   "source": [
    "import numpy as np\n",
    " \n",
    "dim = 5\n",
    "\n",
    "# Генерация координат ячеек верхнего треугольника матрицы\n",
    "def itemsgen(k):\n",
    "    kek = []\n",
    "    for i in range(k):\n",
    "        for j in range(i+1, k):\n",
    "            kek.append((i, j))\n",
    "    return kek\n",
    "\n",
    "# Код на проверку транзитивности\n",
    "def transcheck(a, dim):\n",
    "    for i in range(dim):\n",
    "        for j in range(dim):\n",
    "            for k in range(dim):\n",
    "                if a[i, j] == 1 and a[j, k] == 1 and a[i, k] != 1:\n",
    "                    return False\n",
    "    return True\n",
    "\n",
    "# Рекурсивная функция перебора\n",
    "def ch(item, items, a, result, dim):\n",
    "    if item != len(items)-1:\n",
    "        result = ch(item + 1, items, a, result, dim)\n",
    "    elif transcheck(a, dim):\n",
    "        result += 1\n",
    "    a[items[item][0], items[item][1]] = 1\n",
    "    if item != len(items)-1:\n",
    "        result = ch(item + 1, items, a, result, dim)\n",
    "    elif transcheck(a, dim):\n",
    "        result += 1\n",
    "    a[items[item][0], items[item][1]], a[items[item][1], items[item][0]] = 0, 1\n",
    "    if item != len(items)-1:\n",
    "        result = ch(item + 1, items, a, result, dim)\n",
    "    elif transcheck(a, dim):\n",
    "        result += 1\n",
    "    a[items[item][1], items[item][0]] = 0\n",
    "    return result\n",
    " \n",
    "print(ch(0, itemsgen(dim), np.zeros((dim, dim), dtype=np.int), 0, dim))"
   ]
  },
  {
   "cell_type": "markdown",
   "metadata": {},
   "source": [
    "На главной диагонали в силу ассиметричности (и антирефлексивности в частности) в любом случае будут нули, а значит это и есть ответ."
   ]
  },
  {
   "cell_type": "markdown",
   "metadata": {},
   "source": [
    "#### Задание 2b"
   ]
  },
  {
   "cell_type": "markdown",
   "metadata": {},
   "source": [
    "В силу антисимметричности пары ячеек относительно главной диагонали могут быть равны одному из трех элементов множества $\\{(0,0), (1,0), (0,1)\\}$. Значения между парами независимы друг от друга. Значения на диагонали всегда равны $0$ в силу антирефлексивности. Отсюда всего вариантов может быть $3^{10}$, так как всего 10 ячеек будет в верхнем или нижнем треугольнике матрицы."
   ]
  },
  {
   "cell_type": "markdown",
   "metadata": {},
   "source": [
    "#### Задание 3"
   ]
  },
  {
   "cell_type": "markdown",
   "metadata": {},
   "source": [
    "Взял кусок кода из 2a"
   ]
  },
  {
   "cell_type": "code",
   "execution_count": 4,
   "metadata": {
    "collapsed": true
   },
   "outputs": [],
   "source": [
    "def transcheck(a, dim):\n",
    "    for i in range(dim):\n",
    "        for j in range(dim):\n",
    "            for k in range(dim):\n",
    "                if a[i, j] == 1 and a[j, k] == 1 and a[i, k] != 1:\n",
    "                    return False\n",
    "    return True"
   ]
  },
  {
   "cell_type": "markdown",
   "metadata": {},
   "source": [
    "Его сложность, как легко заметить, $O(n^3)$"
   ]
  },
  {
   "cell_type": "markdown",
   "metadata": {},
   "source": [
    "#### Задание 4"
   ]
  },
  {
   "cell_type": "markdown",
   "metadata": {},
   "source": [
    "Программа будет на языке Python."
   ]
  },
  {
   "cell_type": "markdown",
   "metadata": {},
   "source": [
    "В основе решения лежит поиск в глубину по графу. Мы проходим по вершинам и записываем их в порядке посещения."
   ]
  },
  {
   "cell_type": "markdown",
   "metadata": {},
   "source": [
    "Граф задан списком ребер:"
   ]
  },
  {
   "cell_type": "code",
   "execution_count": 5,
   "metadata": {
    "collapsed": true
   },
   "outputs": [],
   "source": [
    "def dfs(k, g, a, ans):\n",
    "    a[k] = 1\n",
    "    for j in range(len(g[k])):\n",
    "        if a[g[k][j]] == 0:\n",
    "            a, ans = dfs(g[k][j], g, a, ans)\n",
    "    ans.append(k)\n",
    "    return a, ans\n",
    "\n",
    "def topsort(g):\n",
    "    n = len(g)\n",
    "    ans = []\n",
    "    a = []\n",
    "    for i in range(n):\n",
    "        a.append(0)\n",
    "    for i in range(n):\n",
    "        if a[i] == 0:\n",
    "            a, ans = dfs(i, g, a, ans)\n",
    "    print(ans)"
   ]
  },
  {
   "cell_type": "code",
   "execution_count": 6,
   "metadata": {},
   "outputs": [
    {
     "name": "stdout",
     "output_type": "stream",
     "text": [
      "[4, 2, 3, 0, 1]\n"
     ]
    }
   ],
   "source": [
    "# пример графа для проверки\n",
    "g = [[2, 3, 4], [3, 4], [4], [4], []]\n",
    "topsort(g)"
   ]
  },
  {
   "cell_type": "markdown",
   "metadata": {},
   "source": [
    "Граф задан матрицей смежности:"
   ]
  },
  {
   "cell_type": "code",
   "execution_count": 9,
   "metadata": {
    "collapsed": true
   },
   "outputs": [],
   "source": [
    "def dfs(k, g, a, ans):\n",
    "    a[k] = 1\n",
    "    for j in range(len(g[k])):\n",
    "        if a[j] == 0 and g[k][j] == 1:\n",
    "            a, ans = dfs(j, g, a, ans)\n",
    "    ans.append(k)\n",
    "    return a, ans\n",
    "\n",
    "def topsort(g):\n",
    "    n = len(g)\n",
    "    ans = []\n",
    "    a = []\n",
    "    for i in range(n):\n",
    "        a.append(0)\n",
    "    for i in range(n):\n",
    "        if a[i] == 0:\n",
    "            a, ans = dfs(i, g, a, ans)\n",
    "    print(ans)"
   ]
  },
  {
   "cell_type": "code",
   "execution_count": 10,
   "metadata": {},
   "outputs": [
    {
     "name": "stdout",
     "output_type": "stream",
     "text": [
      "[4, 2, 3, 0, 1]\n"
     ]
    }
   ],
   "source": [
    "# пример графа для проверки\n",
    "g = [[1, 0, 1, 1, 1], \n",
    "     [0, 1, 0, 1, 1], \n",
    "     [0, 0, 1, 0, 1], \n",
    "     [0, 0, 0, 1, 1], \n",
    "     [0, 0, 0, 0, 1]]\n",
    "topsort(g)"
   ]
  },
  {
   "cell_type": "markdown",
   "metadata": {},
   "source": [
    "Асимптотика d случае со списком ребер примерно $O(n)$\n",
    "Алгоритм просматривает каждое ребро один раз, и выполняет для каждой вершины константное число действий. Обозначая число вершин как V, а ребер — как E, получаем, что время работы — $O(V+E)$\n",
    "В случае с матрицей смежности $O(n^2)$, поскольку для каждой вершины мы пройдемся по всей строке матрицы смежности. Всего вершин n, элементов в строке матрицы - тоже n."
   ]
  },
  {
   "cell_type": "markdown",
   "metadata": {},
   "source": [
    "#### Задание 5"
   ]
  },
  {
   "cell_type": "markdown",
   "metadata": {},
   "source": [
    "Отношение порядка задается рефлексивностью, антисимметричностью и транзитивностью. Проверим все три свойства. "
   ]
  },
  {
   "cell_type": "markdown",
   "metadata": {},
   "source": [
    "$(x_1,y_1)R(x_1,y_1)=x_1\\le x_1,\\; y_1\\le y_1$, что, очевидно, истина, а значит рефлексивность выполняется. "
   ]
  },
  {
   "cell_type": "markdown",
   "metadata": {},
   "source": [
    "Предположим, что антисимметричность не выполняется, тогда $\\exists x_1,\\; y_1, \\; x_2, \\; y_2: x_1\\le x_2, \\; y_1\\le y_2,$ при этом  $x_2 \\le x_1,\\; y_2 \\le y_1$\n",
    "Данная система выполняется только в случае, если $x_1=x_2, \\; y_1=y_2$, то есть если элементы равны. То есть антисимметричность все равно выполняется."
   ]
  },
  {
   "cell_type": "markdown",
   "metadata": {},
   "source": [
    "Докажем транзитивность. Пусть $(x_1,y_1)R(x_2,y_2)$ и $(x_2,y_2)R(x_3,y_3)$. Тогда получается, что $x_1\\le x_2, \\; x_2\\le x_3,\\; y_1\\le y_2, \\; y_2\\le y_3$. Отсюда выводится, что $x_1\\le x_3, \\; y_1 \\le y_3$, а значит транзитивность выполняется."
   ]
  },
  {
   "cell_type": "markdown",
   "metadata": {},
   "source": [
    "Найдем максимальные элементы на множестве $A_1 = \\{(x,y)|x\\le 3,\\; y\\le 4\\}$. Иными словами, это такие пары $(x,y)$, что нет таких $(x_1,y_1): (x_1,y_1)R(x,y)$. Под такое определение подходит лишь пара $(3,4)$. Минимальных же элементов, для которых не существует $(x_1,y_1): (x,y)R(x_1,y_1)$, на данном множестве нет."
   ]
  },
  {
   "cell_type": "markdown",
   "metadata": {},
   "source": [
    "Найдем максимальные элементы на множестве $A_1 = \\{(x,y)|x^2+y^2\\le 4\\}$. Иными словами, это такие пары $(x,y)$, что нет таких $(x_1,y_1): (x_1,y_1)R(x,y)$. Под такое определение подходит лишь множество $\\{(x,y)|x^2+y^2 = 4, x\\ge0, y\\ge0\\}$. Минимальные же элементы, для которых не существует $(x_1,y_1): (x,y)R(x_1,y_1)$, на данном множестве - это $\\{(x,y)|x^2+y^2 = 4, x\\le0, y\\le0\\}$."
   ]
  },
  {
   "cell_type": "code",
   "execution_count": null,
   "metadata": {
    "collapsed": true
   },
   "outputs": [],
   "source": []
  }
 ],
 "metadata": {
  "kernelspec": {
   "display_name": "Python 3",
   "language": "python",
   "name": "python3"
  },
  "language_info": {
   "codemirror_mode": {
    "name": "ipython",
    "version": 3
   },
   "file_extension": ".py",
   "mimetype": "text/x-python",
   "name": "python",
   "nbconvert_exporter": "python",
   "pygments_lexer": "ipython3",
   "version": "3.6.1"
  }
 },
 "nbformat": 4,
 "nbformat_minor": 2
}
