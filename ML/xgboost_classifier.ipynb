{
 "cells": [
  {
   "cell_type": "code",
   "execution_count": 1,
   "metadata": {
    "collapsed": true
   },
   "outputs": [],
   "source": [
    "import numpy as np\n",
    "import pandas as pd\n",
    "import scipy as sp"
   ]
  },
  {
   "cell_type": "code",
   "execution_count": 2,
   "metadata": {
    "collapsed": true
   },
   "outputs": [],
   "source": [
    "feature = pd.read_csv('train_data.csv')\n",
    "target = pd.read_csv('train_target.csv', header=None)"
   ]
  },
  {
   "cell_type": "code",
   "execution_count": 3,
   "metadata": {},
   "outputs": [
    {
     "data": {
      "text/html": [
       "<div>\n",
       "<table border=\"1\" class=\"dataframe\">\n",
       "  <thead>\n",
       "    <tr style=\"text-align: right;\">\n",
       "      <th></th>\n",
       "      <th>age</th>\n",
       "      <th>job</th>\n",
       "      <th>marital</th>\n",
       "      <th>education</th>\n",
       "      <th>default</th>\n",
       "      <th>housing</th>\n",
       "      <th>loan</th>\n",
       "      <th>contact</th>\n",
       "      <th>month</th>\n",
       "      <th>day_of_week</th>\n",
       "      <th>duration</th>\n",
       "      <th>campaign</th>\n",
       "      <th>pdays</th>\n",
       "      <th>previous</th>\n",
       "      <th>poutcome</th>\n",
       "      <th>emp.var.rate</th>\n",
       "      <th>cons.price.idx</th>\n",
       "      <th>cons.conf.idx</th>\n",
       "      <th>euribor3m</th>\n",
       "      <th>nr.employed</th>\n",
       "    </tr>\n",
       "  </thead>\n",
       "  <tbody>\n",
       "    <tr>\n",
       "      <th>0</th>\n",
       "      <td>26</td>\n",
       "      <td>student</td>\n",
       "      <td>single</td>\n",
       "      <td>high.school</td>\n",
       "      <td>no</td>\n",
       "      <td>no</td>\n",
       "      <td>no</td>\n",
       "      <td>telephone</td>\n",
       "      <td>jun</td>\n",
       "      <td>mon</td>\n",
       "      <td>901</td>\n",
       "      <td>1</td>\n",
       "      <td>999</td>\n",
       "      <td>0</td>\n",
       "      <td>nonexistent</td>\n",
       "      <td>1.4</td>\n",
       "      <td>94.465</td>\n",
       "      <td>-41.8</td>\n",
       "      <td>4.961</td>\n",
       "      <td>5228.1</td>\n",
       "    </tr>\n",
       "    <tr>\n",
       "      <th>1</th>\n",
       "      <td>46</td>\n",
       "      <td>admin.</td>\n",
       "      <td>married</td>\n",
       "      <td>university.degree</td>\n",
       "      <td>no</td>\n",
       "      <td>yes</td>\n",
       "      <td>no</td>\n",
       "      <td>cellular</td>\n",
       "      <td>aug</td>\n",
       "      <td>tue</td>\n",
       "      <td>208</td>\n",
       "      <td>2</td>\n",
       "      <td>999</td>\n",
       "      <td>0</td>\n",
       "      <td>nonexistent</td>\n",
       "      <td>1.4</td>\n",
       "      <td>93.444</td>\n",
       "      <td>-36.1</td>\n",
       "      <td>4.963</td>\n",
       "      <td>5228.1</td>\n",
       "    </tr>\n",
       "    <tr>\n",
       "      <th>2</th>\n",
       "      <td>49</td>\n",
       "      <td>blue-collar</td>\n",
       "      <td>married</td>\n",
       "      <td>basic.4y</td>\n",
       "      <td>unknown</td>\n",
       "      <td>yes</td>\n",
       "      <td>yes</td>\n",
       "      <td>telephone</td>\n",
       "      <td>jun</td>\n",
       "      <td>tue</td>\n",
       "      <td>131</td>\n",
       "      <td>5</td>\n",
       "      <td>999</td>\n",
       "      <td>0</td>\n",
       "      <td>nonexistent</td>\n",
       "      <td>1.4</td>\n",
       "      <td>94.465</td>\n",
       "      <td>-41.8</td>\n",
       "      <td>4.864</td>\n",
       "      <td>5228.1</td>\n",
       "    </tr>\n",
       "  </tbody>\n",
       "</table>\n",
       "</div>"
      ],
      "text/plain": [
       "   age          job  marital          education  default housing loan  \\\n",
       "0   26      student   single        high.school       no      no   no   \n",
       "1   46       admin.  married  university.degree       no     yes   no   \n",
       "2   49  blue-collar  married           basic.4y  unknown     yes  yes   \n",
       "\n",
       "     contact month day_of_week  duration  campaign  pdays  previous  \\\n",
       "0  telephone   jun         mon       901         1    999         0   \n",
       "1   cellular   aug         tue       208         2    999         0   \n",
       "2  telephone   jun         tue       131         5    999         0   \n",
       "\n",
       "      poutcome  emp.var.rate  cons.price.idx  cons.conf.idx  euribor3m  \\\n",
       "0  nonexistent           1.4          94.465          -41.8      4.961   \n",
       "1  nonexistent           1.4          93.444          -36.1      4.963   \n",
       "2  nonexistent           1.4          94.465          -41.8      4.864   \n",
       "\n",
       "   nr.employed  \n",
       "0       5228.1  \n",
       "1       5228.1  \n",
       "2       5228.1  "
      ]
     },
     "execution_count": 3,
     "metadata": {},
     "output_type": "execute_result"
    }
   ],
   "source": [
    "feature.head(3)"
   ]
  },
  {
   "cell_type": "code",
   "execution_count": 4,
   "metadata": {},
   "outputs": [
    {
     "data": {
      "text/plain": [
       "(27595, 20)"
      ]
     },
     "execution_count": 4,
     "metadata": {},
     "output_type": "execute_result"
    }
   ],
   "source": [
    "feature.shape"
   ]
  },
  {
   "cell_type": "code",
   "execution_count": 5,
   "metadata": {},
   "outputs": [
    {
     "data": {
      "text/plain": [
       "(27595, 1)"
      ]
     },
     "execution_count": 5,
     "metadata": {},
     "output_type": "execute_result"
    }
   ],
   "source": [
    "target.shape"
   ]
  },
  {
   "cell_type": "markdown",
   "metadata": {},
   "source": [
    "удалим duration, тк он не нужен в обучении (см описание признаков):"
   ]
  },
  {
   "cell_type": "code",
   "execution_count": 6,
   "metadata": {
    "collapsed": true
   },
   "outputs": [],
   "source": [
    "feature.drop(['duration'], axis=1, inplace=True)"
   ]
  },
  {
   "cell_type": "code",
   "execution_count": 7,
   "metadata": {
    "collapsed": true
   },
   "outputs": [],
   "source": [
    "feature_categorial = feature[['job', 'marital', 'education', 'default', 'housing', 'loan', 'contact', 'month', 'day_of_week', 'poutcome']]"
   ]
  },
  {
   "cell_type": "code",
   "execution_count": 8,
   "metadata": {},
   "outputs": [
    {
     "data": {
      "text/plain": [
       "27595"
      ]
     },
     "execution_count": 8,
     "metadata": {},
     "output_type": "execute_result"
    }
   ],
   "source": [
    "feature_categorial.shape[0]"
   ]
  },
  {
   "cell_type": "markdown",
   "metadata": {},
   "source": [
    "превратим категориальные признаки в бинарные:"
   ]
  },
  {
   "cell_type": "code",
   "execution_count": 9,
   "metadata": {},
   "outputs": [
    {
     "data": {
      "text/html": [
       "<div>\n",
       "<table border=\"1\" class=\"dataframe\">\n",
       "  <thead>\n",
       "    <tr style=\"text-align: right;\">\n",
       "      <th></th>\n",
       "      <th>job_admin.</th>\n",
       "      <th>job_blue-collar</th>\n",
       "      <th>job_entrepreneur</th>\n",
       "      <th>job_housemaid</th>\n",
       "      <th>job_management</th>\n",
       "      <th>job_retired</th>\n",
       "      <th>job_self-employed</th>\n",
       "      <th>job_services</th>\n",
       "      <th>job_student</th>\n",
       "      <th>job_technician</th>\n",
       "      <th>...</th>\n",
       "      <th>month_oct</th>\n",
       "      <th>month_sep</th>\n",
       "      <th>day_of_week_fri</th>\n",
       "      <th>day_of_week_mon</th>\n",
       "      <th>day_of_week_thu</th>\n",
       "      <th>day_of_week_tue</th>\n",
       "      <th>day_of_week_wed</th>\n",
       "      <th>poutcome_failure</th>\n",
       "      <th>poutcome_nonexistent</th>\n",
       "      <th>poutcome_success</th>\n",
       "    </tr>\n",
       "  </thead>\n",
       "  <tbody>\n",
       "    <tr>\n",
       "      <th>0</th>\n",
       "      <td>0</td>\n",
       "      <td>0</td>\n",
       "      <td>0</td>\n",
       "      <td>0</td>\n",
       "      <td>0</td>\n",
       "      <td>0</td>\n",
       "      <td>0</td>\n",
       "      <td>0</td>\n",
       "      <td>1</td>\n",
       "      <td>0</td>\n",
       "      <td>...</td>\n",
       "      <td>0</td>\n",
       "      <td>0</td>\n",
       "      <td>0</td>\n",
       "      <td>1</td>\n",
       "      <td>0</td>\n",
       "      <td>0</td>\n",
       "      <td>0</td>\n",
       "      <td>0</td>\n",
       "      <td>1</td>\n",
       "      <td>0</td>\n",
       "    </tr>\n",
       "    <tr>\n",
       "      <th>1</th>\n",
       "      <td>1</td>\n",
       "      <td>0</td>\n",
       "      <td>0</td>\n",
       "      <td>0</td>\n",
       "      <td>0</td>\n",
       "      <td>0</td>\n",
       "      <td>0</td>\n",
       "      <td>0</td>\n",
       "      <td>0</td>\n",
       "      <td>0</td>\n",
       "      <td>...</td>\n",
       "      <td>0</td>\n",
       "      <td>0</td>\n",
       "      <td>0</td>\n",
       "      <td>0</td>\n",
       "      <td>0</td>\n",
       "      <td>1</td>\n",
       "      <td>0</td>\n",
       "      <td>0</td>\n",
       "      <td>1</td>\n",
       "      <td>0</td>\n",
       "    </tr>\n",
       "    <tr>\n",
       "      <th>2</th>\n",
       "      <td>0</td>\n",
       "      <td>1</td>\n",
       "      <td>0</td>\n",
       "      <td>0</td>\n",
       "      <td>0</td>\n",
       "      <td>0</td>\n",
       "      <td>0</td>\n",
       "      <td>0</td>\n",
       "      <td>0</td>\n",
       "      <td>0</td>\n",
       "      <td>...</td>\n",
       "      <td>0</td>\n",
       "      <td>0</td>\n",
       "      <td>0</td>\n",
       "      <td>0</td>\n",
       "      <td>0</td>\n",
       "      <td>1</td>\n",
       "      <td>0</td>\n",
       "      <td>0</td>\n",
       "      <td>1</td>\n",
       "      <td>0</td>\n",
       "    </tr>\n",
       "  </tbody>\n",
       "</table>\n",
       "<p>3 rows × 53 columns</p>\n",
       "</div>"
      ],
      "text/plain": [
       "   job_admin.  job_blue-collar  job_entrepreneur  job_housemaid  \\\n",
       "0           0                0                 0              0   \n",
       "1           1                0                 0              0   \n",
       "2           0                1                 0              0   \n",
       "\n",
       "   job_management  job_retired  job_self-employed  job_services  job_student  \\\n",
       "0               0            0                  0             0            1   \n",
       "1               0            0                  0             0            0   \n",
       "2               0            0                  0             0            0   \n",
       "\n",
       "   job_technician        ...         month_oct  month_sep  day_of_week_fri  \\\n",
       "0               0        ...                 0          0                0   \n",
       "1               0        ...                 0          0                0   \n",
       "2               0        ...                 0          0                0   \n",
       "\n",
       "   day_of_week_mon  day_of_week_thu  day_of_week_tue  day_of_week_wed  \\\n",
       "0                1                0                0                0   \n",
       "1                0                0                1                0   \n",
       "2                0                0                1                0   \n",
       "\n",
       "   poutcome_failure  poutcome_nonexistent  poutcome_success  \n",
       "0                 0                     1                 0  \n",
       "1                 0                     1                 0  \n",
       "2                 0                     1                 0  \n",
       "\n",
       "[3 rows x 53 columns]"
      ]
     },
     "execution_count": 9,
     "metadata": {},
     "output_type": "execute_result"
    }
   ],
   "source": [
    "feature_categorial = pd.get_dummies(feature[['job', 'marital', 'education', 'default', 'housing', 'loan', 'contact', 'month', 'day_of_week', 'poutcome']])\n",
    "feature_categorial.head(3)"
   ]
  },
  {
   "cell_type": "code",
   "execution_count": 10,
   "metadata": {},
   "outputs": [
    {
     "data": {
      "text/plain": [
       "Int64Index([0], dtype='int64')"
      ]
     },
     "execution_count": 10,
     "metadata": {},
     "output_type": "execute_result"
    }
   ],
   "source": [
    "target.columns"
   ]
  },
  {
   "cell_type": "code",
   "execution_count": 11,
   "metadata": {
    "collapsed": true
   },
   "outputs": [],
   "source": [
    "feature.drop(['job', 'marital', 'education', 'default', 'housing', 'loan', 'contact', 'month', 'day_of_week', 'poutcome'], axis=1, inplace=True)"
   ]
  },
  {
   "cell_type": "code",
   "execution_count": 12,
   "metadata": {},
   "outputs": [
    {
     "name": "stdout",
     "output_type": "stream",
     "text": [
      "(27595, 62)\n",
      "Index(['age', 'campaign', 'pdays', 'previous', 'emp.var.rate',\n",
      "       'cons.price.idx', 'cons.conf.idx', 'euribor3m', 'nr.employed',\n",
      "       'job_admin.', 'job_blue-collar', 'job_entrepreneur', 'job_housemaid',\n",
      "       'job_management', 'job_retired', 'job_self-employed', 'job_services',\n",
      "       'job_student', 'job_technician', 'job_unemployed', 'job_unknown',\n",
      "       'marital_divorced', 'marital_married', 'marital_single',\n",
      "       'marital_unknown', 'education_basic.4y', 'education_basic.6y',\n",
      "       'education_basic.9y', 'education_high.school', 'education_illiterate',\n",
      "       'education_professional.course', 'education_university.degree',\n",
      "       'education_unknown', 'default_no', 'default_unknown', 'default_yes',\n",
      "       'housing_no', 'housing_unknown', 'housing_yes', 'loan_no',\n",
      "       'loan_unknown', 'loan_yes', 'contact_cellular', 'contact_telephone',\n",
      "       'month_apr', 'month_aug', 'month_dec', 'month_jul', 'month_jun',\n",
      "       'month_mar', 'month_may', 'month_nov', 'month_oct', 'month_sep',\n",
      "       'day_of_week_fri', 'day_of_week_mon', 'day_of_week_thu',\n",
      "       'day_of_week_tue', 'day_of_week_wed', 'poutcome_failure',\n",
      "       'poutcome_nonexistent', 'poutcome_success'],\n",
      "      dtype='object')\n"
     ]
    }
   ],
   "source": [
    "feature = pd.concat((feature, feature_categorial), axis=1)\n",
    "feature = pd.DataFrame(feature)\n",
    "print (feature.shape)\n",
    "print (feature.columns)"
   ]
  },
  {
   "cell_type": "code",
   "execution_count": 13,
   "metadata": {},
   "outputs": [
    {
     "data": {
      "text/html": [
       "<div>\n",
       "<table border=\"1\" class=\"dataframe\">\n",
       "  <thead>\n",
       "    <tr style=\"text-align: right;\">\n",
       "      <th></th>\n",
       "      <th>age</th>\n",
       "      <th>campaign</th>\n",
       "      <th>pdays</th>\n",
       "      <th>previous</th>\n",
       "      <th>emp.var.rate</th>\n",
       "      <th>cons.price.idx</th>\n",
       "      <th>cons.conf.idx</th>\n",
       "      <th>euribor3m</th>\n",
       "      <th>nr.employed</th>\n",
       "      <th>job_admin.</th>\n",
       "      <th>...</th>\n",
       "      <th>month_oct</th>\n",
       "      <th>month_sep</th>\n",
       "      <th>day_of_week_fri</th>\n",
       "      <th>day_of_week_mon</th>\n",
       "      <th>day_of_week_thu</th>\n",
       "      <th>day_of_week_tue</th>\n",
       "      <th>day_of_week_wed</th>\n",
       "      <th>poutcome_failure</th>\n",
       "      <th>poutcome_nonexistent</th>\n",
       "      <th>poutcome_success</th>\n",
       "    </tr>\n",
       "  </thead>\n",
       "  <tbody>\n",
       "    <tr>\n",
       "      <th>0</th>\n",
       "      <td>26</td>\n",
       "      <td>1</td>\n",
       "      <td>999</td>\n",
       "      <td>0</td>\n",
       "      <td>1.4</td>\n",
       "      <td>94.465</td>\n",
       "      <td>-41.8</td>\n",
       "      <td>4.961</td>\n",
       "      <td>5228.1</td>\n",
       "      <td>0</td>\n",
       "      <td>...</td>\n",
       "      <td>0</td>\n",
       "      <td>0</td>\n",
       "      <td>0</td>\n",
       "      <td>1</td>\n",
       "      <td>0</td>\n",
       "      <td>0</td>\n",
       "      <td>0</td>\n",
       "      <td>0</td>\n",
       "      <td>1</td>\n",
       "      <td>0</td>\n",
       "    </tr>\n",
       "    <tr>\n",
       "      <th>1</th>\n",
       "      <td>46</td>\n",
       "      <td>2</td>\n",
       "      <td>999</td>\n",
       "      <td>0</td>\n",
       "      <td>1.4</td>\n",
       "      <td>93.444</td>\n",
       "      <td>-36.1</td>\n",
       "      <td>4.963</td>\n",
       "      <td>5228.1</td>\n",
       "      <td>1</td>\n",
       "      <td>...</td>\n",
       "      <td>0</td>\n",
       "      <td>0</td>\n",
       "      <td>0</td>\n",
       "      <td>0</td>\n",
       "      <td>0</td>\n",
       "      <td>1</td>\n",
       "      <td>0</td>\n",
       "      <td>0</td>\n",
       "      <td>1</td>\n",
       "      <td>0</td>\n",
       "    </tr>\n",
       "    <tr>\n",
       "      <th>2</th>\n",
       "      <td>49</td>\n",
       "      <td>5</td>\n",
       "      <td>999</td>\n",
       "      <td>0</td>\n",
       "      <td>1.4</td>\n",
       "      <td>94.465</td>\n",
       "      <td>-41.8</td>\n",
       "      <td>4.864</td>\n",
       "      <td>5228.1</td>\n",
       "      <td>0</td>\n",
       "      <td>...</td>\n",
       "      <td>0</td>\n",
       "      <td>0</td>\n",
       "      <td>0</td>\n",
       "      <td>0</td>\n",
       "      <td>0</td>\n",
       "      <td>1</td>\n",
       "      <td>0</td>\n",
       "      <td>0</td>\n",
       "      <td>1</td>\n",
       "      <td>0</td>\n",
       "    </tr>\n",
       "    <tr>\n",
       "      <th>3</th>\n",
       "      <td>31</td>\n",
       "      <td>1</td>\n",
       "      <td>999</td>\n",
       "      <td>0</td>\n",
       "      <td>-2.9</td>\n",
       "      <td>92.469</td>\n",
       "      <td>-33.6</td>\n",
       "      <td>1.044</td>\n",
       "      <td>5076.2</td>\n",
       "      <td>0</td>\n",
       "      <td>...</td>\n",
       "      <td>0</td>\n",
       "      <td>0</td>\n",
       "      <td>0</td>\n",
       "      <td>0</td>\n",
       "      <td>0</td>\n",
       "      <td>1</td>\n",
       "      <td>0</td>\n",
       "      <td>0</td>\n",
       "      <td>1</td>\n",
       "      <td>0</td>\n",
       "    </tr>\n",
       "    <tr>\n",
       "      <th>4</th>\n",
       "      <td>42</td>\n",
       "      <td>1</td>\n",
       "      <td>999</td>\n",
       "      <td>0</td>\n",
       "      <td>-0.1</td>\n",
       "      <td>93.200</td>\n",
       "      <td>-42.0</td>\n",
       "      <td>4.191</td>\n",
       "      <td>5195.8</td>\n",
       "      <td>0</td>\n",
       "      <td>...</td>\n",
       "      <td>0</td>\n",
       "      <td>0</td>\n",
       "      <td>0</td>\n",
       "      <td>1</td>\n",
       "      <td>0</td>\n",
       "      <td>0</td>\n",
       "      <td>0</td>\n",
       "      <td>0</td>\n",
       "      <td>1</td>\n",
       "      <td>0</td>\n",
       "    </tr>\n",
       "  </tbody>\n",
       "</table>\n",
       "<p>5 rows × 62 columns</p>\n",
       "</div>"
      ],
      "text/plain": [
       "   age  campaign  pdays  previous  emp.var.rate  cons.price.idx  \\\n",
       "0   26         1    999         0           1.4          94.465   \n",
       "1   46         2    999         0           1.4          93.444   \n",
       "2   49         5    999         0           1.4          94.465   \n",
       "3   31         1    999         0          -2.9          92.469   \n",
       "4   42         1    999         0          -0.1          93.200   \n",
       "\n",
       "   cons.conf.idx  euribor3m  nr.employed  job_admin.        ...         \\\n",
       "0          -41.8      4.961       5228.1           0        ...          \n",
       "1          -36.1      4.963       5228.1           1        ...          \n",
       "2          -41.8      4.864       5228.1           0        ...          \n",
       "3          -33.6      1.044       5076.2           0        ...          \n",
       "4          -42.0      4.191       5195.8           0        ...          \n",
       "\n",
       "   month_oct  month_sep  day_of_week_fri  day_of_week_mon  day_of_week_thu  \\\n",
       "0          0          0                0                1                0   \n",
       "1          0          0                0                0                0   \n",
       "2          0          0                0                0                0   \n",
       "3          0          0                0                0                0   \n",
       "4          0          0                0                1                0   \n",
       "\n",
       "   day_of_week_tue  day_of_week_wed  poutcome_failure  poutcome_nonexistent  \\\n",
       "0                0                0                 0                     1   \n",
       "1                1                0                 0                     1   \n",
       "2                1                0                 0                     1   \n",
       "3                1                0                 0                     1   \n",
       "4                0                0                 0                     1   \n",
       "\n",
       "   poutcome_success  \n",
       "0                 0  \n",
       "1                 0  \n",
       "2                 0  \n",
       "3                 0  \n",
       "4                 0  \n",
       "\n",
       "[5 rows x 62 columns]"
      ]
     },
     "execution_count": 13,
     "metadata": {},
     "output_type": "execute_result"
    }
   ],
   "source": [
    "feature.head()"
   ]
  },
  {
   "cell_type": "markdown",
   "metadata": {},
   "source": [
    "IMBALANCED CLASSES"
   ]
  },
  {
   "cell_type": "code",
   "execution_count": 14,
   "metadata": {},
   "outputs": [
    {
     "data": {
      "text/plain": [
       "0    24481\n",
       "1     3114\n",
       "Name: 0, dtype: int64"
      ]
     },
     "execution_count": 14,
     "metadata": {},
     "output_type": "execute_result"
    }
   ],
   "source": [
    "target[0].value_counts()"
   ]
  },
  {
   "cell_type": "code",
   "execution_count": 15,
   "metadata": {
    "collapsed": true
   },
   "outputs": [],
   "source": [
    "X_train=feature\n",
    "y_train=target"
   ]
  },
  {
   "cell_type": "code",
   "execution_count": 17,
   "metadata": {},
   "outputs": [
    {
     "data": {
      "text/plain": [
       "pandas.core.frame.DataFrame"
      ]
     },
     "execution_count": 17,
     "metadata": {},
     "output_type": "execute_result"
    }
   ],
   "source": [
    "type(y_train)"
   ]
  },
  {
   "cell_type": "markdown",
   "metadata": {},
   "source": [
    "### XGBoost, fitting parameters with grid search and prediction"
   ]
  },
  {
   "cell_type": "code",
   "execution_count": 40,
   "metadata": {},
   "outputs": [
    {
     "name": "stderr",
     "output_type": "stream",
     "text": [
      "C:\\Users\\Victoria\\Anaconda3\\lib\\site-packages\\sklearn\\cross_validation.py:44: DeprecationWarning: This module was deprecated in version 0.18 in favor of the model_selection module into which all the refactored classes and functions are moved. Also note that the interface of the new CV iterators are different from that of this module. This module will be removed in 0.20.\n",
      "  \"This module will be removed in 0.20.\", DeprecationWarning)\n",
      "C:\\Users\\Victoria\\Anaconda3\\lib\\site-packages\\sklearn\\grid_search.py:43: DeprecationWarning: This module was deprecated in version 0.18 in favor of the model_selection module into which all the refactored classes and functions are moved. This module will be removed in 0.20.\n",
      "  DeprecationWarning)\n"
     ]
    }
   ],
   "source": [
    "from sklearn.preprocessing import LabelEncoder\n",
    "from sklearn.cross_validation import StratifiedKFold\n",
    "from sklearn.metrics import roc_auc_score\n",
    "from sklearn.metrics import accuracy_score\n",
    "from sklearn.cross_validation import StratifiedShuffleSplit\n",
    "from sklearn.grid_search import GridSearchCV"
   ]
  },
  {
   "cell_type": "code",
   "execution_count": 42,
   "metadata": {
    "collapsed": true
   },
   "outputs": [],
   "source": [
    "import xgboost as xgb"
   ]
  },
  {
   "cell_type": "code",
   "execution_count": 43,
   "metadata": {
    "collapsed": true
   },
   "outputs": [],
   "source": [
    "# xgb.XGBClassifier"
   ]
  },
  {
   "cell_type": "code",
   "execution_count": 44,
   "metadata": {},
   "outputs": [
    {
     "data": {
      "text/plain": [
       "27595"
      ]
     },
     "execution_count": 44,
     "metadata": {},
     "output_type": "execute_result"
    }
   ],
   "source": [
    "y_train.shape[0]"
   ]
  },
  {
   "cell_type": "code",
   "execution_count": 45,
   "metadata": {
    "collapsed": true
   },
   "outputs": [],
   "source": [
    "model = xgb.XGBClassifier(subsample=0.8, colsample_bytree=0.5)"
   ]
  },
  {
   "cell_type": "code",
   "execution_count": 46,
   "metadata": {},
   "outputs": [
    {
     "name": "stderr",
     "output_type": "stream",
     "text": [
      "C:\\Users\\Victoria\\Anaconda3\\lib\\site-packages\\sklearn\\preprocessing\\label.py:125: DataConversionWarning: A column-vector y was passed when a 1d array was expected. Please change the shape of y to (n_samples, ), for example using ravel().\n",
      "  y = column_or_1d(y, warn=True)\n"
     ]
    }
   ],
   "source": [
    "model = xgb.XGBClassifier()\n",
    "label_encoded_y = LabelEncoder().fit_transform(y_train)\n",
    "max_depth = np.linspace(1,5,5,dtype=int)\n",
    "n_estimators = np.linspace(120,550,10,dtype=int)\n",
    "min_child_weight_range = np.linspace(1,5,5,dtype=int)"
   ]
  },
  {
   "cell_type": "code",
   "execution_count": null,
   "metadata": {
    "collapsed": true
   },
   "outputs": [],
   "source": []
  },
  {
   "cell_type": "code",
   "execution_count": 69,
   "metadata": {},
   "outputs": [
    {
     "name": "stdout",
     "output_type": "stream",
     "text": [
      "Fitting 5 folds for each of 250 candidates, totalling 1250 fits\n"
     ]
    },
    {
     "name": "stderr",
     "output_type": "stream",
     "text": [
      "[Parallel(n_jobs=-1)]: Done  42 tasks      | elapsed:  1.9min\n",
      "[Parallel(n_jobs=-1)]: Done 192 tasks      | elapsed:  8.9min\n",
      "[Parallel(n_jobs=-1)]: Done 442 tasks      | elapsed: 30.5min\n",
      "[Parallel(n_jobs=-1)]: Done 792 tasks      | elapsed: 79.8min\n",
      "[Parallel(n_jobs=-1)]: Done 1242 tasks      | elapsed: 178.6min\n",
      "[Parallel(n_jobs=-1)]: Done 1250 out of 1250 | elapsed: 180.2min finished\n"
     ]
    },
    {
     "name": "stdout",
     "output_type": "stream",
     "text": [
      "Best: 0.948645 using {'n_estimators': 275, 'max_depth': 4, 'min_child_weight': 2}\n",
      "0.934320 (0.005450) with: {'n_estimators': 120, 'max_depth': 1, 'min_child_weight': 1}\n",
      "0.935473 (0.005406) with: {'n_estimators': 151, 'max_depth': 1, 'min_child_weight': 1}\n",
      "0.936281 (0.005243) with: {'n_estimators': 182, 'max_depth': 1, 'min_child_weight': 1}\n",
      "0.936864 (0.005076) with: {'n_estimators': 213, 'max_depth': 1, 'min_child_weight': 1}\n",
      "0.937210 (0.005000) with: {'n_estimators': 244, 'max_depth': 1, 'min_child_weight': 1}\n",
      "0.937517 (0.004850) with: {'n_estimators': 275, 'max_depth': 1, 'min_child_weight': 1}\n",
      "0.937768 (0.004741) with: {'n_estimators': 306, 'max_depth': 1, 'min_child_weight': 1}\n",
      "0.938020 (0.004613) with: {'n_estimators': 337, 'max_depth': 1, 'min_child_weight': 1}\n",
      "0.938225 (0.004487) with: {'n_estimators': 368, 'max_depth': 1, 'min_child_weight': 1}\n",
      "0.938415 (0.004381) with: {'n_estimators': 400, 'max_depth': 1, 'min_child_weight': 1}\n",
      "0.934320 (0.005450) with: {'n_estimators': 120, 'max_depth': 1, 'min_child_weight': 2}\n",
      "0.935473 (0.005406) with: {'n_estimators': 151, 'max_depth': 1, 'min_child_weight': 2}\n",
      "0.936281 (0.005243) with: {'n_estimators': 182, 'max_depth': 1, 'min_child_weight': 2}\n",
      "0.936864 (0.005076) with: {'n_estimators': 213, 'max_depth': 1, 'min_child_weight': 2}\n",
      "0.937210 (0.005000) with: {'n_estimators': 244, 'max_depth': 1, 'min_child_weight': 2}\n",
      "0.937517 (0.004850) with: {'n_estimators': 275, 'max_depth': 1, 'min_child_weight': 2}\n",
      "0.937768 (0.004741) with: {'n_estimators': 306, 'max_depth': 1, 'min_child_weight': 2}\n",
      "0.938020 (0.004613) with: {'n_estimators': 337, 'max_depth': 1, 'min_child_weight': 2}\n",
      "0.938225 (0.004487) with: {'n_estimators': 368, 'max_depth': 1, 'min_child_weight': 2}\n",
      "0.938415 (0.004381) with: {'n_estimators': 400, 'max_depth': 1, 'min_child_weight': 2}\n",
      "0.934320 (0.005450) with: {'n_estimators': 120, 'max_depth': 1, 'min_child_weight': 3}\n",
      "0.935473 (0.005406) with: {'n_estimators': 151, 'max_depth': 1, 'min_child_weight': 3}\n",
      "0.936281 (0.005243) with: {'n_estimators': 182, 'max_depth': 1, 'min_child_weight': 3}\n",
      "0.936864 (0.005076) with: {'n_estimators': 213, 'max_depth': 1, 'min_child_weight': 3}\n",
      "0.937210 (0.005000) with: {'n_estimators': 244, 'max_depth': 1, 'min_child_weight': 3}\n",
      "0.937517 (0.004850) with: {'n_estimators': 275, 'max_depth': 1, 'min_child_weight': 3}\n",
      "0.937768 (0.004741) with: {'n_estimators': 306, 'max_depth': 1, 'min_child_weight': 3}\n",
      "0.938020 (0.004613) with: {'n_estimators': 337, 'max_depth': 1, 'min_child_weight': 3}\n",
      "0.938225 (0.004487) with: {'n_estimators': 368, 'max_depth': 1, 'min_child_weight': 3}\n",
      "0.938417 (0.004383) with: {'n_estimators': 400, 'max_depth': 1, 'min_child_weight': 3}\n",
      "0.934320 (0.005450) with: {'n_estimators': 120, 'max_depth': 1, 'min_child_weight': 4}\n",
      "0.935473 (0.005406) with: {'n_estimators': 151, 'max_depth': 1, 'min_child_weight': 4}\n",
      "0.936281 (0.005243) with: {'n_estimators': 182, 'max_depth': 1, 'min_child_weight': 4}\n",
      "0.936864 (0.005076) with: {'n_estimators': 213, 'max_depth': 1, 'min_child_weight': 4}\n",
      "0.937210 (0.005000) with: {'n_estimators': 244, 'max_depth': 1, 'min_child_weight': 4}\n",
      "0.937517 (0.004850) with: {'n_estimators': 275, 'max_depth': 1, 'min_child_weight': 4}\n",
      "0.937768 (0.004741) with: {'n_estimators': 306, 'max_depth': 1, 'min_child_weight': 4}\n",
      "0.938020 (0.004613) with: {'n_estimators': 337, 'max_depth': 1, 'min_child_weight': 4}\n",
      "0.938221 (0.004492) with: {'n_estimators': 368, 'max_depth': 1, 'min_child_weight': 4}\n",
      "0.938401 (0.004403) with: {'n_estimators': 400, 'max_depth': 1, 'min_child_weight': 4}\n",
      "0.934320 (0.005450) with: {'n_estimators': 120, 'max_depth': 1, 'min_child_weight': 5}\n",
      "0.935473 (0.005406) with: {'n_estimators': 151, 'max_depth': 1, 'min_child_weight': 5}\n",
      "0.936281 (0.005243) with: {'n_estimators': 182, 'max_depth': 1, 'min_child_weight': 5}\n",
      "0.936864 (0.005076) with: {'n_estimators': 213, 'max_depth': 1, 'min_child_weight': 5}\n",
      "0.937210 (0.005000) with: {'n_estimators': 244, 'max_depth': 1, 'min_child_weight': 5}\n",
      "0.937517 (0.004850) with: {'n_estimators': 275, 'max_depth': 1, 'min_child_weight': 5}\n",
      "0.937766 (0.004744) with: {'n_estimators': 306, 'max_depth': 1, 'min_child_weight': 5}\n",
      "0.938016 (0.004619) with: {'n_estimators': 337, 'max_depth': 1, 'min_child_weight': 5}\n",
      "0.938212 (0.004502) with: {'n_estimators': 368, 'max_depth': 1, 'min_child_weight': 5}\n",
      "0.938381 (0.004420) with: {'n_estimators': 400, 'max_depth': 1, 'min_child_weight': 5}\n",
      "0.942415 (0.003797) with: {'n_estimators': 120, 'max_depth': 2, 'min_child_weight': 1}\n",
      "0.943165 (0.003551) with: {'n_estimators': 151, 'max_depth': 2, 'min_child_weight': 1}\n",
      "0.944388 (0.002949) with: {'n_estimators': 182, 'max_depth': 2, 'min_child_weight': 1}\n",
      "0.945215 (0.002747) with: {'n_estimators': 213, 'max_depth': 2, 'min_child_weight': 1}\n",
      "0.945776 (0.002656) with: {'n_estimators': 244, 'max_depth': 2, 'min_child_weight': 1}\n",
      "0.946227 (0.002503) with: {'n_estimators': 275, 'max_depth': 2, 'min_child_weight': 1}\n",
      "0.946579 (0.002413) with: {'n_estimators': 306, 'max_depth': 2, 'min_child_weight': 1}\n",
      "0.946743 (0.002394) with: {'n_estimators': 337, 'max_depth': 2, 'min_child_weight': 1}\n",
      "0.946999 (0.002375) with: {'n_estimators': 368, 'max_depth': 2, 'min_child_weight': 1}\n",
      "0.947143 (0.002330) with: {'n_estimators': 400, 'max_depth': 2, 'min_child_weight': 1}\n",
      "0.942436 (0.003961) with: {'n_estimators': 120, 'max_depth': 2, 'min_child_weight': 2}\n",
      "0.943127 (0.003677) with: {'n_estimators': 151, 'max_depth': 2, 'min_child_weight': 2}\n",
      "0.944203 (0.003369) with: {'n_estimators': 182, 'max_depth': 2, 'min_child_weight': 2}\n",
      "0.944966 (0.003163) with: {'n_estimators': 213, 'max_depth': 2, 'min_child_weight': 2}\n",
      "0.946022 (0.002604) with: {'n_estimators': 244, 'max_depth': 2, 'min_child_weight': 2}\n",
      "0.946385 (0.002488) with: {'n_estimators': 275, 'max_depth': 2, 'min_child_weight': 2}\n",
      "0.946803 (0.002476) with: {'n_estimators': 306, 'max_depth': 2, 'min_child_weight': 2}\n",
      "0.947135 (0.002358) with: {'n_estimators': 337, 'max_depth': 2, 'min_child_weight': 2}\n",
      "0.947351 (0.002367) with: {'n_estimators': 368, 'max_depth': 2, 'min_child_weight': 2}\n",
      "0.947494 (0.002360) with: {'n_estimators': 400, 'max_depth': 2, 'min_child_weight': 2}\n",
      "0.942151 (0.003846) with: {'n_estimators': 120, 'max_depth': 2, 'min_child_weight': 3}\n",
      "0.942928 (0.003740) with: {'n_estimators': 151, 'max_depth': 2, 'min_child_weight': 3}\n",
      "0.943642 (0.003485) with: {'n_estimators': 182, 'max_depth': 2, 'min_child_weight': 3}\n",
      "0.944558 (0.003422) with: {'n_estimators': 213, 'max_depth': 2, 'min_child_weight': 3}\n",
      "0.945331 (0.003117) with: {'n_estimators': 244, 'max_depth': 2, 'min_child_weight': 3}\n",
      "0.946183 (0.002667) with: {'n_estimators': 275, 'max_depth': 2, 'min_child_weight': 3}\n",
      "0.946835 (0.002423) with: {'n_estimators': 306, 'max_depth': 2, 'min_child_weight': 3}\n",
      "0.947100 (0.002432) with: {'n_estimators': 337, 'max_depth': 2, 'min_child_weight': 3}\n",
      "0.947299 (0.002446) with: {'n_estimators': 368, 'max_depth': 2, 'min_child_weight': 3}\n",
      "0.947486 (0.002426) with: {'n_estimators': 400, 'max_depth': 2, 'min_child_weight': 3}\n",
      "0.941967 (0.003867) with: {'n_estimators': 120, 'max_depth': 2, 'min_child_weight': 4}\n",
      "0.942700 (0.003592) with: {'n_estimators': 151, 'max_depth': 2, 'min_child_weight': 4}\n",
      "0.943456 (0.003314) with: {'n_estimators': 182, 'max_depth': 2, 'min_child_weight': 4}\n",
      "0.944143 (0.003130) with: {'n_estimators': 213, 'max_depth': 2, 'min_child_weight': 4}\n",
      "0.944897 (0.003218) with: {'n_estimators': 244, 'max_depth': 2, 'min_child_weight': 4}\n",
      "0.945641 (0.003211) with: {'n_estimators': 275, 'max_depth': 2, 'min_child_weight': 4}\n",
      "0.946265 (0.003034) with: {'n_estimators': 306, 'max_depth': 2, 'min_child_weight': 4}\n",
      "0.946934 (0.002598) with: {'n_estimators': 337, 'max_depth': 2, 'min_child_weight': 4}\n",
      "0.947169 (0.002483) with: {'n_estimators': 368, 'max_depth': 2, 'min_child_weight': 4}\n",
      "0.947408 (0.002254) with: {'n_estimators': 400, 'max_depth': 2, 'min_child_weight': 4}\n",
      "0.941844 (0.004059) with: {'n_estimators': 120, 'max_depth': 2, 'min_child_weight': 5}\n",
      "0.942657 (0.003662) with: {'n_estimators': 151, 'max_depth': 2, 'min_child_weight': 5}\n",
      "0.943315 (0.003476) with: {'n_estimators': 182, 'max_depth': 2, 'min_child_weight': 5}\n",
      "0.944290 (0.003262) with: {'n_estimators': 213, 'max_depth': 2, 'min_child_weight': 5}\n",
      "0.944871 (0.003058) with: {'n_estimators': 244, 'max_depth': 2, 'min_child_weight': 5}\n",
      "0.945274 (0.002847) with: {'n_estimators': 275, 'max_depth': 2, 'min_child_weight': 5}\n",
      "0.945852 (0.002741) with: {'n_estimators': 306, 'max_depth': 2, 'min_child_weight': 5}\n",
      "0.946315 (0.002778) with: {'n_estimators': 337, 'max_depth': 2, 'min_child_weight': 5}\n",
      "0.946647 (0.002766) with: {'n_estimators': 368, 'max_depth': 2, 'min_child_weight': 5}\n",
      "0.947149 (0.002446) with: {'n_estimators': 400, 'max_depth': 2, 'min_child_weight': 5}\n",
      "0.946970 (0.002812) with: {'n_estimators': 120, 'max_depth': 3, 'min_child_weight': 1}\n",
      "0.947439 (0.002472) with: {'n_estimators': 151, 'max_depth': 3, 'min_child_weight': 1}\n",
      "0.947784 (0.002454) with: {'n_estimators': 182, 'max_depth': 3, 'min_child_weight': 1}\n",
      "0.947925 (0.002494) with: {'n_estimators': 213, 'max_depth': 3, 'min_child_weight': 1}\n",
      "0.948151 (0.002341) with: {'n_estimators': 244, 'max_depth': 3, 'min_child_weight': 1}\n",
      "0.948244 (0.002393) with: {'n_estimators': 275, 'max_depth': 3, 'min_child_weight': 1}\n",
      "0.948362 (0.002280) with: {'n_estimators': 306, 'max_depth': 3, 'min_child_weight': 1}\n",
      "0.948476 (0.002076) with: {'n_estimators': 337, 'max_depth': 3, 'min_child_weight': 1}\n",
      "0.948474 (0.002135) with: {'n_estimators': 368, 'max_depth': 3, 'min_child_weight': 1}\n",
      "0.948420 (0.002083) with: {'n_estimators': 400, 'max_depth': 3, 'min_child_weight': 1}\n",
      "0.947106 (0.003003) with: {'n_estimators': 120, 'max_depth': 3, 'min_child_weight': 2}\n",
      "0.947560 (0.002784) with: {'n_estimators': 151, 'max_depth': 3, 'min_child_weight': 2}\n",
      "0.947902 (0.002786) with: {'n_estimators': 182, 'max_depth': 3, 'min_child_weight': 2}\n",
      "0.948185 (0.002490) with: {'n_estimators': 213, 'max_depth': 3, 'min_child_weight': 2}\n",
      "0.948267 (0.002414) with: {'n_estimators': 244, 'max_depth': 3, 'min_child_weight': 2}\n",
      "0.948330 (0.002442) with: {'n_estimators': 275, 'max_depth': 3, 'min_child_weight': 2}\n",
      "0.948358 (0.002386) with: {'n_estimators': 306, 'max_depth': 3, 'min_child_weight': 2}\n",
      "0.948419 (0.002388) with: {'n_estimators': 337, 'max_depth': 3, 'min_child_weight': 2}\n",
      "0.948326 (0.002297) with: {'n_estimators': 368, 'max_depth': 3, 'min_child_weight': 2}\n",
      "0.948341 (0.002185) with: {'n_estimators': 400, 'max_depth': 3, 'min_child_weight': 2}\n",
      "0.946774 (0.002982) with: {'n_estimators': 120, 'max_depth': 3, 'min_child_weight': 3}\n",
      "0.947336 (0.002722) with: {'n_estimators': 151, 'max_depth': 3, 'min_child_weight': 3}\n",
      "0.947714 (0.002484) with: {'n_estimators': 182, 'max_depth': 3, 'min_child_weight': 3}\n",
      "0.948081 (0.002504) with: {'n_estimators': 213, 'max_depth': 3, 'min_child_weight': 3}\n",
      "0.948149 (0.002580) with: {'n_estimators': 244, 'max_depth': 3, 'min_child_weight': 3}\n",
      "0.948197 (0.002528) with: {'n_estimators': 275, 'max_depth': 3, 'min_child_weight': 3}\n",
      "0.948337 (0.002421) with: {'n_estimators': 306, 'max_depth': 3, 'min_child_weight': 3}\n",
      "0.948443 (0.002296) with: {'n_estimators': 337, 'max_depth': 3, 'min_child_weight': 3}\n",
      "0.948552 (0.002242) with: {'n_estimators': 368, 'max_depth': 3, 'min_child_weight': 3}\n",
      "0.948437 (0.002177) with: {'n_estimators': 400, 'max_depth': 3, 'min_child_weight': 3}\n",
      "0.946335 (0.003128) with: {'n_estimators': 120, 'max_depth': 3, 'min_child_weight': 4}\n",
      "0.947146 (0.002836) with: {'n_estimators': 151, 'max_depth': 3, 'min_child_weight': 4}\n",
      "0.947609 (0.002746) with: {'n_estimators': 182, 'max_depth': 3, 'min_child_weight': 4}\n",
      "0.947872 (0.002522) with: {'n_estimators': 213, 'max_depth': 3, 'min_child_weight': 4}\n",
      "0.948094 (0.002334) with: {'n_estimators': 244, 'max_depth': 3, 'min_child_weight': 4}\n",
      "0.948312 (0.002243) with: {'n_estimators': 275, 'max_depth': 3, 'min_child_weight': 4}\n",
      "0.948387 (0.002168) with: {'n_estimators': 306, 'max_depth': 3, 'min_child_weight': 4}\n",
      "0.948507 (0.002095) with: {'n_estimators': 337, 'max_depth': 3, 'min_child_weight': 4}\n",
      "0.948472 (0.001946) with: {'n_estimators': 368, 'max_depth': 3, 'min_child_weight': 4}\n",
      "0.948367 (0.001905) with: {'n_estimators': 400, 'max_depth': 3, 'min_child_weight': 4}\n",
      "0.945562 (0.003293) with: {'n_estimators': 120, 'max_depth': 3, 'min_child_weight': 5}\n",
      "0.946402 (0.002951) with: {'n_estimators': 151, 'max_depth': 3, 'min_child_weight': 5}\n",
      "0.947123 (0.002718) with: {'n_estimators': 182, 'max_depth': 3, 'min_child_weight': 5}\n",
      "0.947546 (0.002524) with: {'n_estimators': 213, 'max_depth': 3, 'min_child_weight': 5}\n",
      "0.947827 (0.002442) with: {'n_estimators': 244, 'max_depth': 3, 'min_child_weight': 5}\n",
      "0.948072 (0.002303) with: {'n_estimators': 275, 'max_depth': 3, 'min_child_weight': 5}\n",
      "0.948195 (0.002270) with: {'n_estimators': 306, 'max_depth': 3, 'min_child_weight': 5}\n",
      "0.948245 (0.002195) with: {'n_estimators': 337, 'max_depth': 3, 'min_child_weight': 5}\n",
      "0.948365 (0.002236) with: {'n_estimators': 368, 'max_depth': 3, 'min_child_weight': 5}\n",
      "0.948356 (0.002157) with: {'n_estimators': 400, 'max_depth': 3, 'min_child_weight': 5}\n",
      "0.948104 (0.002490) with: {'n_estimators': 120, 'max_depth': 4, 'min_child_weight': 1}\n",
      "0.948318 (0.002200) with: {'n_estimators': 151, 'max_depth': 4, 'min_child_weight': 1}\n",
      "0.948439 (0.002187) with: {'n_estimators': 182, 'max_depth': 4, 'min_child_weight': 1}\n",
      "0.948451 (0.002061) with: {'n_estimators': 213, 'max_depth': 4, 'min_child_weight': 1}\n",
      "0.948478 (0.001905) with: {'n_estimators': 244, 'max_depth': 4, 'min_child_weight': 1}\n",
      "0.948381 (0.001899) with: {'n_estimators': 275, 'max_depth': 4, 'min_child_weight': 1}\n",
      "0.948244 (0.001960) with: {'n_estimators': 306, 'max_depth': 4, 'min_child_weight': 1}\n",
      "0.948128 (0.001935) with: {'n_estimators': 337, 'max_depth': 4, 'min_child_weight': 1}\n",
      "0.947883 (0.001839) with: {'n_estimators': 368, 'max_depth': 4, 'min_child_weight': 1}\n",
      "0.947751 (0.001843) with: {'n_estimators': 400, 'max_depth': 4, 'min_child_weight': 1}\n",
      "0.947952 (0.002299) with: {'n_estimators': 120, 'max_depth': 4, 'min_child_weight': 2}\n",
      "0.948083 (0.002281) with: {'n_estimators': 151, 'max_depth': 4, 'min_child_weight': 2}\n",
      "0.948277 (0.002275) with: {'n_estimators': 182, 'max_depth': 4, 'min_child_weight': 2}\n",
      "0.948462 (0.002331) with: {'n_estimators': 213, 'max_depth': 4, 'min_child_weight': 2}\n",
      "0.948560 (0.002362) with: {'n_estimators': 244, 'max_depth': 4, 'min_child_weight': 2}\n",
      "0.948645 (0.002304) with: {'n_estimators': 275, 'max_depth': 4, 'min_child_weight': 2}\n",
      "0.948356 (0.002390) with: {'n_estimators': 306, 'max_depth': 4, 'min_child_weight': 2}\n",
      "0.948225 (0.002375) with: {'n_estimators': 337, 'max_depth': 4, 'min_child_weight': 2}\n",
      "0.948101 (0.002279) with: {'n_estimators': 368, 'max_depth': 4, 'min_child_weight': 2}\n",
      "0.947899 (0.002293) with: {'n_estimators': 400, 'max_depth': 4, 'min_child_weight': 2}\n",
      "0.947825 (0.002258) with: {'n_estimators': 120, 'max_depth': 4, 'min_child_weight': 3}\n",
      "0.948029 (0.002147) with: {'n_estimators': 151, 'max_depth': 4, 'min_child_weight': 3}\n",
      "0.948075 (0.002170) with: {'n_estimators': 182, 'max_depth': 4, 'min_child_weight': 3}\n",
      "0.948096 (0.002132) with: {'n_estimators': 213, 'max_depth': 4, 'min_child_weight': 3}\n",
      "0.947992 (0.002027) with: {'n_estimators': 244, 'max_depth': 4, 'min_child_weight': 3}\n",
      "0.947952 (0.001982) with: {'n_estimators': 275, 'max_depth': 4, 'min_child_weight': 3}\n",
      "0.947928 (0.001951) with: {'n_estimators': 306, 'max_depth': 4, 'min_child_weight': 3}\n",
      "0.947923 (0.001915) with: {'n_estimators': 337, 'max_depth': 4, 'min_child_weight': 3}\n",
      "0.947845 (0.001796) with: {'n_estimators': 368, 'max_depth': 4, 'min_child_weight': 3}\n",
      "0.947823 (0.001776) with: {'n_estimators': 400, 'max_depth': 4, 'min_child_weight': 3}\n",
      "0.947621 (0.002297) with: {'n_estimators': 120, 'max_depth': 4, 'min_child_weight': 4}\n",
      "0.947791 (0.002118) with: {'n_estimators': 151, 'max_depth': 4, 'min_child_weight': 4}\n",
      "0.947947 (0.002048) with: {'n_estimators': 182, 'max_depth': 4, 'min_child_weight': 4}\n",
      "0.948092 (0.002081) with: {'n_estimators': 213, 'max_depth': 4, 'min_child_weight': 4}\n",
      "0.948072 (0.001970) with: {'n_estimators': 244, 'max_depth': 4, 'min_child_weight': 4}\n",
      "0.948026 (0.001892) with: {'n_estimators': 275, 'max_depth': 4, 'min_child_weight': 4}\n",
      "0.947876 (0.001697) with: {'n_estimators': 306, 'max_depth': 4, 'min_child_weight': 4}\n",
      "0.947747 (0.001645) with: {'n_estimators': 337, 'max_depth': 4, 'min_child_weight': 4}\n",
      "0.947590 (0.001682) with: {'n_estimators': 368, 'max_depth': 4, 'min_child_weight': 4}\n",
      "0.947434 (0.001688) with: {'n_estimators': 400, 'max_depth': 4, 'min_child_weight': 4}\n",
      "0.947589 (0.002223) with: {'n_estimators': 120, 'max_depth': 4, 'min_child_weight': 5}\n",
      "0.947975 (0.002063) with: {'n_estimators': 151, 'max_depth': 4, 'min_child_weight': 5}\n",
      "0.948205 (0.001995) with: {'n_estimators': 182, 'max_depth': 4, 'min_child_weight': 5}\n",
      "0.948185 (0.001913) with: {'n_estimators': 213, 'max_depth': 4, 'min_child_weight': 5}\n",
      "0.948152 (0.001914) with: {'n_estimators': 244, 'max_depth': 4, 'min_child_weight': 5}\n",
      "0.948108 (0.001782) with: {'n_estimators': 275, 'max_depth': 4, 'min_child_weight': 5}\n",
      "0.948076 (0.001775) with: {'n_estimators': 306, 'max_depth': 4, 'min_child_weight': 5}\n",
      "0.947901 (0.001732) with: {'n_estimators': 337, 'max_depth': 4, 'min_child_weight': 5}\n",
      "0.947834 (0.001692) with: {'n_estimators': 368, 'max_depth': 4, 'min_child_weight': 5}\n",
      "0.947688 (0.001660) with: {'n_estimators': 400, 'max_depth': 4, 'min_child_weight': 5}\n",
      "0.948296 (0.002445) with: {'n_estimators': 120, 'max_depth': 5, 'min_child_weight': 1}\n",
      "0.948389 (0.002358) with: {'n_estimators': 151, 'max_depth': 5, 'min_child_weight': 1}\n",
      "0.948408 (0.002241) with: {'n_estimators': 182, 'max_depth': 5, 'min_child_weight': 1}\n",
      "0.948356 (0.002239) with: {'n_estimators': 213, 'max_depth': 5, 'min_child_weight': 1}\n",
      "0.948178 (0.002185) with: {'n_estimators': 244, 'max_depth': 5, 'min_child_weight': 1}\n",
      "0.948020 (0.002031) with: {'n_estimators': 275, 'max_depth': 5, 'min_child_weight': 1}\n",
      "0.947982 (0.001987) with: {'n_estimators': 306, 'max_depth': 5, 'min_child_weight': 1}\n",
      "0.947844 (0.001872) with: {'n_estimators': 337, 'max_depth': 5, 'min_child_weight': 1}\n",
      "0.947645 (0.001757) with: {'n_estimators': 368, 'max_depth': 5, 'min_child_weight': 1}\n",
      "0.947412 (0.001708) with: {'n_estimators': 400, 'max_depth': 5, 'min_child_weight': 1}\n",
      "0.948044 (0.002542) with: {'n_estimators': 120, 'max_depth': 5, 'min_child_weight': 2}\n",
      "0.948331 (0.002220) with: {'n_estimators': 151, 'max_depth': 5, 'min_child_weight': 2}\n",
      "0.948446 (0.002046) with: {'n_estimators': 182, 'max_depth': 5, 'min_child_weight': 2}\n",
      "0.948385 (0.002033) with: {'n_estimators': 213, 'max_depth': 5, 'min_child_weight': 2}\n",
      "0.948240 (0.001959) with: {'n_estimators': 244, 'max_depth': 5, 'min_child_weight': 2}\n",
      "0.947977 (0.001929) with: {'n_estimators': 275, 'max_depth': 5, 'min_child_weight': 2}\n",
      "0.947862 (0.001999) with: {'n_estimators': 306, 'max_depth': 5, 'min_child_weight': 2}\n",
      "0.947692 (0.001952) with: {'n_estimators': 337, 'max_depth': 5, 'min_child_weight': 2}\n",
      "0.947573 (0.001960) with: {'n_estimators': 368, 'max_depth': 5, 'min_child_weight': 2}\n",
      "0.947312 (0.001955) with: {'n_estimators': 400, 'max_depth': 5, 'min_child_weight': 2}\n",
      "0.948453 (0.002292) with: {'n_estimators': 120, 'max_depth': 5, 'min_child_weight': 3}\n",
      "0.948313 (0.002277) with: {'n_estimators': 151, 'max_depth': 5, 'min_child_weight': 3}\n",
      "0.948217 (0.002338) with: {'n_estimators': 182, 'max_depth': 5, 'min_child_weight': 3}\n",
      "0.948144 (0.002320) with: {'n_estimators': 213, 'max_depth': 5, 'min_child_weight': 3}\n",
      "0.948216 (0.002101) with: {'n_estimators': 244, 'max_depth': 5, 'min_child_weight': 3}\n",
      "0.948005 (0.002051) with: {'n_estimators': 275, 'max_depth': 5, 'min_child_weight': 3}\n",
      "0.947836 (0.001896) with: {'n_estimators': 306, 'max_depth': 5, 'min_child_weight': 3}\n",
      "0.947706 (0.001826) with: {'n_estimators': 337, 'max_depth': 5, 'min_child_weight': 3}\n",
      "0.947588 (0.001784) with: {'n_estimators': 368, 'max_depth': 5, 'min_child_weight': 3}\n",
      "0.947505 (0.001698) with: {'n_estimators': 400, 'max_depth': 5, 'min_child_weight': 3}\n",
      "0.947979 (0.002267) with: {'n_estimators': 120, 'max_depth': 5, 'min_child_weight': 4}\n",
      "0.948143 (0.002221) with: {'n_estimators': 151, 'max_depth': 5, 'min_child_weight': 4}\n",
      "0.948229 (0.002035) with: {'n_estimators': 182, 'max_depth': 5, 'min_child_weight': 4}\n",
      "0.947986 (0.002015) with: {'n_estimators': 213, 'max_depth': 5, 'min_child_weight': 4}\n",
      "0.947811 (0.001921) with: {'n_estimators': 244, 'max_depth': 5, 'min_child_weight': 4}\n",
      "0.947754 (0.001823) with: {'n_estimators': 275, 'max_depth': 5, 'min_child_weight': 4}\n",
      "0.947497 (0.001839) with: {'n_estimators': 306, 'max_depth': 5, 'min_child_weight': 4}\n",
      "0.947370 (0.001746) with: {'n_estimators': 337, 'max_depth': 5, 'min_child_weight': 4}\n",
      "0.947218 (0.001684) with: {'n_estimators': 368, 'max_depth': 5, 'min_child_weight': 4}\n",
      "0.947016 (0.001605) with: {'n_estimators': 400, 'max_depth': 5, 'min_child_weight': 4}\n",
      "0.948140 (0.002244) with: {'n_estimators': 120, 'max_depth': 5, 'min_child_weight': 5}\n",
      "0.948428 (0.002027) with: {'n_estimators': 151, 'max_depth': 5, 'min_child_weight': 5}\n",
      "0.948380 (0.002119) with: {'n_estimators': 182, 'max_depth': 5, 'min_child_weight': 5}\n",
      "0.948228 (0.002004) with: {'n_estimators': 213, 'max_depth': 5, 'min_child_weight': 5}\n",
      "0.947958 (0.001849) with: {'n_estimators': 244, 'max_depth': 5, 'min_child_weight': 5}\n",
      "0.947844 (0.001789) with: {'n_estimators': 275, 'max_depth': 5, 'min_child_weight': 5}\n",
      "0.947837 (0.001695) with: {'n_estimators': 306, 'max_depth': 5, 'min_child_weight': 5}\n",
      "0.947771 (0.001722) with: {'n_estimators': 337, 'max_depth': 5, 'min_child_weight': 5}\n",
      "0.947654 (0.001673) with: {'n_estimators': 368, 'max_depth': 5, 'min_child_weight': 5}\n",
      "0.947521 (0.001742) with: {'n_estimators': 400, 'max_depth': 5, 'min_child_weight': 5}\n"
     ]
    },
    {
     "ename": "NameError",
     "evalue": "name 'numpy' is not defined",
     "output_type": "error",
     "traceback": [
      "\u001b[0;31m---------------------------------------------------------------------------\u001b[0m",
      "\u001b[0;31mNameError\u001b[0m                                 Traceback (most recent call last)",
      "\u001b[0;32m<ipython-input-69-52844b0d6615>\u001b[0m in \u001b[0;36m<module>\u001b[0;34m()\u001b[0m\n\u001b[1;32m     13\u001b[0m \u001b[1;31m# plot results\u001b[0m\u001b[1;33m\u001b[0m\u001b[1;33m\u001b[0m\u001b[0m\n\u001b[1;32m     14\u001b[0m \u001b[0mscores\u001b[0m \u001b[1;33m=\u001b[0m \u001b[1;33m[\u001b[0m\u001b[0mx\u001b[0m\u001b[1;33m[\u001b[0m\u001b[1;36m1\u001b[0m\u001b[1;33m]\u001b[0m \u001b[1;32mfor\u001b[0m \u001b[0mx\u001b[0m \u001b[1;32min\u001b[0m \u001b[0mresult\u001b[0m\u001b[1;33m.\u001b[0m\u001b[0mgrid_scores_\u001b[0m\u001b[1;33m]\u001b[0m\u001b[1;33m\u001b[0m\u001b[0m\n\u001b[0;32m---> 15\u001b[0;31m \u001b[0mscores\u001b[0m \u001b[1;33m=\u001b[0m \u001b[0mnumpy\u001b[0m\u001b[1;33m.\u001b[0m\u001b[0marray\u001b[0m\u001b[1;33m(\u001b[0m\u001b[0mscores\u001b[0m\u001b[1;33m)\u001b[0m\u001b[1;33m.\u001b[0m\u001b[0mreshape\u001b[0m\u001b[1;33m(\u001b[0m\u001b[0mlen\u001b[0m\u001b[1;33m(\u001b[0m\u001b[0mmax_depth\u001b[0m\u001b[1;33m)\u001b[0m\u001b[1;33m,\u001b[0m \u001b[0mlen\u001b[0m\u001b[1;33m(\u001b[0m\u001b[0mn_estimators\u001b[0m\u001b[1;33m)\u001b[0m\u001b[1;33m)\u001b[0m\u001b[1;33m\u001b[0m\u001b[0m\n\u001b[0m\u001b[1;32m     16\u001b[0m \u001b[1;32mfor\u001b[0m \u001b[0mi\u001b[0m\u001b[1;33m,\u001b[0m \u001b[0mvalue\u001b[0m \u001b[1;32min\u001b[0m \u001b[0menumerate\u001b[0m\u001b[1;33m(\u001b[0m\u001b[0mmax_depth\u001b[0m\u001b[1;33m)\u001b[0m\u001b[1;33m:\u001b[0m\u001b[1;33m\u001b[0m\u001b[0m\n\u001b[1;32m     17\u001b[0m     \u001b[0mpyplot\u001b[0m\u001b[1;33m.\u001b[0m\u001b[0mplot\u001b[0m\u001b[1;33m(\u001b[0m\u001b[0mn_estimators\u001b[0m\u001b[1;33m,\u001b[0m \u001b[0mscores\u001b[0m\u001b[1;33m[\u001b[0m\u001b[0mi\u001b[0m\u001b[1;33m]\u001b[0m\u001b[1;33m,\u001b[0m \u001b[0mlabel\u001b[0m\u001b[1;33m=\u001b[0m\u001b[1;34m'depth: '\u001b[0m \u001b[1;33m+\u001b[0m \u001b[0mstr\u001b[0m\u001b[1;33m(\u001b[0m\u001b[0mvalue\u001b[0m\u001b[1;33m)\u001b[0m\u001b[1;33m)\u001b[0m\u001b[1;33m\u001b[0m\u001b[0m\n",
      "\u001b[0;31mNameError\u001b[0m: name 'numpy' is not defined"
     ]
    }
   ],
   "source": [
    "param_grid = dict(max_depth=max_depth, n_estimators=n_estimators, min_child_weight = min_child_weight_range)\n",
    "kfold = StratifiedKFold(label_encoded_y, n_folds=5, shuffle=True, random_state=42)\n",
    "grid_search = GridSearchCV(model, param_grid, scoring=\"roc_auc\", n_jobs=-1, cv=kfold, verbose=1)\n",
    "result = grid_search.fit(X_train, label_encoded_y)\n",
    "# summarize results\n",
    "print(\"Best: %f using %s\" % (result.best_score_, result.best_params_))\n",
    "means, stdevs = [], []\n",
    "for params, mean_score, scores in result.grid_scores_:\n",
    "    stdev = scores.std()\n",
    "    means.append(mean_score)\n",
    "    stdevs.append(stdev)\n",
    "    print(\"%f (%f) with: %r\" % (mean_score, stdev, params))\n",
    "# plot results\n",
    "scores = [x[1] for x in result.grid_scores_]\n",
    "scores = numpy.array(scores).reshape(len(max_depth), len(n_estimators))\n",
    "for i, value in enumerate(max_depth):\n",
    "    pyplot.plot(n_estimators, scores[i], label='depth: ' + str(value))\n",
    "pyplot.legend()\n",
    "pyplot.xlabel('n_estimators')\n",
    "pyplot.ylabel('auc roc')"
   ]
  },
  {
   "cell_type": "code",
   "execution_count": null,
   "metadata": {
    "collapsed": true
   },
   "outputs": [],
   "source": [
    "# choose optimal parameters for random forest"
   ]
  },
  {
   "cell_type": "code",
   "execution_count": 47,
   "metadata": {
    "collapsed": true
   },
   "outputs": [],
   "source": [
    "from sklearn.ensemble import RandomForestClassifier"
   ]
  },
  {
   "cell_type": "code",
   "execution_count": 48,
   "metadata": {
    "collapsed": true
   },
   "outputs": [],
   "source": [
    "max_depth = np.linspace(1,5,5,dtype=int)\n",
    "n_estimators = np.linspace(120,400,10,dtype=int)\n",
    "criterion_range=('gini', 'entropy')\n",
    "kfold = StratifiedKFold(label_encoded_y, n_folds=5, shuffle=True, random_state=42)"
   ]
  },
  {
   "cell_type": "code",
   "execution_count": 49,
   "metadata": {
    "scrolled": true
   },
   "outputs": [
    {
     "name": "stdout",
     "output_type": "stream",
     "text": [
      "Fitting 5 folds for each of 100 candidates, totalling 500 fits\n"
     ]
    },
    {
     "name": "stderr",
     "output_type": "stream",
     "text": [
      "[Parallel(n_jobs=-1)]: Done  42 tasks      | elapsed:  1.2min\n",
      "[Parallel(n_jobs=-1)]: Done 192 tasks      | elapsed:  4.6min\n",
      "[Parallel(n_jobs=-1)]: Done 442 tasks      | elapsed: 11.2min\n",
      "[Parallel(n_jobs=-1)]: Done 500 out of 500 | elapsed: 13.5min finished\n"
     ]
    },
    {
     "name": "stdout",
     "output_type": "stream",
     "text": [
      "Best: 0.925626 using {'n_estimators': 337, 'max_depth': 5, 'criterion': 'entropy'}\n",
      "0.894857 (0.020125) with: {'n_estimators': 120, 'max_depth': 1, 'criterion': 'gini'}\n",
      "0.901226 (0.007952) with: {'n_estimators': 151, 'max_depth': 1, 'criterion': 'gini'}\n",
      "0.901023 (0.008024) with: {'n_estimators': 182, 'max_depth': 1, 'criterion': 'gini'}\n",
      "0.897070 (0.009983) with: {'n_estimators': 213, 'max_depth': 1, 'criterion': 'gini'}\n",
      "0.901378 (0.006663) with: {'n_estimators': 244, 'max_depth': 1, 'criterion': 'gini'}\n",
      "0.898571 (0.006477) with: {'n_estimators': 275, 'max_depth': 1, 'criterion': 'gini'}\n",
      "0.901307 (0.008312) with: {'n_estimators': 306, 'max_depth': 1, 'criterion': 'gini'}\n",
      "0.901229 (0.008411) with: {'n_estimators': 337, 'max_depth': 1, 'criterion': 'gini'}\n",
      "0.899768 (0.010136) with: {'n_estimators': 368, 'max_depth': 1, 'criterion': 'gini'}\n",
      "0.902598 (0.007175) with: {'n_estimators': 400, 'max_depth': 1, 'criterion': 'gini'}\n",
      "0.907777 (0.007032) with: {'n_estimators': 120, 'max_depth': 2, 'criterion': 'gini'}\n",
      "0.907930 (0.009266) with: {'n_estimators': 151, 'max_depth': 2, 'criterion': 'gini'}\n",
      "0.908463 (0.008035) with: {'n_estimators': 182, 'max_depth': 2, 'criterion': 'gini'}\n",
      "0.908135 (0.006506) with: {'n_estimators': 213, 'max_depth': 2, 'criterion': 'gini'}\n",
      "0.909138 (0.007588) with: {'n_estimators': 244, 'max_depth': 2, 'criterion': 'gini'}\n",
      "0.908700 (0.006328) with: {'n_estimators': 275, 'max_depth': 2, 'criterion': 'gini'}\n",
      "0.908946 (0.007669) with: {'n_estimators': 306, 'max_depth': 2, 'criterion': 'gini'}\n",
      "0.908949 (0.007274) with: {'n_estimators': 337, 'max_depth': 2, 'criterion': 'gini'}\n",
      "0.909189 (0.007441) with: {'n_estimators': 368, 'max_depth': 2, 'criterion': 'gini'}\n",
      "0.909792 (0.007319) with: {'n_estimators': 400, 'max_depth': 2, 'criterion': 'gini'}\n",
      "0.913504 (0.006082) with: {'n_estimators': 120, 'max_depth': 3, 'criterion': 'gini'}\n",
      "0.913284 (0.005649) with: {'n_estimators': 151, 'max_depth': 3, 'criterion': 'gini'}\n",
      "0.913183 (0.005544) with: {'n_estimators': 182, 'max_depth': 3, 'criterion': 'gini'}\n",
      "0.914228 (0.006038) with: {'n_estimators': 213, 'max_depth': 3, 'criterion': 'gini'}\n",
      "0.913574 (0.005425) with: {'n_estimators': 244, 'max_depth': 3, 'criterion': 'gini'}\n",
      "0.913937 (0.006508) with: {'n_estimators': 275, 'max_depth': 3, 'criterion': 'gini'}\n",
      "0.914227 (0.006291) with: {'n_estimators': 306, 'max_depth': 3, 'criterion': 'gini'}\n",
      "0.914553 (0.006243) with: {'n_estimators': 337, 'max_depth': 3, 'criterion': 'gini'}\n",
      "0.914140 (0.006321) with: {'n_estimators': 368, 'max_depth': 3, 'criterion': 'gini'}\n",
      "0.913657 (0.006964) with: {'n_estimators': 400, 'max_depth': 3, 'criterion': 'gini'}\n",
      "0.917267 (0.007009) with: {'n_estimators': 120, 'max_depth': 4, 'criterion': 'gini'}\n",
      "0.917487 (0.006749) with: {'n_estimators': 151, 'max_depth': 4, 'criterion': 'gini'}\n",
      "0.917860 (0.006575) with: {'n_estimators': 182, 'max_depth': 4, 'criterion': 'gini'}\n",
      "0.917602 (0.006430) with: {'n_estimators': 213, 'max_depth': 4, 'criterion': 'gini'}\n",
      "0.917029 (0.005099) with: {'n_estimators': 244, 'max_depth': 4, 'criterion': 'gini'}\n",
      "0.918402 (0.005860) with: {'n_estimators': 275, 'max_depth': 4, 'criterion': 'gini'}\n",
      "0.918920 (0.005883) with: {'n_estimators': 306, 'max_depth': 4, 'criterion': 'gini'}\n",
      "0.917263 (0.004872) with: {'n_estimators': 337, 'max_depth': 4, 'criterion': 'gini'}\n",
      "0.917434 (0.005878) with: {'n_estimators': 368, 'max_depth': 4, 'criterion': 'gini'}\n",
      "0.917782 (0.006522) with: {'n_estimators': 400, 'max_depth': 4, 'criterion': 'gini'}\n",
      "0.921660 (0.006365) with: {'n_estimators': 120, 'max_depth': 5, 'criterion': 'gini'}\n",
      "0.921858 (0.005030) with: {'n_estimators': 151, 'max_depth': 5, 'criterion': 'gini'}\n",
      "0.922550 (0.004599) with: {'n_estimators': 182, 'max_depth': 5, 'criterion': 'gini'}\n",
      "0.922358 (0.006313) with: {'n_estimators': 213, 'max_depth': 5, 'criterion': 'gini'}\n",
      "0.922816 (0.004001) with: {'n_estimators': 244, 'max_depth': 5, 'criterion': 'gini'}\n",
      "0.922441 (0.005175) with: {'n_estimators': 275, 'max_depth': 5, 'criterion': 'gini'}\n",
      "0.921018 (0.005757) with: {'n_estimators': 306, 'max_depth': 5, 'criterion': 'gini'}\n",
      "0.922639 (0.005075) with: {'n_estimators': 337, 'max_depth': 5, 'criterion': 'gini'}\n",
      "0.921564 (0.006108) with: {'n_estimators': 368, 'max_depth': 5, 'criterion': 'gini'}\n",
      "0.923320 (0.005949) with: {'n_estimators': 400, 'max_depth': 5, 'criterion': 'gini'}\n",
      "0.899922 (0.008322) with: {'n_estimators': 120, 'max_depth': 1, 'criterion': 'entropy'}\n",
      "0.881313 (0.017488) with: {'n_estimators': 151, 'max_depth': 1, 'criterion': 'entropy'}\n",
      "0.897816 (0.004933) with: {'n_estimators': 182, 'max_depth': 1, 'criterion': 'entropy'}\n",
      "0.892259 (0.007822) with: {'n_estimators': 213, 'max_depth': 1, 'criterion': 'entropy'}\n",
      "0.895225 (0.006842) with: {'n_estimators': 244, 'max_depth': 1, 'criterion': 'entropy'}\n",
      "0.896474 (0.005921) with: {'n_estimators': 275, 'max_depth': 1, 'criterion': 'entropy'}\n",
      "0.894004 (0.009671) with: {'n_estimators': 306, 'max_depth': 1, 'criterion': 'entropy'}\n",
      "0.898704 (0.009819) with: {'n_estimators': 337, 'max_depth': 1, 'criterion': 'entropy'}\n",
      "0.899199 (0.006224) with: {'n_estimators': 368, 'max_depth': 1, 'criterion': 'entropy'}\n",
      "0.896147 (0.011269) with: {'n_estimators': 400, 'max_depth': 1, 'criterion': 'entropy'}\n",
      "0.911172 (0.006220) with: {'n_estimators': 120, 'max_depth': 2, 'criterion': 'entropy'}\n",
      "0.900784 (0.013088) with: {'n_estimators': 151, 'max_depth': 2, 'criterion': 'entropy'}\n",
      "0.904337 (0.008817) with: {'n_estimators': 182, 'max_depth': 2, 'criterion': 'entropy'}\n",
      "0.907545 (0.005857) with: {'n_estimators': 213, 'max_depth': 2, 'criterion': 'entropy'}\n",
      "0.906288 (0.007253) with: {'n_estimators': 244, 'max_depth': 2, 'criterion': 'entropy'}\n",
      "0.910850 (0.004914) with: {'n_estimators': 275, 'max_depth': 2, 'criterion': 'entropy'}\n",
      "0.909521 (0.007345) with: {'n_estimators': 306, 'max_depth': 2, 'criterion': 'entropy'}\n",
      "0.909322 (0.005467) with: {'n_estimators': 337, 'max_depth': 2, 'criterion': 'entropy'}\n",
      "0.909264 (0.008530) with: {'n_estimators': 368, 'max_depth': 2, 'criterion': 'entropy'}\n",
      "0.908739 (0.005151) with: {'n_estimators': 400, 'max_depth': 2, 'criterion': 'entropy'}\n",
      "0.915177 (0.007004) with: {'n_estimators': 120, 'max_depth': 3, 'criterion': 'entropy'}\n",
      "0.916990 (0.004686) with: {'n_estimators': 151, 'max_depth': 3, 'criterion': 'entropy'}\n",
      "0.916607 (0.005304) with: {'n_estimators': 182, 'max_depth': 3, 'criterion': 'entropy'}\n",
      "0.915502 (0.006235) with: {'n_estimators': 213, 'max_depth': 3, 'criterion': 'entropy'}\n",
      "0.915385 (0.005986) with: {'n_estimators': 244, 'max_depth': 3, 'criterion': 'entropy'}\n",
      "0.914838 (0.004464) with: {'n_estimators': 275, 'max_depth': 3, 'criterion': 'entropy'}\n",
      "0.915830 (0.004546) with: {'n_estimators': 306, 'max_depth': 3, 'criterion': 'entropy'}\n",
      "0.915538 (0.005464) with: {'n_estimators': 337, 'max_depth': 3, 'criterion': 'entropy'}\n",
      "0.916381 (0.005804) with: {'n_estimators': 368, 'max_depth': 3, 'criterion': 'entropy'}\n",
      "0.916258 (0.005822) with: {'n_estimators': 400, 'max_depth': 3, 'criterion': 'entropy'}\n",
      "0.919670 (0.003979) with: {'n_estimators': 120, 'max_depth': 4, 'criterion': 'entropy'}\n",
      "0.920873 (0.005191) with: {'n_estimators': 151, 'max_depth': 4, 'criterion': 'entropy'}\n",
      "0.921022 (0.005317) with: {'n_estimators': 182, 'max_depth': 4, 'criterion': 'entropy'}\n",
      "0.920233 (0.004644) with: {'n_estimators': 213, 'max_depth': 4, 'criterion': 'entropy'}\n",
      "0.920125 (0.004182) with: {'n_estimators': 244, 'max_depth': 4, 'criterion': 'entropy'}\n",
      "0.921266 (0.005024) with: {'n_estimators': 275, 'max_depth': 4, 'criterion': 'entropy'}\n",
      "0.921162 (0.005215) with: {'n_estimators': 306, 'max_depth': 4, 'criterion': 'entropy'}\n",
      "0.920909 (0.005549) with: {'n_estimators': 337, 'max_depth': 4, 'criterion': 'entropy'}\n",
      "0.920213 (0.004725) with: {'n_estimators': 368, 'max_depth': 4, 'criterion': 'entropy'}\n",
      "0.920652 (0.004604) with: {'n_estimators': 400, 'max_depth': 4, 'criterion': 'entropy'}\n",
      "0.924351 (0.004167) with: {'n_estimators': 120, 'max_depth': 5, 'criterion': 'entropy'}\n",
      "0.924828 (0.003844) with: {'n_estimators': 151, 'max_depth': 5, 'criterion': 'entropy'}\n",
      "0.924848 (0.003583) with: {'n_estimators': 182, 'max_depth': 5, 'criterion': 'entropy'}\n",
      "0.925572 (0.004543) with: {'n_estimators': 213, 'max_depth': 5, 'criterion': 'entropy'}\n",
      "0.925103 (0.003945) with: {'n_estimators': 244, 'max_depth': 5, 'criterion': 'entropy'}\n",
      "0.924952 (0.004824) with: {'n_estimators': 275, 'max_depth': 5, 'criterion': 'entropy'}\n",
      "0.925036 (0.003793) with: {'n_estimators': 306, 'max_depth': 5, 'criterion': 'entropy'}\n",
      "0.925626 (0.004230) with: {'n_estimators': 337, 'max_depth': 5, 'criterion': 'entropy'}\n",
      "0.924918 (0.004452) with: {'n_estimators': 368, 'max_depth': 5, 'criterion': 'entropy'}\n",
      "0.925614 (0.003535) with: {'n_estimators': 400, 'max_depth': 5, 'criterion': 'entropy'}\n"
     ]
    }
   ],
   "source": [
    "param_grid = dict(n_estimators=n_estimators, max_depth=max_depth, criterion=criterion_range)\n",
    "grid_search_les = GridSearchCV(RandomForestClassifier(), param_grid=param_grid,  scoring=\"roc_auc\", n_jobs=-1, cv=kfold, verbose=1)\n",
    "result_les = grid_search_les.fit(X_train, label_encoded_y)\n",
    "\n",
    "print(\"Best: %f using %s\" % (result_les.best_score_, result_les.best_params_))\n",
    "means, stdevs = [], []\n",
    "for params, mean_score, scores in result_les.grid_scores_:\n",
    "    stdev = scores.std()\n",
    "    means.append(mean_score)\n",
    "    stdevs.append(stdev)\n",
    "    print(\"%f (%f) with: %r\" % (mean_score, stdev, params))\n"
   ]
  },
  {
   "cell_type": "code",
   "execution_count": null,
   "metadata": {
    "collapsed": true
   },
   "outputs": [],
   "source": []
  },
  {
   "cell_type": "code",
   "execution_count": null,
   "metadata": {
    "collapsed": true
   },
   "outputs": [],
   "source": []
  },
  {
   "cell_type": "code",
   "execution_count": null,
   "metadata": {
    "collapsed": true
   },
   "outputs": [],
   "source": [
    "# estimate with train data"
   ]
  },
  {
   "cell_type": "code",
   "execution_count": 50,
   "metadata": {
    "collapsed": true
   },
   "outputs": [],
   "source": [
    "from sklearn import cross_validation\n",
    "from sklearn.cross_validation import train_test_split"
   ]
  },
  {
   "cell_type": "code",
   "execution_count": 51,
   "metadata": {
    "collapsed": true
   },
   "outputs": [],
   "source": [
    "X_train1, X_test1, y_train1, y_test1 = train_test_split(\n",
    "    X_train, y_train, test_size=0.2, random_state= 42)"
   ]
  },
  {
   "cell_type": "code",
   "execution_count": null,
   "metadata": {
    "collapsed": true
   },
   "outputs": [],
   "source": [
    "# evaluate xgboost"
   ]
  },
  {
   "cell_type": "code",
   "execution_count": 71,
   "metadata": {},
   "outputs": [
    {
     "data": {
      "text/plain": [
       "0.86667173498362993"
      ]
     },
     "execution_count": 71,
     "metadata": {},
     "output_type": "execute_result"
    }
   ],
   "source": [
    "y_pred_train = grid_search.predict(X_train1)\n",
    "roc_auc_score(y_pred_train, y_train1)"
   ]
  },
  {
   "cell_type": "code",
   "execution_count": null,
   "metadata": {
    "collapsed": true
   },
   "outputs": [],
   "source": [
    "# evaluate random forest"
   ]
  },
  {
   "cell_type": "code",
   "execution_count": 53,
   "metadata": {
    "collapsed": true
   },
   "outputs": [],
   "source": [
    "from sklearn.metrics import roc_auc_score"
   ]
  },
  {
   "cell_type": "code",
   "execution_count": 54,
   "metadata": {},
   "outputs": [
    {
     "data": {
      "text/plain": [
       "0.86157949950326151"
      ]
     },
     "execution_count": 54,
     "metadata": {},
     "output_type": "execute_result"
    }
   ],
   "source": [
    "y_pred_les_train = grid_search_les.predict(X_train1)\n",
    "roc_auc_score(y_pred_les_train, y_train1)"
   ]
  },
  {
   "cell_type": "code",
   "execution_count": null,
   "metadata": {
    "collapsed": true
   },
   "outputs": [],
   "source": [
    "#upload test data"
   ]
  },
  {
   "cell_type": "code",
   "execution_count": 56,
   "metadata": {
    "collapsed": true
   },
   "outputs": [],
   "source": [
    "X_test = pd.read_csv('test_data.csv')"
   ]
  },
  {
   "cell_type": "code",
   "execution_count": 57,
   "metadata": {},
   "outputs": [
    {
     "data": {
      "text/plain": [
       "(13593, 21)"
      ]
     },
     "execution_count": 57,
     "metadata": {},
     "output_type": "execute_result"
    }
   ],
   "source": [
    "X_test.shape"
   ]
  },
  {
   "cell_type": "code",
   "execution_count": 76,
   "metadata": {
    "collapsed": true
   },
   "outputs": [],
   "source": [
    "X_test.drop(['duration'], axis=1, inplace=True)"
   ]
  },
  {
   "cell_type": "code",
   "execution_count": 58,
   "metadata": {
    "collapsed": true
   },
   "outputs": [],
   "source": [
    "X_test.drop(['Unnamed: 0'], axis=1, inplace=True)"
   ]
  },
  {
   "cell_type": "code",
   "execution_count": 60,
   "metadata": {},
   "outputs": [
    {
     "data": {
      "text/html": [
       "<div>\n",
       "<table border=\"1\" class=\"dataframe\">\n",
       "  <thead>\n",
       "    <tr style=\"text-align: right;\">\n",
       "      <th></th>\n",
       "      <th>job_admin.</th>\n",
       "      <th>job_blue-collar</th>\n",
       "      <th>job_entrepreneur</th>\n",
       "      <th>job_housemaid</th>\n",
       "      <th>job_management</th>\n",
       "      <th>job_retired</th>\n",
       "      <th>job_self-employed</th>\n",
       "      <th>job_services</th>\n",
       "      <th>job_student</th>\n",
       "      <th>job_technician</th>\n",
       "      <th>...</th>\n",
       "      <th>month_oct</th>\n",
       "      <th>month_sep</th>\n",
       "      <th>day_of_week_fri</th>\n",
       "      <th>day_of_week_mon</th>\n",
       "      <th>day_of_week_thu</th>\n",
       "      <th>day_of_week_tue</th>\n",
       "      <th>day_of_week_wed</th>\n",
       "      <th>poutcome_failure</th>\n",
       "      <th>poutcome_nonexistent</th>\n",
       "      <th>poutcome_success</th>\n",
       "    </tr>\n",
       "  </thead>\n",
       "  <tbody>\n",
       "    <tr>\n",
       "      <th>0</th>\n",
       "      <td>1</td>\n",
       "      <td>0</td>\n",
       "      <td>0</td>\n",
       "      <td>0</td>\n",
       "      <td>0</td>\n",
       "      <td>0</td>\n",
       "      <td>0</td>\n",
       "      <td>0</td>\n",
       "      <td>0</td>\n",
       "      <td>0</td>\n",
       "      <td>...</td>\n",
       "      <td>0</td>\n",
       "      <td>0</td>\n",
       "      <td>0</td>\n",
       "      <td>0</td>\n",
       "      <td>0</td>\n",
       "      <td>1</td>\n",
       "      <td>0</td>\n",
       "      <td>0</td>\n",
       "      <td>1</td>\n",
       "      <td>0</td>\n",
       "    </tr>\n",
       "    <tr>\n",
       "      <th>1</th>\n",
       "      <td>0</td>\n",
       "      <td>0</td>\n",
       "      <td>0</td>\n",
       "      <td>0</td>\n",
       "      <td>1</td>\n",
       "      <td>0</td>\n",
       "      <td>0</td>\n",
       "      <td>0</td>\n",
       "      <td>0</td>\n",
       "      <td>0</td>\n",
       "      <td>...</td>\n",
       "      <td>0</td>\n",
       "      <td>0</td>\n",
       "      <td>0</td>\n",
       "      <td>1</td>\n",
       "      <td>0</td>\n",
       "      <td>0</td>\n",
       "      <td>0</td>\n",
       "      <td>0</td>\n",
       "      <td>1</td>\n",
       "      <td>0</td>\n",
       "    </tr>\n",
       "    <tr>\n",
       "      <th>2</th>\n",
       "      <td>0</td>\n",
       "      <td>0</td>\n",
       "      <td>0</td>\n",
       "      <td>0</td>\n",
       "      <td>0</td>\n",
       "      <td>0</td>\n",
       "      <td>0</td>\n",
       "      <td>1</td>\n",
       "      <td>0</td>\n",
       "      <td>0</td>\n",
       "      <td>...</td>\n",
       "      <td>0</td>\n",
       "      <td>0</td>\n",
       "      <td>0</td>\n",
       "      <td>1</td>\n",
       "      <td>0</td>\n",
       "      <td>0</td>\n",
       "      <td>0</td>\n",
       "      <td>0</td>\n",
       "      <td>1</td>\n",
       "      <td>0</td>\n",
       "    </tr>\n",
       "  </tbody>\n",
       "</table>\n",
       "<p>3 rows × 52 columns</p>\n",
       "</div>"
      ],
      "text/plain": [
       "   job_admin.  job_blue-collar  job_entrepreneur  job_housemaid  \\\n",
       "0           1                0                 0              0   \n",
       "1           0                0                 0              0   \n",
       "2           0                0                 0              0   \n",
       "\n",
       "   job_management  job_retired  job_self-employed  job_services  job_student  \\\n",
       "0               0            0                  0             0            0   \n",
       "1               1            0                  0             0            0   \n",
       "2               0            0                  0             1            0   \n",
       "\n",
       "   job_technician        ...         month_oct  month_sep  day_of_week_fri  \\\n",
       "0               0        ...                 0          0                0   \n",
       "1               0        ...                 0          0                0   \n",
       "2               0        ...                 0          0                0   \n",
       "\n",
       "   day_of_week_mon  day_of_week_thu  day_of_week_tue  day_of_week_wed  \\\n",
       "0                0                0                1                0   \n",
       "1                1                0                0                0   \n",
       "2                1                0                0                0   \n",
       "\n",
       "   poutcome_failure  poutcome_nonexistent  poutcome_success  \n",
       "0                 0                     1                 0  \n",
       "1                 0                     1                 0  \n",
       "2                 0                     1                 0  \n",
       "\n",
       "[3 rows x 52 columns]"
      ]
     },
     "execution_count": 60,
     "metadata": {},
     "output_type": "execute_result"
    }
   ],
   "source": [
    "X_test_categorial = pd.get_dummies(X_test[['job', 'marital', 'education', 'default', 'housing', 'loan', 'contact', 'month', 'day_of_week', 'poutcome']])\n",
    "X_test_categorial.head(3)"
   ]
  },
  {
   "cell_type": "code",
   "execution_count": 61,
   "metadata": {
    "collapsed": true
   },
   "outputs": [],
   "source": [
    "X_test.drop(['job', 'marital', 'education', 'default', 'housing', 'loan', 'contact', 'month', 'day_of_week', 'poutcome'], axis=1, inplace=True)"
   ]
  },
  {
   "cell_type": "code",
   "execution_count": 62,
   "metadata": {},
   "outputs": [
    {
     "name": "stdout",
     "output_type": "stream",
     "text": [
      "(13593, 62)\n"
     ]
    }
   ],
   "source": [
    "X_test = pd.concat((X_test, X_test_categorial), axis=1)\n",
    "X_test = pd.DataFrame(X_test)\n",
    "print (X_test.shape)"
   ]
  },
  {
   "cell_type": "code",
   "execution_count": 63,
   "metadata": {
    "collapsed": true
   },
   "outputs": [],
   "source": [
    "X_test.insert(list(X_train.columns).index('default_yes'), 'default_yes', 0)"
   ]
  },
  {
   "cell_type": "code",
   "execution_count": null,
   "metadata": {
    "collapsed": true
   },
   "outputs": [],
   "source": [
    "#predict test data with random forest"
   ]
  },
  {
   "cell_type": "code",
   "execution_count": 64,
   "metadata": {},
   "outputs": [
    {
     "data": {
      "text/plain": [
       "array([[ 0.95936961,  0.04063039],\n",
       "       [ 0.77888935,  0.22111065],\n",
       "       [ 0.92773822,  0.07226178],\n",
       "       ..., \n",
       "       [ 0.97392186,  0.02607814],\n",
       "       [ 0.88837918,  0.11162082],\n",
       "       [ 0.65704749,  0.34295251]])"
      ]
     },
     "execution_count": 64,
     "metadata": {},
     "output_type": "execute_result"
    }
   ],
   "source": [
    "y_pred_test_prob = grid_search_les.predict_proba(X_test)\n",
    "y_pred_test_prob"
   ]
  },
  {
   "cell_type": "code",
   "execution_count": 66,
   "metadata": {},
   "outputs": [
    {
     "data": {
      "text/plain": [
       "array([ 0.04063039,  0.22111065,  0.07226178, ...,  0.02607814,\n",
       "        0.11162082,  0.34295251])"
      ]
     },
     "execution_count": 66,
     "metadata": {},
     "output_type": "execute_result"
    }
   ],
   "source": [
    "y_pred_test_prob2=y_pred_test_prob[:,1]\n",
    "y_pred_test_prob2"
   ]
  },
  {
   "cell_type": "code",
   "execution_count": 67,
   "metadata": {
    "collapsed": true
   },
   "outputs": [],
   "source": [
    "data_test = pd.DataFrame(data=y_pred_test_prob2, columns=['Prediction'])"
   ]
  },
  {
   "cell_type": "code",
   "execution_count": 68,
   "metadata": {
    "collapsed": true
   },
   "outputs": [],
   "source": [
    "data_test.to_csv(\"C:/Users/Zelich/kaggle_rand_pred.csv\",index=True, index_label='Id')"
   ]
  },
  {
   "cell_type": "code",
   "execution_count": null,
   "metadata": {
    "collapsed": true
   },
   "outputs": [],
   "source": [
    "#predict test data with xgboost"
   ]
  },
  {
   "cell_type": "code",
   "execution_count": 72,
   "metadata": {},
   "outputs": [
    {
     "data": {
      "text/plain": [
       "array([[  9.99143481e-01,   8.56536150e-04],\n",
       "       [  2.46372640e-01,   7.53627360e-01],\n",
       "       [  9.47620213e-01,   5.23798056e-02],\n",
       "       ..., \n",
       "       [  9.99916911e-01,   8.31068828e-05],\n",
       "       [  9.67691541e-01,   3.23084518e-02],\n",
       "       [  8.22794199e-01,   1.77205786e-01]], dtype=float32)"
      ]
     },
     "execution_count": 72,
     "metadata": {},
     "output_type": "execute_result"
    }
   ],
   "source": [
    "y_pred_test_prob1 = grid_search.predict_proba(X_test)\n",
    "y_pred_test_prob1"
   ]
  },
  {
   "cell_type": "code",
   "execution_count": 73,
   "metadata": {},
   "outputs": [
    {
     "data": {
      "text/plain": [
       "array([  8.56536150e-04,   7.53627360e-01,   5.23798056e-02, ...,\n",
       "         8.31068828e-05,   3.23084518e-02,   1.77205786e-01], dtype=float32)"
      ]
     },
     "execution_count": 73,
     "metadata": {},
     "output_type": "execute_result"
    }
   ],
   "source": [
    "y_pred_test_prob3=y_pred_test_prob1[:,1]\n",
    "y_pred_test_prob3"
   ]
  },
  {
   "cell_type": "code",
   "execution_count": 74,
   "metadata": {
    "collapsed": true
   },
   "outputs": [],
   "source": [
    "data_test = pd.DataFrame(data=y_pred_test_prob3, columns=['Prediction'])"
   ]
  },
  {
   "cell_type": "code",
   "execution_count": 75,
   "metadata": {
    "collapsed": true
   },
   "outputs": [],
   "source": [
    "data_test.to_csv(\"C:/Users/Zelich/kaggle_xgboost_pred.csv\",index=True, index_label='Id')"
   ]
  },
  {
   "cell_type": "code",
   "execution_count": null,
   "metadata": {
    "collapsed": true
   },
   "outputs": [],
   "source": []
  }
 ],
 "metadata": {
  "kernelspec": {
   "display_name": "Python 3",
   "language": "python",
   "name": "python3"
  },
  "language_info": {
   "codemirror_mode": {
    "name": "ipython",
    "version": 3
   },
   "file_extension": ".py",
   "mimetype": "text/x-python",
   "name": "python",
   "nbconvert_exporter": "python",
   "pygments_lexer": "ipython3",
   "version": "3.6.1"
  }
 },
 "nbformat": 4,
 "nbformat_minor": 1
}
