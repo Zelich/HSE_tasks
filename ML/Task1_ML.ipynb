{
 "cells": [
  {
   "cell_type": "code",
   "execution_count": 1,
   "metadata": {
    "collapsed": true
   },
   "outputs": [],
   "source": [
    "import numpy as np\n",
    "from tensorflow.examples.tutorials.mnist import input_data"
   ]
  },
  {
   "cell_type": "code",
   "execution_count": 2,
   "metadata": {
    "collapsed": true
   },
   "outputs": [],
   "source": [
    "class Model:\n",
    "    \"\"\" Abstract class for ml-model. Don't change this class\"\"\"\n",
    "    def fit(self, x, y):\n",
    "        \"\"\" Method to train model \"\"\"\n",
    "        pass\n",
    "\n",
    "    def predict(self, x):\n",
    "        \"\"\" Method to evaluate model. Returns prediction y\"\"\""
   ]
  },
  {
   "cell_type": "code",
   "execution_count": 3,
   "metadata": {
    "collapsed": true
   },
   "outputs": [],
   "source": [
    "def accuracy(y1: np.ndarray, y2: np.ndarray):\n",
    "    \"\"\" Takes 2 arrays and return scalar \"\"\"\n",
    "    assert y1.shape == y2.shape\n",
    "    y1 = np.argmax(y1, axis=1)\n",
    "    y2 = np.argmax(y2, axis=1)\n",
    "\n",
    "    return np.mean((y1 == y2).astype(float))"
   ]
  },
  {
   "cell_type": "code",
   "execution_count": 74,
   "metadata": {},
   "outputs": [
    {
     "data": {
      "text/plain": [
       "array([[ 0.59638022,  0.26480237,  0.95383763, ...,  0.41952788,\n",
       "         0.70415728,  0.8627453 ],\n",
       "       [ 0.37030142,  0.8693589 ,  0.17868104, ...,  0.5318553 ,\n",
       "         0.79238889,  0.98275661],\n",
       "       [ 0.37456635,  0.40815632,  0.74087919, ...,  0.29510551,\n",
       "         0.69086808,  0.48948038],\n",
       "       ..., \n",
       "       [ 0.46924481,  0.49394905,  0.54945235, ...,  0.39830786,\n",
       "         0.19991899,  0.23632406],\n",
       "       [ 0.58447416,  0.53666808,  0.41919486, ...,  0.12900425,\n",
       "         0.63309114,  0.46548266],\n",
       "       [ 0.4790759 ,  0.26333053,  0.62284884, ...,  0.43897861,\n",
       "         0.62391139,  0.57334614]])"
      ]
     },
     "execution_count": 74,
     "metadata": {},
     "output_type": "execute_result"
    }
   ],
   "source": [
    "np.random.rand(mnist.train.images.shape[1], 10)"
   ]
  },
  {
   "cell_type": "code",
   "execution_count": 240,
   "metadata": {
    "collapsed": true
   },
   "outputs": [],
   "source": [
    "np.set_printoptions(threshold=55000)"
   ]
  },
  {
   "cell_type": "code",
   "execution_count": 368,
   "metadata": {},
   "outputs": [],
   "source": [
    "class MyModel(Model):\n",
    "    \n",
    "    def grad(self, x, y, y_pred):\n",
    "        xt = x.T\n",
    "        kek = np.dot(xt, (y-y_pred))\n",
    "        return -kek/x.shape[0]\n",
    "        \n",
    "    \"\"\" CHANGE ONLY THIS CLASS.\"\"\"\n",
    "    def fit(self, x, y):\n",
    "        \"\"\" implement here a logic according to your assignment\"\"\"\n",
    "        num_inputs = x.shape[1]\n",
    "        num_outputs = y.shape[1]\n",
    "        num_examples = x.shape[0]\n",
    "        np.random.seed(42)\n",
    "        self.w = np.random.rand(num_inputs, num_outputs)\n",
    "        iter_num = 200\n",
    "        lr = 0.2\n",
    "        for i in range(iter_num):\n",
    "            y_pred = self.predict_prob(x)\n",
    "            self.w = self.w - lr * self.grad(x, y, y_pred)\n",
    "#             self.w = self.w - (lr * (1-i**2/iter_num**2)) * self.grad(x, y, y_pred)    \n",
    "            if (i+1) % 10 == 0:\n",
    "                print(\"iter number\", i+1)\n",
    "        pass\n",
    "    \n",
    "    def predict_prob(self, x):\n",
    "        xw = np.dot(x, self.w).T\n",
    "        xw = np.exp(xw - xw.max(axis=0))\n",
    "        return (xw/xw.sum(axis=0)).T\n",
    "\n",
    "    def predict(self, x):\n",
    "        \"\"\" implement here a logic according to your assignment\"\"\"\n",
    "        y_pred = self.predict_prob(x)\n",
    "        y = np.zeros((x.shape[0], y_pred.shape[1]), dtype=int)\n",
    "        y[range(len(y)), np.argmax(y_pred, axis=1)] = 1\n",
    "        return y\n"
   ]
  },
  {
   "cell_type": "code",
   "execution_count": 369,
   "metadata": {
    "scrolled": false
   },
   "outputs": [
    {
     "name": "stdout",
     "output_type": "stream",
     "text": [
      "Extracting MNIST_data\\train-images-idx3-ubyte.gz\n",
      "Extracting MNIST_data\\train-labels-idx1-ubyte.gz\n",
      "Extracting MNIST_data\\t10k-images-idx3-ubyte.gz\n",
      "Extracting MNIST_data\\t10k-labels-idx1-ubyte.gz\n",
      "iter number 10\n",
      "iter number 20\n",
      "iter number 30\n",
      "iter number 40\n",
      "iter number 50\n",
      "iter number 60\n",
      "iter number 70\n",
      "iter number 80\n",
      "iter number 90\n",
      "iter number 100\n",
      "iter number 110\n",
      "iter number 120\n",
      "iter number 130\n",
      "iter number 140\n",
      "iter number 150\n",
      "iter number 160\n",
      "iter number 170\n",
      "iter number 180\n",
      "iter number 190\n",
      "iter number 200\n"
     ]
    }
   ],
   "source": [
    "# don't change lines below\n",
    "mnist = input_data.read_data_sets('MNIST_data', one_hot=True)\n",
    "mnist.train  # train part of dataset\n",
    "mnist.test  # test part of dataset\n",
    "\n",
    "mnist.train.images  # numpy array of shape (55000, 784) i.e pixels pixels [0,1.0]\n",
    "mnist.train.labels  # numpy array of shape (55000, 10) i.e. one-hot encoded labels\n",
    "# one-hot coding have 1 at corresponding position and zeros else\n",
    "# examples:\n",
    "#  0 is (1, 0, 0, 0, 0, 0, 0, 0, 0, 0,)\n",
    "#  1 is (0, 1, 0, 0, 0, 0, 0, 0, 0, 0,)\n",
    "#  2 is (0, 0, 1, 0, 0, 0, 0, 0, 0, 0,)\n",
    "# ...\n",
    "#  9 is (0, 0, 0, 0, 0, 0, 0, 0, 0, 1,)\n",
    "\n",
    "\n",
    "model = MyModel()\n",
    "model.fit(mnist.train.images, mnist.train.labels)\n",
    "# evaluate on train data\n"
   ]
  },
  {
   "cell_type": "code",
   "execution_count": 370,
   "metadata": {},
   "outputs": [
    {
     "name": "stdout",
     "output_type": "stream",
     "text": [
      "Train accuracy:  0.844872727273\n",
      "Test accuracy:  0.8532\n"
     ]
    }
   ],
   "source": [
    "labels_ = model.predict(mnist.train.images)\n",
    "acc = accuracy(mnist.train.labels, labels_)\n",
    "print(\"Train accuracy: \", acc)\n",
    "\n",
    "# evaluate on test data\n",
    "labels_ = model.predict(mnist.test.images)\n",
    "acc = accuracy(mnist.test.labels, labels_)\n",
    "print(\"Test accuracy: \", acc)"
   ]
  },
  {
   "cell_type": "code",
   "execution_count": null,
   "metadata": {
    "collapsed": true
   },
   "outputs": [],
   "source": []
  }
 ],
 "metadata": {
  "kernelspec": {
   "display_name": "Python 3",
   "language": "python",
   "name": "python3"
  },
  "language_info": {
   "codemirror_mode": {
    "name": "ipython",
    "version": 3
   },
   "file_extension": ".py",
   "mimetype": "text/x-python",
   "name": "python",
   "nbconvert_exporter": "python",
   "pygments_lexer": "ipython3",
   "version": "3.6.1"
  }
 },
 "nbformat": 4,
 "nbformat_minor": 2
}
