{
 "cells": [
  {
   "cell_type": "code",
   "execution_count": 177,
   "metadata": {
    "collapsed": true
   },
   "outputs": [],
   "source": [
    "import pandas as pd\n",
    "import numpy as np\n",
    "from sklearn import svm, datasets, preprocessing\n",
    "from sklearn.grid_search import GridSearchCV\n",
    "from sklearn.preprocessing import scale"
   ]
  },
  {
   "cell_type": "code",
   "execution_count": 336,
   "metadata": {
    "collapsed": false
   },
   "outputs": [],
   "source": [
    "data_train = pd.read_csv(\"C:\\Serega\\Python\\elections_usa96_train.csv\")"
   ]
  },
  {
   "cell_type": "code",
   "execution_count": 337,
   "metadata": {
    "collapsed": false
   },
   "outputs": [],
   "source": [
    "X = data_train.loc[:,\"popul\":\"income\"]\n",
    "y = data_train.loc[:,\"vote\"]"
   ]
  },
  {
   "cell_type": "code",
   "execution_count": 338,
   "metadata": {
    "collapsed": false
   },
   "outputs": [],
   "source": [
    "d1={\"extLib\":1, \"Lib\":2, \"sliLib\":3, \"Mod\":4, \"sliCon\":5, \"Con\":6, \"extCon\":7}\n",
    "d2={\"MS\":1, \"HSdrop\":2, \"HS\":6, \"Coll\":8, \"CCdeg\":10, \"BAdeg\":15, \"MAdeg\":20}\n",
    "def sas(q):\n",
    "    i = 0\n",
    "    w = pd.Series()\n",
    "    for inc in q:\n",
    "        inc = inc.replace(\"$\", \"\")\n",
    "        inc = inc.replace(\"inus\", \"\")\n",
    "        inc = inc.replace(\"lus\", \"\")\n",
    "        inc = inc.replace(\"K\", \"\")\n",
    "        inc = inc.split(\"-\")\n",
    "        if len(inc) == 2:\n",
    "            inc = (float(inc[0])+float(inc[1]))/2\n",
    "        elif (inc[0][-1]==\"p\"):\n",
    "            inc = float(inc[0][:-1])*1.2            \n",
    "        else:\n",
    "            inc = float(inc[0][:-1])*0.8\n",
    "        w = w.set_value(i, inc)\n",
    "        i += 1\n",
    "    return w"
   ]
  },
  {
   "cell_type": "code",
   "execution_count": 339,
   "metadata": {
    "collapsed": false
   },
   "outputs": [],
   "source": [
    "X = X.replace({\"ClinLR\": d1})\n",
    "X = X.replace({\"DoleLR\": d1})\n",
    "X = X.replace({\"educ\": d2})\n",
    "v = sas(X[\"income\"])\n",
    "X[\"income\"] = v\n",
    "y = y.replace([\"Dole\",\"Clinton\"],[1,0])"
   ]
  },
  {
   "cell_type": "code",
   "execution_count": 340,
   "metadata": {
    "collapsed": false
   },
   "outputs": [],
   "source": [
    "X = scale(X.as_matrix())\n",
    "y = y.as_matrix()"
   ]
  },
  {
   "cell_type": "code",
   "execution_count": 341,
   "metadata": {
    "collapsed": false
   },
   "outputs": [],
   "source": [
    "parameters = {'kernel':['rbf'], 'C':np.arange(0.75,1.3,0.025)}\n",
    "#parameters = {'kernel':('linear', 'rbf'), 'C':[1, 10]}"
   ]
  },
  {
   "cell_type": "code",
   "execution_count": 342,
   "metadata": {
    "collapsed": true
   },
   "outputs": [],
   "source": [
    "svr = svm.SVC()"
   ]
  },
  {
   "cell_type": "code",
   "execution_count": 343,
   "metadata": {
    "collapsed": false
   },
   "outputs": [],
   "source": [
    "clf = GridSearchCV(svr, param_grid = parameters, cv = 20)"
   ]
  },
  {
   "cell_type": "code",
   "execution_count": 344,
   "metadata": {
    "collapsed": false
   },
   "outputs": [
    {
     "data": {
      "text/plain": [
       "GridSearchCV(cv=20, error_score='raise',\n",
       "       estimator=SVC(C=1.0, cache_size=200, class_weight=None, coef0=0.0,\n",
       "  decision_function_shape=None, degree=3, gamma='auto', kernel='rbf',\n",
       "  max_iter=-1, probability=False, random_state=None, shrinking=True,\n",
       "  tol=0.001, verbose=False),\n",
       "       fit_params={}, iid=True, n_jobs=1,\n",
       "       param_grid={'C': array([ 0.75 ,  0.775,  0.8  ,  0.825,  0.85 ,  0.875,  0.9  ,  0.925,\n",
       "        0.95 ,  0.975,  1.   ,  1.025,  1.05 ,  1.075,  1.1  ,  1.125,\n",
       "        1.15 ,  1.175]), 'kernel': ['rbf']},\n",
       "       pre_dispatch='2*n_jobs', refit=True, scoring=None, verbose=0)"
      ]
     },
     "execution_count": 344,
     "metadata": {},
     "output_type": "execute_result"
    }
   ],
   "source": [
    "clf.fit(X, y)"
   ]
  },
  {
   "cell_type": "code",
   "execution_count": 345,
   "metadata": {
    "collapsed": false
   },
   "outputs": [
    {
     "name": "stdout",
     "output_type": "stream",
     "text": [
      "{'C': 1.1750000000000003, 'kernel': 'rbf'} 0.771186440678\n"
     ]
    }
   ],
   "source": [
    "print(clf.best_params_, clf.best_score_)"
   ]
  },
  {
   "cell_type": "code",
   "execution_count": 346,
   "metadata": {
    "collapsed": false
   },
   "outputs": [],
   "source": [
    "Xn = pd.read_csv(\"C:\\Serega\\Python\\elections_usa96_test.csv\")\n",
    "Xn = Xn.replace({\"ClinLR\": d1})\n",
    "Xn = Xn.replace({\"DoleLR\": d1})\n",
    "Xn = Xn.replace({\"educ\": d2})\n",
    "v = sas(Xn[\"income\"])\n",
    "Xn[\"income\"] = v\n",
    "Xn = scale(Xn)"
   ]
  },
  {
   "cell_type": "code",
   "execution_count": 347,
   "metadata": {
    "collapsed": false
   },
   "outputs": [
    {
     "data": {
      "text/html": [
       "<div>\n",
       "<table border=\"1\" class=\"dataframe\">\n",
       "  <thead>\n",
       "    <tr style=\"text-align: right;\">\n",
       "      <th></th>\n",
       "      <th>vote</th>\n",
       "    </tr>\n",
       "  </thead>\n",
       "  <tbody>\n",
       "    <tr>\n",
       "      <th>0</th>\n",
       "      <td>Dole</td>\n",
       "    </tr>\n",
       "    <tr>\n",
       "      <th>1</th>\n",
       "      <td>Clinton</td>\n",
       "    </tr>\n",
       "    <tr>\n",
       "      <th>2</th>\n",
       "      <td>Clinton</td>\n",
       "    </tr>\n",
       "    <tr>\n",
       "      <th>3</th>\n",
       "      <td>Clinton</td>\n",
       "    </tr>\n",
       "    <tr>\n",
       "      <th>4</th>\n",
       "      <td>Clinton</td>\n",
       "    </tr>\n",
       "  </tbody>\n",
       "</table>\n",
       "</div>"
      ],
      "text/plain": [
       "      vote\n",
       "0     Dole\n",
       "1  Clinton\n",
       "2  Clinton\n",
       "3  Clinton\n",
       "4  Clinton"
      ]
     },
     "execution_count": 347,
     "metadata": {},
     "output_type": "execute_result"
    }
   ],
   "source": [
    "t = clf.predict(Xn)\n",
    "t = pd.Series(t).replace([1,0],[\"Dole\",\"Clinton\"])\n",
    "z = np.arange(len(t))\n",
    "d = {'vote' : t}\n",
    "df = pd.DataFrame(d)\n",
    "\n",
    "df.to_csv(\"C:\\Serega\\Python\\elections_usa96_predict.csv\")\n",
    "df.head()"
   ]
  }
 ],
 "metadata": {
  "anaconda-cloud": {},
  "kernelspec": {
   "display_name": "Python [default]",
   "language": "python",
   "name": "python3"
  },
  "language_info": {
   "codemirror_mode": {
    "name": "ipython",
    "version": 3
   },
   "file_extension": ".py",
   "mimetype": "text/x-python",
   "name": "python",
   "nbconvert_exporter": "python",
   "pygments_lexer": "ipython3",
   "version": "3.5.2"
  }
 },
 "nbformat": 4,
 "nbformat_minor": 1
}
