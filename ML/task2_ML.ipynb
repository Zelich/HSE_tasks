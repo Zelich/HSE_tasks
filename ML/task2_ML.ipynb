{
 "cells": [
  {
   "cell_type": "code",
   "execution_count": 1,
   "metadata": {},
   "outputs": [
    {
     "name": "stdout",
     "output_type": "stream",
     "text": [
      "1.2.0-rc2\n"
     ]
    }
   ],
   "source": [
    "import numpy as np\n",
    "import tensorflow as tf\n",
    "\n",
    "print(tf.__version__)\n",
    "\n",
    "#config = tf.ConfigProto(intra_op_parallelism_threads=3, inter_op_parallelism_threads=3, \\\n",
    "#                        allow_soft_placement=True, device_count = {'CPU': 1})\n",
    "#session = tf.Session(config=config)\n",
    "session = tf.InteractiveSession()\n"
   ]
  },
  {
   "cell_type": "code",
   "execution_count": 2,
   "metadata": {},
   "outputs": [
    {
     "name": "stdout",
     "output_type": "stream",
     "text": [
      "Extracting MNIST_data\\train-images-idx3-ubyte.gz\n",
      "Extracting MNIST_data\\train-labels-idx1-ubyte.gz\n",
      "Extracting MNIST_data\\t10k-images-idx3-ubyte.gz\n",
      "Extracting MNIST_data\\t10k-labels-idx1-ubyte.gz\n",
      "(55000, 784)\n",
      "(55000, 10)\n",
      "(10000, 784)\n",
      "(10000, 10)\n"
     ]
    }
   ],
   "source": [
    "from tensorflow.examples.tutorials.mnist import input_data\n",
    "mnist = input_data.read_data_sets('MNIST_data', one_hot=True)\n",
    "\n",
    "trainX = mnist.train.images\n",
    "trainY = mnist.train.labels\n",
    "\n",
    "testX = mnist.test.images\n",
    "testY = mnist.test.labels\n",
    "\n",
    "print(trainX.shape)\n",
    "print(trainY.shape)\n",
    "print(testX.shape)\n",
    "print(testY.shape)\n"
   ]
  },
  {
   "cell_type": "code",
   "execution_count": 3,
   "metadata": {
    "collapsed": true
   },
   "outputs": [],
   "source": [
    "import matplotlib.pyplot as plt\n",
    "%matplotlib inline\n",
    "\n",
    "def show_img(sample):\n",
    "    pixels = np.array(sample, dtype = 'float32')\n",
    "    pixels = pixels.reshape((28,28))\n",
    "    #\n",
    "    plt.imshow(pixels)\n",
    "    plt.show()\n",
    "    "
   ]
  },
  {
   "cell_type": "code",
   "execution_count": 4,
   "metadata": {},
   "outputs": [
    {
     "data": {
      "image/png": "[encoded data removed]",
      "text/plain": [
       "<matplotlib.figure.Figure at 0x130b52d19e8>"
      ]
     },
     "metadata": {},
     "output_type": "display_data"
    },
    {
     "name": "stdout",
     "output_type": "stream",
     "text": [
      "[ 0.  0.  0.  0.  0.  0.  0.  1.  0.  0.]\n"
     ]
    },
    {
     "data": {
      "image/png": "[encoded data removed]",
      "text/plain": [
       "<matplotlib.figure.Figure at 0x130b35312b0>"
      ]
     },
     "metadata": {},
     "output_type": "display_data"
    },
    {
     "name": "stdout",
     "output_type": "stream",
     "text": [
      "[ 0.  1.  0.  0.  0.  0.  0.  0.  0.  0.]\n"
     ]
    },
    {
     "data": {
      "image/png": "[encoded data removed]",
      "text/plain": [
       "<matplotlib.figure.Figure at 0x130b9093e48>"
      ]
     },
     "metadata": {},
     "output_type": "display_data"
    },
    {
     "name": "stdout",
     "output_type": "stream",
     "text": [
      "[ 0.  0.  0.  0.  0.  0.  1.  0.  0.  0.]\n"
     ]
    },
    {
     "data": {
      "image/png": "[encoded data removed]",
      "text/plain": [
       "<matplotlib.figure.Figure at 0x130b9139dd8>"
      ]
     },
     "metadata": {},
     "output_type": "display_data"
    },
    {
     "name": "stdout",
     "output_type": "stream",
     "text": [
      "[ 0.  0.  0.  0.  0.  1.  0.  0.  0.  0.]\n"
     ]
    },
    {
     "data": {
      "image/png": "[encoded data removed]",
      "text/plain": [
       "<matplotlib.figure.Figure at 0x130b91d1208>"
      ]
     },
     "metadata": {},
     "output_type": "display_data"
    },
    {
     "name": "stdout",
     "output_type": "stream",
     "text": [
      "[ 0.  0.  0.  1.  0.  0.  0.  0.  0.  0.]\n"
     ]
    },
    {
     "data": {
      "image/png": "[encoded data removed]",
      "text/plain": [
       "<matplotlib.figure.Figure at 0x130b94920f0>"
      ]
     },
     "metadata": {},
     "output_type": "display_data"
    },
    {
     "name": "stdout",
     "output_type": "stream",
     "text": [
      "[ 0.  0.  0.  0.  0.  0.  0.  1.  0.  0.]\n"
     ]
    },
    {
     "data": {
      "image/png": "[encoded data removed]",
      "text/plain": [
       "<matplotlib.figure.Figure at 0x130b9534358>"
      ]
     },
     "metadata": {},
     "output_type": "display_data"
    },
    {
     "name": "stdout",
     "output_type": "stream",
     "text": [
      "[ 1.  0.  0.  0.  0.  0.  0.  0.  0.  0.]\n"
     ]
    },
    {
     "data": {
      "image/png": "[encoded data removed]",
      "text/plain": [
       "<matplotlib.figure.Figure at 0x130b95b9ef0>"
      ]
     },
     "metadata": {},
     "output_type": "display_data"
    },
    {
     "name": "stdout",
     "output_type": "stream",
     "text": [
      "[ 0.  0.  0.  0.  0.  0.  0.  0.  1.  0.]\n"
     ]
    },
    {
     "data": {
      "image/png": "[encoded data removed]",
      "text/plain": [
       "<matplotlib.figure.Figure at 0x130b965bda0>"
      ]
     },
     "metadata": {},
     "output_type": "display_data"
    },
    {
     "name": "stdout",
     "output_type": "stream",
     "text": [
      "[ 0.  0.  0.  1.  0.  0.  0.  0.  0.  0.]\n"
     ]
    },
    {
     "data": {
      "image/png": "[encoded data removed]",
      "text/plain": [
       "<matplotlib.figure.Figure at 0x130b96dde80>"
      ]
     },
     "metadata": {},
     "output_type": "display_data"
    },
    {
     "name": "stdout",
     "output_type": "stream",
     "text": [
      "[ 0.  0.  0.  0.  1.  0.  0.  0.  0.  0.]\n"
     ]
    },
    {
     "data": {
      "image/png": "[encoded data removed]",
      "text/plain": [
       "<matplotlib.figure.Figure at 0x130b94a8710>"
      ]
     },
     "metadata": {},
     "output_type": "display_data"
    },
    {
     "name": "stdout",
     "output_type": "stream",
     "text": [
      "[ 0.  0.  0.  0.  0.  0.  0.  0.  1.  0.]\n"
     ]
    },
    {
     "data": {
      "image/png": "[encoded data removed]",
      "text/plain": [
       "<matplotlib.figure.Figure at 0x130b98060f0>"
      ]
     },
     "metadata": {},
     "output_type": "display_data"
    },
    {
     "name": "stdout",
     "output_type": "stream",
     "text": [
      "[ 0.  0.  0.  0.  0.  0.  0.  0.  1.  0.]\n"
     ]
    },
    {
     "data": {
      "image/png": "[encoded data removed]",
      "text/plain": [
       "<matplotlib.figure.Figure at 0x130b978c1d0>"
      ]
     },
     "metadata": {},
     "output_type": "display_data"
    },
    {
     "name": "stdout",
     "output_type": "stream",
     "text": [
      "[ 0.  0.  0.  0.  0.  1.  0.  0.  0.  0.]\n"
     ]
    },
    {
     "data": {
      "image/png": "[encoded data removed]",
      "text/plain": [
       "<matplotlib.figure.Figure at 0x130b982a198>"
      ]
     },
     "metadata": {},
     "output_type": "display_data"
    },
    {
     "name": "stdout",
     "output_type": "stream",
     "text": [
      "[ 0.  0.  0.  0.  0.  0.  1.  0.  0.  0.]\n"
     ]
    },
    {
     "data": {
      "image/png": "[encoded data removed]",
      "text/plain": [
       "<matplotlib.figure.Figure at 0x130b949e320>"
      ]
     },
     "metadata": {},
     "output_type": "display_data"
    },
    {
     "name": "stdout",
     "output_type": "stream",
     "text": [
      "[ 0.  0.  0.  0.  0.  0.  0.  1.  0.  0.]\n"
     ]
    },
    {
     "data": {
      "image/png": "[encoded data removed]",
      "text/plain": [
       "<matplotlib.figure.Figure at 0x130b98c7be0>"
      ]
     },
     "metadata": {},
     "output_type": "display_data"
    },
    {
     "name": "stdout",
     "output_type": "stream",
     "text": [
      "[ 0.  0.  0.  0.  0.  0.  0.  1.  0.  0.]\n"
     ]
    },
    {
     "data": {
      "image/png": "[encoded data removed]",
      "text/plain": [
       "<matplotlib.figure.Figure at 0x130b3531358>"
      ]
     },
     "metadata": {},
     "output_type": "display_data"
    },
    {
     "name": "stdout",
     "output_type": "stream",
     "text": [
      "[ 0.  0.  0.  0.  0.  0.  0.  0.  0.  1.]\n"
     ]
    },
    {
     "data": {
      "image/png": "[encoded data removed]",
      "text/plain": [
       "<matplotlib.figure.Figure at 0x130b35b2eb8>"
      ]
     },
     "metadata": {},
     "output_type": "display_data"
    },
    {
     "name": "stdout",
     "output_type": "stream",
     "text": [
      "[ 1.  0.  0.  0.  0.  0.  0.  0.  0.  0.]\n"
     ]
    },
    {
     "data": {
      "image/png": "[encoded data removed]",
      "text/plain": [
       "<matplotlib.figure.Figure at 0x130b9611f98>"
      ]
     },
     "metadata": {},
     "output_type": "display_data"
    },
    {
     "name": "stdout",
     "output_type": "stream",
     "text": [
      "[ 0.  0.  0.  0.  0.  0.  0.  0.  1.  0.]\n"
     ]
    },
    {
     "data": {
      "image/png": "[encoded data removed]",
      "text/plain": [
       "<matplotlib.figure.Figure at 0x130b953e240>"
      ]
     },
     "metadata": {},
     "output_type": "display_data"
    },
    {
     "name": "stdout",
     "output_type": "stream",
     "text": [
      "[ 0.  0.  1.  0.  0.  0.  0.  0.  0.  0.]\n"
     ]
    }
   ],
   "source": [
    "for i in range(20):\n",
    "    show_img(trainX[i*20, :])\n",
    "    print (trainY[i*20])"
   ]
  },
  {
   "cell_type": "code",
   "execution_count": 5,
   "metadata": {},
   "outputs": [
    {
     "name": "stdout",
     "output_type": "stream",
     "text": [
      "55000 784 10\n"
     ]
    }
   ],
   "source": [
    "example_num, input_num = trainX.shape\n",
    "output_num = len(trainY[0,:])\n",
    "print(example_num, input_num, output_num)"
   ]
  },
  {
   "cell_type": "code",
   "execution_count": 46,
   "metadata": {
    "collapsed": true
   },
   "outputs": [],
   "source": [
    "def cross_entropy(predictions, targets, epsilon=1e-12):\n",
    "    ce = -tf.reduce_mean(tf.log(tf.reduce_sum(y * tf.exp(y_pred), reduction_indices=[1]) / tf.reduce_sum(tf.exp(y_pred))))\n",
    "    return ce"
   ]
  },
  {
   "cell_type": "code",
   "execution_count": 238,
   "metadata": {},
   "outputs": [],
   "source": [
    "'''\n",
    "current network has 1 hidden layer activated by sigmoid function and output layer. \n",
    "Thus we should optimise two matrices of weights and two vectors of biases - for hidden and output layers.\n",
    "'''\n",
    "\n",
    "#number of hidden layers\n",
    "num_hidden_nodes = 100 #400 - 0.979\n",
    "\n",
    "\n",
    "# creating weights and bias for hidden layer\n",
    "W1_initial = np.random.rand(input_num, num_hidden_nodes)/(input_num*num_hidden_nodes) # make noise and norm it\n",
    "W1_b = tf.Variable((np.random.rand(1, num_hidden_nodes)), dtype=tf.float32, name='W1_b') #  same fir bias\n",
    "W1 = tf.Variable(W1_initial, dtype=tf.float32, name='W1') # make tf variable with initial value if W_initial\n",
    "\n",
    "# creating weights and bias for output layer\n",
    "W2_initial = np.random.rand(num_hidden_nodes, output_num)/(num_hidden_nodes*output_num) # make noise and norm it\n",
    "W2_b = tf.Variable((np.random.rand(1, output_num)), dtype=tf.float32, name='W2_b') #  same fir bias\n",
    "W2 = tf.Variable(W2_initial, dtype=tf.float32, name='W2') # make tf variable with initial value if W_initial\n",
    "\n",
    "\n",
    "# placeholders for (x, y)\n",
    "x = tf.placeholder(tf.float32, shape=(None, input_num), name='x') # don't rename it\n",
    "y = tf.placeholder(tf.float32, shape=(None, output_num), name='y') # don't rename it\n",
    "\n",
    "\n",
    "# dropout layer to avoid overfitting\n",
    "h = tf.nn.dropout(h, 0.75)\n",
    "# sigmoid function for hidden layer.\n",
    "h = tf.nn.sigmoid(tf.matmul(x, W1) + W1_b)\n",
    "# dence layer for output\n",
    "y_pred = tf.matmul(h, W2) + W2_b\n",
    "\n",
    "# actually it is just a loss function based on cross-entropy\n",
    "cost = -tf.reduce_mean(\n",
    "    tf.log(\n",
    "        tf.reduce_sum(y * tf.exp(y_pred), reduction_indices=[1])\n",
    "        / tf.reduce_sum(tf.exp(y_pred))\n",
    "    ))\n",
    "\n",
    "\n",
    "lr = 0.1 # learning rate\n",
    "optimizer = tf.train.GradientDescentOptimizer(lr)\n",
    "\n",
    "grads = tf.gradients(cost, tf.trainable_variables()) # take gradient of ALL TRAINABLES variables\n",
    "grad_list = list(zip(grads, tf.trainable_variables()))\n",
    "\n",
    "update = optimizer.apply_gradients(grads_and_vars=grad_list) # don't rename this op\n",
    "\n",
    "pred = tf.cast(tf.equal(tf.argmax(y_pred,1), tf.argmax(y,1)), tf.float32)\n",
    "acc = tf.reduce_mean(pred) # don't rename this op\n"
   ]
  },
  {
   "cell_type": "code",
   "execution_count": 239,
   "metadata": {},
   "outputs": [
    {
     "data": {
      "text/plain": [
       "(55000, 784)"
      ]
     },
     "execution_count": 239,
     "metadata": {},
     "output_type": "execute_result"
    }
   ],
   "source": [
    "trainX.shape"
   ]
  },
  {
   "cell_type": "code",
   "execution_count": 240,
   "metadata": {},
   "outputs": [
    {
     "name": "stdout",
     "output_type": "stream",
     "text": [
      "epoch: 0 error:3.097543\n",
      "epoch: 1 error:2.646605\n",
      "epoch: 2 error:2.575731\n",
      "epoch: 3 error:2.539056\n",
      "epoch: 4 error:2.515263\n",
      "epoch: 5 error:2.497926\n",
      "epoch: 6 error:2.484499\n",
      "epoch: 7 error:2.473691\n",
      "epoch: 8 error:2.464713\n",
      "epoch: 9 error:2.457063\n",
      "epoch: 10 error:2.450417\n",
      "epoch: 11 error:2.444553\n",
      "epoch: 12 error:2.439310\n",
      "epoch: 13 error:2.434574\n",
      "epoch: 14 error:2.430261\n",
      "epoch: 15 error:2.426305\n",
      "epoch: 16 error:2.422656\n",
      "epoch: 17 error:2.419268\n",
      "epoch: 18 error:2.416108\n",
      "epoch: 19 error:2.413148\n",
      "epoch: 20 error:2.410366\n",
      "epoch: 21 error:2.407746\n",
      "epoch: 22 error:2.405272\n",
      "epoch: 23 error:2.402932\n",
      "epoch: 24 error:2.400714\n",
      "epoch: 25 error:2.398608\n",
      "epoch: 26 error:2.396606\n",
      "epoch: 27 error:2.394697\n",
      "epoch: 28 error:2.392876\n",
      "epoch: 29 error:2.391133\n",
      "epoch: 30 error:2.389462\n",
      "epoch: 31 error:2.387857\n",
      "epoch: 32 error:2.386315\n",
      "epoch: 33 error:2.384833\n",
      "epoch: 34 error:2.383407\n",
      "epoch: 35 error:2.382034\n",
      "epoch: 36 error:2.380711\n",
      "epoch: 37 error:2.379433\n",
      "epoch: 38 error:2.378200\n",
      "epoch: 39 error:2.377007\n",
      "epoch: 40 error:2.375853\n",
      "epoch: 41 error:2.374735\n",
      "epoch: 42 error:2.373650\n",
      "epoch: 43 error:2.372598\n",
      "epoch: 44 error:2.371577\n",
      "epoch: 45 error:2.370584\n",
      "epoch: 46 error:2.369619\n",
      "epoch: 47 error:2.368681\n",
      "epoch: 48 error:2.367768\n",
      "epoch: 49 error:2.366880\n",
      "epoch: 50 error:2.366016\n",
      "epoch: 51 error:2.365173\n",
      "epoch: 52 error:2.364352\n",
      "epoch: 53 error:2.363552\n",
      "epoch: 54 error:2.362772\n",
      "epoch: 55 error:2.362010\n",
      "epoch: 56 error:2.361267\n",
      "epoch: 57 error:2.360542\n",
      "epoch: 58 error:2.359834\n",
      "epoch: 59 error:2.359142\n",
      "epoch: 60 error:2.358466\n",
      "epoch: 61 error:2.357804\n",
      "epoch: 62 error:2.357158\n",
      "epoch: 63 error:2.356526\n",
      "epoch: 64 error:2.355908\n",
      "epoch: 65 error:2.355303\n",
      "epoch: 66 error:2.354711\n",
      "epoch: 67 error:2.354132\n",
      "epoch: 68 error:2.353566\n",
      "epoch: 69 error:2.353012\n",
      "epoch: 70 error:2.352470\n",
      "epoch: 71 error:2.351939\n",
      "epoch: 72 error:2.351420\n",
      "epoch: 73 error:2.350912\n",
      "epoch: 74 error:2.350414\n",
      "epoch: 75 error:2.349926\n",
      "epoch: 76 error:2.349448\n",
      "epoch: 77 error:2.348979\n",
      "epoch: 78 error:2.348520\n",
      "epoch: 79 error:2.348069\n",
      "epoch: 80 error:2.347627\n",
      "epoch: 81 error:2.347193\n",
      "epoch: 82 error:2.346767\n",
      "epoch: 83 error:2.346349\n",
      "epoch: 84 error:2.345938\n",
      "epoch: 85 error:2.345534\n",
      "epoch: 86 error:2.345137\n",
      "epoch: 87 error:2.344747\n",
      "epoch: 88 error:2.344363\n",
      "epoch: 89 error:2.343985\n",
      "epoch: 90 error:2.343613\n",
      "epoch: 91 error:2.343247\n",
      "epoch: 92 error:2.342886\n",
      "epoch: 93 error:2.342531\n",
      "epoch: 94 error:2.342182\n",
      "epoch: 95 error:2.341837\n",
      "epoch: 96 error:2.341498\n",
      "epoch: 97 error:2.341164\n",
      "epoch: 98 error:2.340835\n",
      "epoch: 99 error:2.340511\n",
      "epoch: 100 error:2.340191\n",
      "epoch: 101 error:2.339877\n",
      "epoch: 102 error:2.339568\n",
      "epoch: 103 error:2.339263\n",
      "epoch: 104 error:2.338963\n",
      "epoch: 105 error:2.338667\n",
      "epoch: 106 error:2.338374\n",
      "epoch: 107 error:2.338086\n",
      "epoch: 108 error:2.337802\n",
      "epoch: 109 error:2.337521\n",
      "epoch: 110 error:2.337244\n",
      "epoch: 111 error:2.336971\n",
      "epoch: 112 error:2.336703\n",
      "epoch: 113 error:2.336438\n",
      "epoch: 114 error:2.336178\n",
      "epoch: 115 error:2.335921\n",
      "epoch: 116 error:2.335668\n",
      "epoch: 117 error:2.335419\n",
      "epoch: 118 error:2.335173\n",
      "epoch: 119 error:2.334930\n",
      "epoch: 120 error:2.334691\n",
      "epoch: 121 error:2.334455\n",
      "epoch: 122 error:2.334220\n",
      "epoch: 123 error:2.333989\n",
      "epoch: 124 error:2.333764\n",
      "epoch: 125 error:2.333542\n",
      "epoch: 126 error:2.333333\n",
      "epoch: 127 error:2.333218\n",
      "epoch: 128 error:2.333191\n",
      "epoch: 129 error:2.333235\n",
      "epoch: 130 error:2.333503\n",
      "epoch: 131 error:2.333896\n",
      "epoch: 132 error:2.333557\n",
      "epoch: 133 error:2.333259\n",
      "epoch: 134 error:2.332841\n",
      "epoch: 135 error:2.332784\n",
      "epoch: 136 error:2.333312\n",
      "epoch: 137 error:2.332956\n",
      "epoch: 138 error:2.333761\n",
      "epoch: 139 error:2.332874\n",
      "epoch: 140 error:2.331851\n",
      "epoch: 141 error:2.331028\n",
      "epoch: 142 error:2.330890\n",
      "epoch: 143 error:2.331102\n",
      "epoch: 144 error:2.331045\n",
      "epoch: 145 error:2.330641\n",
      "epoch: 146 error:2.330454\n",
      "epoch: 147 error:2.330324\n",
      "epoch: 148 error:2.330218\n",
      "epoch: 149 error:2.329841\n",
      "epoch: 150 error:2.329671\n",
      "epoch: 151 error:2.329446\n",
      "epoch: 152 error:2.329270\n",
      "epoch: 153 error:2.329332\n",
      "epoch: 154 error:2.329279\n",
      "epoch: 155 error:2.329581\n",
      "epoch: 156 error:2.329354\n",
      "epoch: 157 error:2.328630\n",
      "epoch: 158 error:2.328796\n",
      "epoch: 159 error:2.328442\n",
      "epoch: 160 error:2.328355\n",
      "epoch: 161 error:2.328407\n",
      "epoch: 162 error:2.328184\n",
      "epoch: 163 error:2.327805\n",
      "epoch: 164 error:2.327985\n",
      "epoch: 165 error:2.328150\n",
      "epoch: 166 error:2.328050\n",
      "epoch: 167 error:2.327824\n",
      "epoch: 168 error:2.327739\n",
      "epoch: 169 error:2.327414\n",
      "epoch: 170 error:2.328366\n",
      "epoch: 171 error:2.327980\n",
      "epoch: 172 error:2.327761\n",
      "epoch: 173 error:2.327343\n",
      "epoch: 174 error:2.326941\n",
      "epoch: 175 error:2.326965\n",
      "epoch: 176 error:2.326940\n",
      "epoch: 177 error:2.327615\n",
      "epoch: 178 error:2.327225\n",
      "epoch: 179 error:2.326430\n",
      "epoch: 180 error:2.326604\n",
      "epoch: 181 error:2.326714\n",
      "epoch: 182 error:2.326678\n",
      "epoch: 183 error:2.326561\n",
      "epoch: 184 error:2.326387\n",
      "epoch: 185 error:2.325901\n",
      "epoch: 186 error:2.325242\n",
      "epoch: 187 error:2.325135\n",
      "epoch: 188 error:2.325249\n",
      "epoch: 189 error:2.325118\n",
      "epoch: 190 error:2.324993\n",
      "epoch: 191 error:2.324724\n",
      "epoch: 192 error:2.324781\n",
      "epoch: 193 error:2.324971\n",
      "epoch: 194 error:2.324789\n",
      "epoch: 195 error:2.324786\n",
      "epoch: 196 error:2.324605\n",
      "epoch: 197 error:2.324661\n",
      "epoch: 198 error:2.324307\n",
      "epoch: 199 error:2.323958\n",
      "optimization done\n",
      "acc:0.999145\n"
     ]
    }
   ],
   "source": [
    "#Train!\n",
    "# don't use test data here\n",
    "\n",
    "# we should split the data into mini-batches.\n",
    "# little batch is better but slower\n",
    "# big bacth is faster and little bit worse. And limited by your GPU memory\n",
    "batch_size = 10 # with 55000 objects we will not loose a rest of batch, because 55000 % 100 = 0\n",
    "epocs = 200 # 1 epoch is view of all elements in dataset 1 time\n",
    "batch_num = int(example_num/batch_size)\n",
    "\n",
    "sess = tf.Session()\n",
    "sess.run(tf.global_variables_initializer()) # it's necessary\n",
    "\n",
    "for epoch in range(epocs):\n",
    "    err = 0\n",
    "    for batch in range(batch_num):\n",
    "        # extract a batch\n",
    "        batch_x = trainX[batch*batch_size : batch*batch_size + batch_size]\n",
    "        batch_y = trainY[batch*batch_size : batch*batch_size + batch_size]\n",
    "        \n",
    "        # a key operation. Run 'operations' and place data in placeholders 'x' and 'y'\n",
    "        _, c = sess.run([update, cost], feed_dict={x:batch_x, y:batch_y})\n",
    "        err += c\n",
    "    err /= batch_num\n",
    "    print(\"epoch: %d error:%f\" % (epoch, err))\n",
    "    \n",
    "print(\"optimization done\")\n",
    "acc_train = sess.run([acc], feed_dict={x:trainX, y:trainY})\n",
    "print('acc:%f'%acc_train[0])\n"
   ]
  },
  {
   "cell_type": "code",
   "execution_count": 241,
   "metadata": {},
   "outputs": [
    {
     "name": "stdout",
     "output_type": "stream",
     "text": [
      "acc:0.973200\n"
     ]
    }
   ],
   "source": [
    "# Test!\n",
    "# don't change these line\n",
    "\n",
    "acc_test = sess.run([acc], feed_dict={x:testX, y:testY})\n",
    "print('acc:%f'%acc_test[0])"
   ]
  },
  {
   "cell_type": "code",
   "execution_count": null,
   "metadata": {
    "collapsed": true
   },
   "outputs": [],
   "source": []
  }
 ],
 "metadata": {
  "kernelspec": {
   "display_name": "Python 3",
   "language": "python",
   "name": "python3"
  },
  "language_info": {
   "codemirror_mode": {
    "name": "ipython",
    "version": 3
   },
   "file_extension": ".py",
   "mimetype": "text/x-python",
   "name": "python",
   "nbconvert_exporter": "python",
   "pygments_lexer": "ipython3",
   "version": "3.6.1"
  }
 },
 "nbformat": 4,
 "nbformat_minor": 2
}
