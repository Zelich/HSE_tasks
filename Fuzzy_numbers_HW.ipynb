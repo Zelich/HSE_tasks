{
 "cells": [
  {
   "cell_type": "code",
   "execution_count": 2,
   "metadata": {
    "collapsed": true
   },
   "outputs": [],
   "source": [
    "import pandas as pd\n",
    "import numpy as np\n",
    "import matplotlib.pyplot as plt"
   ]
  },
  {
   "cell_type": "markdown",
   "metadata": {},
   "source": [
    "### Функция для нахождения линейных коэффициентов трапеции x от alpha"
   ]
  },
  {
   "cell_type": "code",
   "execution_count": 3,
   "metadata": {
    "collapsed": true
   },
   "outputs": [],
   "source": [
    "def linear_reverse(a, b):\n",
    "    return 1/a, -b/a"
   ]
  },
  {
   "cell_type": "code",
   "execution_count": 4,
   "metadata": {
    "collapsed": true
   },
   "outputs": [],
   "source": [
    "# y = ax + b\n",
    "def findlinearLR(df):\n",
    "    a1 = 1/(df[\"inf1\"]-df[\"inf0\"])\n",
    "    b1 = -a1 * df[\"inf0\"]\n",
    "    a2 = 1/(df[\"sup1\"]-df[\"sup0\"])\n",
    "    b2 = -a2 * df[\"sup0\"]\n",
    "    anew1, bnew1 = linear_reverse(a1, b1)\n",
    "    anew2, bnew2 = linear_reverse(a2, b2)\n",
    "    return anew1, bnew1, anew2, bnew2"
   ]
  },
  {
   "cell_type": "code",
   "execution_count": 5,
   "metadata": {
    "collapsed": true
   },
   "outputs": [],
   "source": [
    "def f(x):\n",
    "    return dftest['attr'].value_counts()[x]"
   ]
  },
  {
   "cell_type": "code",
   "execution_count": 6,
   "metadata": {
    "collapsed": true
   },
   "outputs": [],
   "source": [
    "# добавление обратных линейных коэффициентов в базу данных\n",
    "def dfaddcolumns(df2):\n",
    "    a1, b1, a2, b2 = findlinearLR(df2)\n",
    "    df2['a1'] = pd.Series(a1, index=df2.index)\n",
    "    df2['b1'] = pd.Series(b1, index=df2.index)\n",
    "    df2['a2'] = pd.Series(a2, index=df2.index)\n",
    "    df2['b2'] = pd.Series(b2, index=df2.index)\n",
    "    df2['b1'] = df2['b1'].fillna(df2['inf1'])\n",
    "    df2['b2'] = df2['b2'].fillna(df2['sup1'])\n",
    "    counts = df2['attr'].copy()\n",
    "    df2[\"counts\"] = pd.Series(counts.apply(f), index=df2.index)\n",
    "    return df2"
   ]
  },
  {
   "cell_type": "code",
   "execution_count": 7,
   "metadata": {
    "collapsed": true
   },
   "outputs": [],
   "source": [
    "# find 1 slag from integral\n",
    "def integr_slag(n1, n2, a, b, t):\n",
    "    coef = 1 / (n1[\"counts\"] * n2[\"counts\"] * t * (n1[a] + n2[a]))\n",
    "    if not np.isfinite(coef):\n",
    "        return 1 / (n1[\"counts\"] * n2[\"counts\"]) * np.exp(t * (n1[b] + n2[b]))\n",
    "    e1 = np.exp(t * (n1[a] + n2[a] + n1[b] + n2[b]))\n",
    "    e0 = np.exp(t * (n1[b] + n2[b]))\n",
    "    e = e1 - e0\n",
    "    return coef * e"
   ]
  },
  {
   "cell_type": "code",
   "execution_count": 16,
   "metadata": {
    "collapsed": true
   },
   "outputs": [],
   "source": [
    "def calculatep2(df2, t):\n",
    "    res = 0\n",
    "    ind = df2.index\n",
    "    for i in ind:\n",
    "        n1 = df2.loc[i, [\"a1\", \"b1\", \"a2\", \"b2\", \"counts\", \"attr\"]]\n",
    "        for j in ind:\n",
    "            n2 = df2.loc[j, [\"a1\", \"b1\", \"a2\", \"b2\", \"counts\", \"attr\"]]\n",
    "            val = 0\n",
    "            if n1[\"attr\"] == n2[\"attr\"]:\n",
    "                sign = 1\n",
    "            else:\n",
    "                sign = -1\n",
    "            w1 = integr_slag(n1, n2, \"a1\", \"b1\", t)\n",
    "            w2 = integr_slag(n1, n2, \"a2\", \"b2\", t)\n",
    "            res += sign * (w1 + w2)\n",
    "    return (res/2)**(1/2)"
   ]
  },
  {
   "cell_type": "code",
   "execution_count": 47,
   "metadata": {},
   "outputs": [
    {
     "data": {
      "text/plain": [
       "0.1235139258450233"
      ]
     },
     "execution_count": 47,
     "metadata": {},
     "output_type": "execute_result"
    }
   ],
   "source": [
    "df2 = pd.DataFrame([[0,1,2,3,1], [1,2,3,4,0]], columns=df.columns)\n",
    "t = 0.1\n",
    "df2 = dfaddcolumns(df2)\n",
    "calculatep2(df2, t)"
   ]
  },
  {
   "cell_type": "code",
   "execution_count": 17,
   "metadata": {
    "collapsed": true
   },
   "outputs": [],
   "source": [
    "def findbestt(df2, eps, tol=100):\n",
    "    df2 = dfaddcolumns(df2)\n",
    "    maxval = 0\n",
    "    i = 1\n",
    "    for t in np.linspace(-eps, eps, tol):\n",
    "        maxval = max(maxval, calculatep2(df2, t))\n",
    "    n, m = tuple(df2[\"counts\"].value_counts())\n",
    "    coef = ((n * m / (n + m)) ** (1 / 2)) / eps\n",
    "    return coef * maxval"
   ]
  },
  {
   "cell_type": "code",
   "execution_count": 11,
   "metadata": {},
   "outputs": [
    {
     "data": {
      "text/html": [
       "<div>\n",
       "<style>\n",
       "    .dataframe thead tr:only-child th {\n",
       "        text-align: right;\n",
       "    }\n",
       "\n",
       "    .dataframe thead th {\n",
       "        text-align: left;\n",
       "    }\n",
       "\n",
       "    .dataframe tbody tr th {\n",
       "        vertical-align: top;\n",
       "    }\n",
       "</style>\n",
       "<table border=\"1\" class=\"dataframe\">\n",
       "  <thead>\n",
       "    <tr style=\"text-align: right;\">\n",
       "      <th></th>\n",
       "      <th>inf0</th>\n",
       "      <th>inf1</th>\n",
       "      <th>sup1</th>\n",
       "      <th>sup0</th>\n",
       "      <th>attr</th>\n",
       "    </tr>\n",
       "  </thead>\n",
       "  <tbody>\n",
       "    <tr>\n",
       "      <th>0</th>\n",
       "      <td>5.350</td>\n",
       "      <td>6.000</td>\n",
       "      <td>7.000</td>\n",
       "      <td>7.750</td>\n",
       "      <td>0</td>\n",
       "    </tr>\n",
       "    <tr>\n",
       "      <th>1</th>\n",
       "      <td>5.575</td>\n",
       "      <td>6.150</td>\n",
       "      <td>7.500</td>\n",
       "      <td>7.500</td>\n",
       "      <td>0</td>\n",
       "    </tr>\n",
       "    <tr>\n",
       "      <th>2</th>\n",
       "      <td>6.350</td>\n",
       "      <td>6.350</td>\n",
       "      <td>6.575</td>\n",
       "      <td>10.000</td>\n",
       "      <td>1</td>\n",
       "    </tr>\n",
       "    <tr>\n",
       "      <th>3</th>\n",
       "      <td>6.025</td>\n",
       "      <td>6.100</td>\n",
       "      <td>7.525</td>\n",
       "      <td>9.425</td>\n",
       "      <td>1</td>\n",
       "    </tr>\n",
       "    <tr>\n",
       "      <th>4</th>\n",
       "      <td>6.250</td>\n",
       "      <td>6.275</td>\n",
       "      <td>9.950</td>\n",
       "      <td>9.950</td>\n",
       "      <td>0</td>\n",
       "    </tr>\n",
       "  </tbody>\n",
       "</table>\n",
       "</div>"
      ],
      "text/plain": [
       "    inf0   inf1   sup1    sup0  attr\n",
       "0  5.350  6.000  7.000   7.750     0\n",
       "1  5.575  6.150  7.500   7.500     0\n",
       "2  6.350  6.350  6.575  10.000     1\n",
       "3  6.025  6.100  7.525   9.425     1\n",
       "4  6.250  6.275  9.950   9.950     0"
      ]
     },
     "execution_count": 11,
     "metadata": {},
     "output_type": "execute_result"
    }
   ],
   "source": [
    "df = pd.read_csv(\"fuzzydata.csv\", delimiter=\";\")\n",
    "df = df.rename(index=str, columns={\"gender\":\"attr\"})\n",
    "df.head()"
   ]
  },
  {
   "cell_type": "code",
   "execution_count": 1,
   "metadata": {},
   "outputs": [],
   "source": [
    "# print(findbestt(df, 0.001), findbestt(df, 0.01), findbestt(df, 0.1))"
   ]
  },
  {
   "cell_type": "markdown",
   "metadata": {},
   "source": [
    "# То, что теоретически может пригодиться (?)"
   ]
  },
  {
   "cell_type": "code",
   "execution_count": 10,
   "metadata": {},
   "outputs": [
    {
     "data": {
      "text/html": [
       "<div>\n",
       "<style>\n",
       "    .dataframe thead tr:only-child th {\n",
       "        text-align: right;\n",
       "    }\n",
       "\n",
       "    .dataframe thead th {\n",
       "        text-align: left;\n",
       "    }\n",
       "\n",
       "    .dataframe tbody tr th {\n",
       "        vertical-align: top;\n",
       "    }\n",
       "</style>\n",
       "<table border=\"1\" class=\"dataframe\">\n",
       "  <thead>\n",
       "    <tr style=\"text-align: right;\">\n",
       "      <th></th>\n",
       "      <th>inf0</th>\n",
       "      <th>inf1</th>\n",
       "      <th>sup1</th>\n",
       "      <th>sup0</th>\n",
       "      <th>attr</th>\n",
       "    </tr>\n",
       "  </thead>\n",
       "  <tbody>\n",
       "    <tr>\n",
       "      <th>0</th>\n",
       "      <td>5.350</td>\n",
       "      <td>6.000</td>\n",
       "      <td>7.000</td>\n",
       "      <td>7.750</td>\n",
       "      <td>1</td>\n",
       "    </tr>\n",
       "    <tr>\n",
       "      <th>1</th>\n",
       "      <td>5.575</td>\n",
       "      <td>6.150</td>\n",
       "      <td>7.500</td>\n",
       "      <td>7.500</td>\n",
       "      <td>0</td>\n",
       "    </tr>\n",
       "    <tr>\n",
       "      <th>2</th>\n",
       "      <td>6.350</td>\n",
       "      <td>6.350</td>\n",
       "      <td>6.575</td>\n",
       "      <td>10.000</td>\n",
       "      <td>1</td>\n",
       "    </tr>\n",
       "    <tr>\n",
       "      <th>3</th>\n",
       "      <td>6.025</td>\n",
       "      <td>6.100</td>\n",
       "      <td>7.525</td>\n",
       "      <td>9.425</td>\n",
       "      <td>1</td>\n",
       "    </tr>\n",
       "    <tr>\n",
       "      <th>4</th>\n",
       "      <td>6.250</td>\n",
       "      <td>6.275</td>\n",
       "      <td>9.950</td>\n",
       "      <td>9.950</td>\n",
       "      <td>0</td>\n",
       "    </tr>\n",
       "  </tbody>\n",
       "</table>\n",
       "</div>"
      ],
      "text/plain": [
       "    inf0   inf1   sup1    sup0  attr\n",
       "0  5.350  6.000  7.000   7.750     1\n",
       "1  5.575  6.150  7.500   7.500     0\n",
       "2  6.350  6.350  6.575  10.000     1\n",
       "3  6.025  6.100  7.525   9.425     1\n",
       "4  6.250  6.275  9.950   9.950     0"
      ]
     },
     "execution_count": 10,
     "metadata": {},
     "output_type": "execute_result"
    }
   ],
   "source": [
    "# рандомная база данных\n",
    "df = pd.DataFrame(\n",
    "    [[5.35, 6, 7, 7.75, 1], \n",
    "     [5.575, 6.15, 7.5, 7.5, 0],\n",
    "     [6.35, 6.35, 6.575, 10, 1],\n",
    "     [6.025, 6.1, 7.525, 9.425, 1],\n",
    "     [6.25, 6.275, 9.95, 9.95, 0],\n",
    "    ], columns=['inf0', 'inf1', 'sup1', 'sup0', 'attr'])\n",
    "df"
   ]
  },
  {
   "cell_type": "markdown",
   "metadata": {},
   "source": [
    "Экспоненциальная функция от нечеткого числа"
   ]
  },
  {
   "cell_type": "code",
   "execution_count": 65,
   "metadata": {},
   "outputs": [
    {
     "data": {
      "image/png": "[encoded data removed]",
      "text/plain": [
       "<matplotlib.figure.Figure at 0x159c198b4a8>"
      ]
     },
     "metadata": {},
     "output_type": "display_data"
    }
   ],
   "source": [
    "t = range(len(sas))\n",
    "plt.plot(sas[0], sas[2], 'r')\n",
    "plt.plot(sas[1], sas[2], 'b')\n",
    "plt.plot([sas[0][-1], sas[1][-1]], [1, 1])\n",
    "plt.show()"
   ]
  }
 ],
 "metadata": {
  "kernelspec": {
   "display_name": "Python 3",
   "language": "python",
   "name": "python3"
  },
  "language_info": {
   "codemirror_mode": {
    "name": "ipython",
    "version": 3
   },
   "file_extension": ".py",
   "mimetype": "text/x-python",
   "name": "python",
   "nbconvert_exporter": "python",
   "pygments_lexer": "ipython3",
   "version": "3.6.1"
  }
 },
 "nbformat": 4,
 "nbformat_minor": 2
}
