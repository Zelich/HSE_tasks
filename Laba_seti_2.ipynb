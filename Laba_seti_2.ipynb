{
 "cells": [
  {
   "cell_type": "code",
   "execution_count": 1,
   "metadata": {
    "collapsed": false
   },
   "outputs": [],
   "source": [
    "import numpy as np\n",
    "import matplotlib.pyplot as plt\n",
    "import networkx as nx\n",
    "import numpy.random as rnd\n",
    "import seaborn as sns\n",
    "sns.set()\n",
    "%matplotlib inline"
   ]
  },
  {
   "cell_type": "markdown",
   "metadata": {},
   "source": [
    "# Task 1"
   ]
  },
  {
   "cell_type": "markdown",
   "metadata": {},
   "source": [
    "$$\\text{Clustering coefficient} = \\frac{\\langle k \\rangle}{n} = p $$\n",
    "Generate $100$ Random Graphs with $n = 1000$ and $p = 0.002$ (for saving computational time) and plot the box-plot of your computations"
   ]
  },
  {
   "cell_type": "markdown",
   "metadata": {},
   "source": [
    "Функция для генерации графа"
   ]
  },
  {
   "cell_type": "code",
   "execution_count": 2,
   "metadata": {
    "collapsed": true
   },
   "outputs": [],
   "source": [
    "def generate_graph(n, p):\n",
    "    G=nx.Graph()\n",
    "    G.add_nodes_from(range(0, n))\n",
    "    for i in range(0, n):\n",
    "        for j in range(i+1, n):\n",
    "            if rnd.random() <= p:\n",
    "                G.add_edge(i, j)\n",
    "    return G"
   ]
  },
  {
   "cell_type": "markdown",
   "metadata": {},
   "source": [
    "Функция для генерации множества графов"
   ]
  },
  {
   "cell_type": "code",
   "execution_count": 3,
   "metadata": {
    "collapsed": true
   },
   "outputs": [],
   "source": [
    "def generate_k_graph(k, n, p):\n",
    "    gs = []\n",
    "    for i in range(k):\n",
    "        gs.append(generate_graph(n, p))\n",
    "    return gs"
   ]
  },
  {
   "cell_type": "markdown",
   "metadata": {},
   "source": [
    "Генерим графы с заданными условиями:"
   ]
  },
  {
   "cell_type": "code",
   "execution_count": 4,
   "metadata": {
    "collapsed": false
   },
   "outputs": [],
   "source": [
    "n = 1000\n",
    "p = 0.002\n",
    "gs = generate_k_graph(100, n, p)"
   ]
  },
  {
   "cell_type": "markdown",
   "metadata": {},
   "source": [
    "Посчитаем для них коэффициенты кластеризации:"
   ]
  },
  {
   "cell_type": "code",
   "execution_count": 5,
   "metadata": {
    "collapsed": false
   },
   "outputs": [],
   "source": [
    "cluster_coefs = []\n",
    "for G in gs:\n",
    "    cluster_coefs.append(G.number_of_edges() / (n * (n-1) / 2))"
   ]
  },
  {
   "cell_type": "markdown",
   "metadata": {},
   "source": [
    "Построим график:"
   ]
  },
  {
   "cell_type": "code",
   "execution_count": 6,
   "metadata": {
    "collapsed": false
   },
   "outputs": [
    {
     "data": {
      "text/plain": [
       "<matplotlib.axes._subplots.AxesSubplot at 0x2508c53fc50>"
      ]
     },
     "execution_count": 6,
     "metadata": {},
     "output_type": "execute_result"
    },
    {
     "data": {
      "image/png": "[encoded data removed]",
      "text/plain": [
       "<matplotlib.figure.Figure at 0x2508c53f240>"
      ]
     },
     "metadata": {},
     "output_type": "display_data"
    }
   ],
   "source": [
    "sns.boxplot(cluster_coefs)"
   ]
  },
  {
   "cell_type": "markdown",
   "metadata": {},
   "source": [
    "Действительно, среднее значение находится примерно на значении $p=0.002$"
   ]
  },
  {
   "cell_type": "markdown",
   "metadata": {},
   "source": [
    "# Task 2"
   ]
  },
  {
   "cell_type": "markdown",
   "metadata": {},
   "source": [
    "In this task you are asked to calculate the average size of small components (small component = not a giant one) with regard to average degree of the network. To see the effect clearly, plot average size around $\\langle k \\rangle = 1$."
   ]
  },
  {
   "cell_type": "markdown",
   "metadata": {},
   "source": [
    "На самом деле задание было (как оказалось) о другом - надо перебирать $n\\cdot p$ и для каждого значения генерить графы, для которых смотреть средний размер не самых больших компонент.\n",
    "Для этой цели фиксируем $n$, перебираем $p$ от 0.0001 до 0.0015 (чтобы $n \\cdot p$ получилось в районе 1), смотрим значения."
   ]
  },
  {
   "cell_type": "code",
   "execution_count": 7,
   "metadata": {
    "collapsed": false
   },
   "outputs": [
    {
     "name": "stdout",
     "output_type": "stream",
     "text": [
      "1 ITERATION FROM 15\n",
      "2 ITERATION FROM 15\n",
      "3 ITERATION FROM 15\n",
      "4 ITERATION FROM 15\n",
      "5 ITERATION FROM 15\n",
      "6 ITERATION FROM 15\n",
      "7 ITERATION FROM 15\n",
      "8 ITERATION FROM 15\n",
      "9 ITERATION FROM 15\n",
      "10 ITERATION FROM 15\n",
      "11 ITERATION FROM 15\n",
      "12 ITERATION FROM 15\n",
      "13 ITERATION FROM 15\n",
      "14 ITERATION FROM 15\n",
      "15 ITERATION FROM 15\n"
     ]
    }
   ],
   "source": [
    "n = 1000\n",
    "p = 0.0001\n",
    "k = 50\n",
    "values = []\n",
    "steps = 15\n",
    "iter_num = 0\n",
    "for p2 in np.linspace(0.0001, 0.0015, steps):\n",
    "    iter_num += 1\n",
    "    print(iter_num, \"ITERATION FROM\", steps)\n",
    "    cur_gs = generate_k_graph(k, n, p2)\n",
    "    graphs_comp_lens = []\n",
    "    for G in cur_gs:\n",
    "        comp_lens = [len(x) for x in sorted(list(nx.connected_components(G)), key=len)[:-1]]\n",
    "        graphs_comp_lens.append(np.mean(comp_lens))\n",
    "    values.append(np.mean(graphs_comp_lens))"
   ]
  },
  {
   "cell_type": "markdown",
   "metadata": {},
   "source": [
    "Построим график"
   ]
  },
  {
   "cell_type": "code",
   "execution_count": 8,
   "metadata": {
    "collapsed": false
   },
   "outputs": [
    {
     "data": {
      "text/plain": [
       "[<matplotlib.lines.Line2D at 0x250993031d0>]"
      ]
     },
     "execution_count": 8,
     "metadata": {},
     "output_type": "execute_result"
    },
    {
     "data": {
      "image/png": "[encoded data removed]",
      "text/plain": [
       "<matplotlib.figure.Figure at 0x25092e3e240>"
      ]
     },
     "metadata": {},
     "output_type": "display_data"
    }
   ],
   "source": [
    "plt.plot(np.linspace(0.0001, 0.0015, steps)*n, values)"
   ]
  },
  {
   "cell_type": "markdown",
   "metadata": {},
   "source": [
    "Заметим, что максимум достигается в районе единички. Почему это так? Скорее всего это связано с тем, что пока $n\\cdot p <1$ с увеличением $n\\cdot p$ самая большая компонента связности еще не \"поглотила\" достаточное количество вершин. Однако после критического значения она поглощает вершины, которые потенциально могли бы быть связаны друг с другом, образуя компоненты связности большие единицы."
   ]
  },
  {
   "cell_type": "markdown",
   "metadata": {},
   "source": [
    "# Task 3"
   ]
  },
  {
   "cell_type": "markdown",
   "metadata": {},
   "source": [
    "Plot the average path length and transitivity coefficents with $n=1000$ and p=0.001 while increasing by 0.003"
   ]
  },
  {
   "cell_type": "code",
   "execution_count": 11,
   "metadata": {
    "collapsed": false
   },
   "outputs": [
    {
     "name": "stdout",
     "output_type": "stream",
     "text": [
      "1 ITERATION FROM 334 , cur shortest path is:  8.96056449644 cur transitivity is:  0.0020979020979\n",
      "2 ITERATION FROM 334 , cur shortest path is:  5.1348224504 cur transitivity is:  0.00328588032846\n",
      "3 ITERATION FROM 334 , cur shortest path is:  3.7615321788 cur transitivity is:  0.00717142369989\n",
      "4 ITERATION FROM 334 , cur shortest path is:  3.260197998 cur transitivity is:  0.0100427003725\n",
      "5 ITERATION FROM 334 , cur shortest path is:  2.95706146146 cur transitivity is:  0.0128605382618\n",
      "6 ITERATION FROM 334 , cur shortest path is:  2.77815255255 cur transitivity is:  0.015838853651\n",
      "7 ITERATION FROM 334 , cur shortest path is:  2.67427327327 cur transitivity is:  0.0189766021949\n",
      "8 ITERATION FROM 334 , cur shortest path is:  2.58233073073 cur transitivity is:  0.0221588731629\n",
      "9 ITERATION FROM 334 , cur shortest path is:  2.49957737738 cur transitivity is:  0.0250705724176\n",
      "10 ITERATION FROM 334 , cur shortest path is:  2.41806646647 cur transitivity is:  0.0279935913608\n",
      "11 ITERATION FROM 334 , cur shortest path is:  2.3395005005 cur transitivity is:  0.0310127907875\n",
      "12 ITERATION FROM 334 , cur shortest path is:  2.27092872873 cur transitivity is:  0.0339268224828\n",
      "13 ITERATION FROM 334 , cur shortest path is:  2.20706346346 cur transitivity is:  0.0372909664295\n",
      "14 ITERATION FROM 334 , cur shortest path is:  2.15654174174 cur transitivity is:  0.0398067217813\n",
      "15 ITERATION FROM 334 , cur shortest path is:  2.10978138138 cur transitivity is:  0.0429607780253\n",
      "16 ITERATION FROM 334 , cur shortest path is:  2.06947447447 cur transitivity is:  0.045945752899\n",
      "17 ITERATION FROM 334 , cur shortest path is:  2.03672672673 cur transitivity is:  0.0489612621781\n",
      "18 ITERATION FROM 334 , cur shortest path is:  2.01338978979 cur transitivity is:  0.0516596343519\n",
      "19 ITERATION FROM 334 , cur shortest path is:  1.99109169169 cur transitivity is:  0.0550761172623\n",
      "20 ITERATION FROM 334 , cur shortest path is:  1.97353933934 cur transitivity is:  0.0582552503392\n",
      "21 ITERATION FROM 334 , cur shortest path is:  1.96161941942 cur transitivity is:  0.0612210295892\n",
      "22 ITERATION FROM 334 , cur shortest path is:  1.95181321321 cur transitivity is:  0.0637181268482\n",
      "23 ITERATION FROM 334 , cur shortest path is:  1.94310870871 cur transitivity is:  0.0671698535825\n",
      "24 ITERATION FROM 334 , cur shortest path is:  1.93653493493 cur transitivity is:  0.0699817020799\n",
      "25 ITERATION FROM 334 , cur shortest path is:  1.93150690691 cur transitivity is:  0.0730157704279\n",
      "26 ITERATION FROM 334 , cur shortest path is:  1.92695275275 cur transitivity is:  0.0759504291733\n",
      "27 ITERATION FROM 334 , cur shortest path is:  1.92284884885 cur transitivity is:  0.0790765251076\n",
      "28 ITERATION FROM 334 , cur shortest path is:  1.91871631632 cur transitivity is:  0.0823042035602\n",
      "29 ITERATION FROM 334 , cur shortest path is:  1.91577017017 cur transitivity is:  0.0848212637867\n",
      "30 ITERATION FROM 334 , cur shortest path is:  1.91233973974 cur transitivity is:  0.0879927434546\n",
      "31 ITERATION FROM 334 , cur shortest path is:  1.90939159159 cur transitivity is:  0.0908079089032\n",
      "32 ITERATION FROM 334 , cur shortest path is:  1.90620720721 cur transitivity is:  0.0939312290304\n",
      "33 ITERATION FROM 334 , cur shortest path is:  1.90290510511 cur transitivity is:  0.0972390400057\n",
      "34 ITERATION FROM 334 , cur shortest path is:  1.89988848849 cur transitivity is:  0.1001574609\n",
      "35 ITERATION FROM 334 , cur shortest path is:  1.89700660661 cur transitivity is:  0.102935659576\n",
      "36 ITERATION FROM 334 , cur shortest path is:  1.89398798799 cur transitivity is:  0.106033963049\n",
      "37 ITERATION FROM 334 , cur shortest path is:  1.89100840841 cur transitivity is:  0.108886858218\n",
      "38 ITERATION FROM 334 , cur shortest path is:  1.88792292292 cur transitivity is:  0.112083523811\n",
      "39 ITERATION FROM 334 , cur shortest path is:  1.88494354354 cur transitivity is:  0.115136450488\n",
      "40 ITERATION FROM 334 , cur shortest path is:  1.88186806807 cur transitivity is:  0.118028234375\n",
      "41 ITERATION FROM 334 , cur shortest path is:  1.8789003003 cur transitivity is:  0.121069752134\n",
      "42 ITERATION FROM 334 , cur shortest path is:  1.87602722723 cur transitivity is:  0.124012309483\n",
      "43 ITERATION FROM 334 , cur shortest path is:  1.87306926927 cur transitivity is:  0.126888157599\n",
      "44 ITERATION FROM 334 , cur shortest path is:  1.86996576577 cur transitivity is:  0.130011694055\n",
      "45 ITERATION FROM 334 , cur shortest path is:  1.86706666667 cur transitivity is:  0.13289585883\n",
      "46 ITERATION FROM 334 , cur shortest path is:  1.86397117117 cur transitivity is:  0.136099418833\n",
      "47 ITERATION FROM 334 , cur shortest path is:  1.8611017017 cur transitivity is:  0.138777600749\n",
      "48 ITERATION FROM 334 , cur shortest path is:  1.85817317317 cur transitivity is:  0.141862344167\n",
      "49 ITERATION FROM 334 , cur shortest path is:  1.85489069069 cur transitivity is:  0.144999241633\n",
      "50 ITERATION FROM 334 , cur shortest path is:  1.8521971972 cur transitivity is:  0.147806100076\n",
      "51 ITERATION FROM 334 , cur shortest path is:  1.84915315315 cur transitivity is:  0.150791742641\n",
      "52 ITERATION FROM 334 , cur shortest path is:  1.84589229229 cur transitivity is:  0.154009196969\n",
      "53 ITERATION FROM 334 , cur shortest path is:  1.84275555556 cur transitivity is:  0.157201071454\n",
      "54 ITERATION FROM 334 , cur shortest path is:  1.83959139139 cur transitivity is:  0.160389964446\n",
      "55 ITERATION FROM 334 , cur shortest path is:  1.83686846847 cur transitivity is:  0.163036567707\n",
      "56 ITERATION FROM 334 , cur shortest path is:  1.83384744745 cur transitivity is:  0.166132941272\n",
      "57 ITERATION FROM 334 , cur shortest path is:  1.83105045045 cur transitivity is:  0.168882520353\n",
      "58 ITERATION FROM 334 , cur shortest path is:  1.82814754755 cur transitivity is:  0.171819448637\n",
      "59 ITERATION FROM 334 , cur shortest path is:  1.82520600601 cur transitivity is:  0.174823518233\n",
      "60 ITERATION FROM 334 , cur shortest path is:  1.82182522523 cur transitivity is:  0.178081795992\n",
      "61 ITERATION FROM 334 , cur shortest path is:  1.8192002002 cur transitivity is:  0.180722077233\n",
      "62 ITERATION FROM 334 , cur shortest path is:  1.81588648649 cur transitivity is:  0.184117280871\n",
      "63 ITERATION FROM 334 , cur shortest path is:  1.8131041041 cur transitivity is:  0.186795573024\n",
      "64 ITERATION FROM 334 , cur shortest path is:  1.81004284284 cur transitivity is:  0.189921739629\n",
      "65 ITERATION FROM 334 , cur shortest path is:  1.8073015015 cur transitivity is:  0.19264035882\n",
      "66 ITERATION FROM 334 , cur shortest path is:  1.804195996 cur transitivity is:  0.195811188372\n",
      "67 ITERATION FROM 334 , cur shortest path is:  1.80073013013 cur transitivity is:  0.199260010993\n",
      "68 ITERATION FROM 334 , cur shortest path is:  1.79780980981 cur transitivity is:  0.202215558791\n",
      "69 ITERATION FROM 334 , cur shortest path is:  1.79463283283 cur transitivity is:  0.205239235897\n",
      "70 ITERATION FROM 334 , cur shortest path is:  1.79212972973 cur transitivity is:  0.207871396597\n",
      "71 ITERATION FROM 334 , cur shortest path is:  1.78932152152 cur transitivity is:  0.210635336733\n",
      "72 ITERATION FROM 334 , cur shortest path is:  1.78614754755 cur transitivity is:  0.213863555284\n",
      "73 ITERATION FROM 334 , cur shortest path is:  1.78299339339 cur transitivity is:  0.217079022692\n",
      "74 ITERATION FROM 334 , cur shortest path is:  1.78027807808 cur transitivity is:  0.219699110033\n",
      "75 ITERATION FROM 334 , cur shortest path is:  1.7769019019 cur transitivity is:  0.22312376632\n",
      "76 ITERATION FROM 334 , cur shortest path is:  1.77396036036 cur transitivity is:  0.226020475417\n",
      "77 ITERATION FROM 334 , cur shortest path is:  1.7709985986 cur transitivity is:  0.22903692989\n",
      "78 ITERATION FROM 334 , cur shortest path is:  1.76806266266 cur transitivity is:  0.231942087619\n",
      "79 ITERATION FROM 334 , cur shortest path is:  1.76467907908 cur transitivity is:  0.235276035405\n",
      "80 ITERATION FROM 334 , cur shortest path is:  1.76214014014 cur transitivity is:  0.237847008226\n",
      "81 ITERATION FROM 334 , cur shortest path is:  1.75876856857 cur transitivity is:  0.241185724133\n",
      "82 ITERATION FROM 334 , cur shortest path is:  1.75596976977 cur transitivity is:  0.244013277135\n",
      "83 ITERATION FROM 334 , cur shortest path is:  1.75306326326 cur transitivity is:  0.246916613404\n",
      "84 ITERATION FROM 334 , cur shortest path is:  1.75014894895 cur transitivity is:  0.249859885179\n",
      "85 ITERATION FROM 334 , cur shortest path is:  1.74687847848 cur transitivity is:  0.253050062052\n",
      "86 ITERATION FROM 334 , cur shortest path is:  1.74425625626 cur transitivity is:  0.255757261648\n",
      "87 ITERATION FROM 334 , cur shortest path is:  1.74081981982 cur transitivity is:  0.259179619874\n",
      "88 ITERATION FROM 334 , cur shortest path is:  1.73790670671 cur transitivity is:  0.262096689095\n",
      "89 ITERATION FROM 334 , cur shortest path is:  1.73528708709 cur transitivity is:  0.264732248388\n",
      "90 ITERATION FROM 334 , cur shortest path is:  1.732198999 cur transitivity is:  0.267811060407\n",
      "91 ITERATION FROM 334 , cur shortest path is:  1.72912612613 cur transitivity is:  0.270885245654\n",
      "92 ITERATION FROM 334 , cur shortest path is:  1.72585585586 cur transitivity is:  0.274100858242\n",
      "93 ITERATION FROM 334 , cur shortest path is:  1.72306426426 cur transitivity is:  0.276927591855\n",
      "94 ITERATION FROM 334 , cur shortest path is:  1.72021161161 cur transitivity is:  0.279760351639\n",
      "95 ITERATION FROM 334 , cur shortest path is:  1.71718318318 cur transitivity is:  0.282866669168\n",
      "96 ITERATION FROM 334 , cur shortest path is:  1.7139991992 cur transitivity is:  0.286019578369\n",
      "97 ITERATION FROM 334 , cur shortest path is:  1.7108950951 cur transitivity is:  0.289107446901\n",
      "98 ITERATION FROM 334 , cur shortest path is:  1.70819139139 cur transitivity is:  0.291831882022\n",
      "99 ITERATION FROM 334 , cur shortest path is:  1.70536156156 cur transitivity is:  0.294624770243\n",
      "100 ITERATION FROM 334 , cur shortest path is:  1.70196336336 cur transitivity is:  0.297923604779\n",
      "101 ITERATION FROM 334 , cur shortest path is:  1.6985981982 cur transitivity is:  0.301392346083\n",
      "102 ITERATION FROM 334 , cur shortest path is:  1.69607527528 cur transitivity is:  0.303926403773\n",
      "103 ITERATION FROM 334 , cur shortest path is:  1.69281701702 cur transitivity is:  0.307233707335\n",
      "104 ITERATION FROM 334 , cur shortest path is:  1.69011091091 cur transitivity is:  0.309842151521\n",
      "105 ITERATION FROM 334 , cur shortest path is:  1.68684204204 cur transitivity is:  0.313138845638\n",
      "106 ITERATION FROM 334 , cur shortest path is:  1.68400600601 cur transitivity is:  0.316014053438\n",
      "107 ITERATION FROM 334 , cur shortest path is:  1.68069069069 cur transitivity is:  0.319293822005\n",
      "108 ITERATION FROM 334 , cur shortest path is:  1.67764684685 cur transitivity is:  0.322416473986\n",
      "109 ITERATION FROM 334 , cur shortest path is:  1.67522062062 cur transitivity is:  0.324821751023\n",
      "110 ITERATION FROM 334 , cur shortest path is:  1.67194014014 cur transitivity is:  0.328062090284\n",
      "111 ITERATION FROM 334 , cur shortest path is:  1.66887947948 cur transitivity is:  0.331148653216\n",
      "112 ITERATION FROM 334 , cur shortest path is:  1.66559259259 cur transitivity is:  0.334416613254\n",
      "113 ITERATION FROM 334 , cur shortest path is:  1.66283003003 cur transitivity is:  0.337155003388\n",
      "114 ITERATION FROM 334 , cur shortest path is:  1.6599033033 cur transitivity is:  0.34011434382\n",
      "115 ITERATION FROM 334 , cur shortest path is:  1.6567991992 cur transitivity is:  0.343135113981\n",
      "116 ITERATION FROM 334 , cur shortest path is:  1.6543995996 cur transitivity is:  0.345576310849\n",
      "117 ITERATION FROM 334 , cur shortest path is:  1.65097317317 cur transitivity is:  0.349000763159\n",
      "118 ITERATION FROM 334 , cur shortest path is:  1.64789189189 cur transitivity is:  0.352092878894\n",
      "119 ITERATION FROM 334 , cur shortest path is:  1.64502302302 cur transitivity is:  0.354984339393\n",
      "120 ITERATION FROM 334 , cur shortest path is:  1.6419025025 cur transitivity is:  0.358078081607\n",
      "121 ITERATION FROM 334 , cur shortest path is:  1.63900680681 cur transitivity is:  0.361032793431\n",
      "122 ITERATION FROM 334 , cur shortest path is:  1.63585265265 cur transitivity is:  0.364108145563\n",
      "123 ITERATION FROM 334 , cur shortest path is:  1.63279299299 cur transitivity is:  0.367175813857\n",
      "124 ITERATION FROM 334 , cur shortest path is:  1.62979159159 cur transitivity is:  0.370212795974\n",
      "125 ITERATION FROM 334 , cur shortest path is:  1.62742202202 cur transitivity is:  0.372545778091\n",
      "126 ITERATION FROM 334 , cur shortest path is:  1.62391211211 cur transitivity is:  0.37610390235\n",
      "127 ITERATION FROM 334 , cur shortest path is:  1.62103663664 cur transitivity is:  0.378983979831\n",
      "128 ITERATION FROM 334 , cur shortest path is:  1.61817337337 cur transitivity is:  0.381772783723\n",
      "129 ITERATION FROM 334 , cur shortest path is:  1.61558578579 cur transitivity is:  0.384379414242\n",
      "130 ITERATION FROM 334 , cur shortest path is:  1.61198118118 cur transitivity is:  0.388040589814\n",
      "131 ITERATION FROM 334 , cur shortest path is:  1.60867807808 cur transitivity is:  0.39130889285\n",
      "132 ITERATION FROM 334 , cur shortest path is:  1.60635095095 cur transitivity is:  0.393666656737\n",
      "133 ITERATION FROM 334 , cur shortest path is:  1.60286366366 cur transitivity is:  0.397140772554\n",
      "134 ITERATION FROM 334 , cur shortest path is:  1.5999001001 cur transitivity is:  0.400093265083\n",
      "135 ITERATION FROM 334 , cur shortest path is:  1.59708868869 cur transitivity is:  0.402874105287\n",
      "136 ITERATION FROM 334 , cur shortest path is:  1.59381081081 cur transitivity is:  0.406155955832\n",
      "137 ITERATION FROM 334 , cur shortest path is:  1.59123403403 cur transitivity is:  0.408788394968\n",
      "138 ITERATION FROM 334 , cur shortest path is:  1.5880990991 cur transitivity is:  0.411885585825\n",
      "139 ITERATION FROM 334 , cur shortest path is:  1.58462482482 cur transitivity is:  0.415377117371\n",
      "140 ITERATION FROM 334 , cur shortest path is:  1.58235495495 cur transitivity is:  0.417645851526\n",
      "141 ITERATION FROM 334 , cur shortest path is:  1.5790042042 cur transitivity is:  0.421004820225\n",
      "142 ITERATION FROM 334 , cur shortest path is:  1.57593513514 cur transitivity is:  0.424091498735\n",
      "143 ITERATION FROM 334 , cur shortest path is:  1.57302762763 cur transitivity is:  0.426959326807\n",
      "144 ITERATION FROM 334 , cur shortest path is:  1.56967227227 cur transitivity is:  0.430293744942\n",
      "145 ITERATION FROM 334 , cur shortest path is:  1.56681861862 cur transitivity is:  0.433192397444\n",
      "146 ITERATION FROM 334 , cur shortest path is:  1.56390590591 cur transitivity is:  0.436084751047\n",
      "147 ITERATION FROM 334 , cur shortest path is:  1.56098818819 cur transitivity is:  0.439048150178\n",
      "148 ITERATION FROM 334 , cur shortest path is:  1.55812592593 cur transitivity is:  0.44185230132\n",
      "149 ITERATION FROM 334 , cur shortest path is:  1.55493673674 cur transitivity is:  0.445087648959\n",
      "150 ITERATION FROM 334 , cur shortest path is:  1.55183343343 cur transitivity is:  0.448180716466\n",
      "151 ITERATION FROM 334 , cur shortest path is:  1.54897097097 cur transitivity is:  0.451047497254\n",
      "152 ITERATION FROM 334 , cur shortest path is:  1.54598098098 cur transitivity is:  0.453977315987\n",
      "153 ITERATION FROM 334 , cur shortest path is:  1.54303043043 cur transitivity is:  0.456936878594\n",
      "154 ITERATION FROM 334 , cur shortest path is:  1.54051111111 cur transitivity is:  0.459468832322\n",
      "155 ITERATION FROM 334 , cur shortest path is:  1.53701821822 cur transitivity is:  0.462963113454\n",
      "156 ITERATION FROM 334 , cur shortest path is:  1.53368168168 cur transitivity is:  0.466315027737\n",
      "157 ITERATION FROM 334 , cur shortest path is:  1.53088008008 cur transitivity is:  0.469111032509\n",
      "158 ITERATION FROM 334 , cur shortest path is:  1.52794154154 cur transitivity is:  0.472026514659\n",
      "159 ITERATION FROM 334 , cur shortest path is:  1.52502642643 cur transitivity is:  0.474932168195\n",
      "160 ITERATION FROM 334 , cur shortest path is:  1.52218418418 cur transitivity is:  0.477806708812\n",
      "161 ITERATION FROM 334 , cur shortest path is:  1.5189035035 cur transitivity is:  0.481091784509\n",
      "162 ITERATION FROM 334 , cur shortest path is:  1.51572192192 cur transitivity is:  0.484285843081\n",
      "163 ITERATION FROM 334 , cur shortest path is:  1.51276956957 cur transitivity is:  0.487209089758\n",
      "164 ITERATION FROM 334 , cur shortest path is:  1.50983143143 cur transitivity is:  0.490170949583\n",
      "165 ITERATION FROM 334 , cur shortest path is:  1.50661761762 cur transitivity is:  0.493425682623\n",
      "166 ITERATION FROM 334 , cur shortest path is:  1.50418638639 cur transitivity is:  0.495823569224\n",
      "167 ITERATION FROM 334 , cur shortest path is:  1.50067467467 cur transitivity is:  0.499348238793\n",
      "168 ITERATION FROM 334 , cur shortest path is:  1.49838538539 cur transitivity is:  0.501607170537\n",
      "169 ITERATION FROM 334 , cur shortest path is:  1.49450950951 cur transitivity is:  0.50550532928\n",
      "170 ITERATION FROM 334 , cur shortest path is:  1.49174174174 cur transitivity is:  0.508245306353\n",
      "171 ITERATION FROM 334 , cur shortest path is:  1.48911151151 cur transitivity is:  0.510887287157\n",
      "172 ITERATION FROM 334 , cur shortest path is:  1.48649129129 cur transitivity is:  0.513500444249\n",
      "173 ITERATION FROM 334 , cur shortest path is:  1.48290510511 cur transitivity is:  0.517046718238\n",
      "174 ITERATION FROM 334 , cur shortest path is:  1.48038878879 cur transitivity is:  0.519597476687\n",
      "175 ITERATION FROM 334 , cur shortest path is:  1.47714794795 cur transitivity is:  0.522850145227\n",
      "176 ITERATION FROM 334 , cur shortest path is:  1.47421361361 cur transitivity is:  0.525789989861\n",
      "177 ITERATION FROM 334 , cur shortest path is:  1.47161221221 cur transitivity is:  0.528387279159\n",
      "178 ITERATION FROM 334 , cur shortest path is:  1.46770790791 cur transitivity is:  0.532306401492\n",
      "179 ITERATION FROM 334 , cur shortest path is:  1.46513933934 cur transitivity is:  0.534856317663\n",
      "180 ITERATION FROM 334 , cur shortest path is:  1.46205885886 cur transitivity is:  0.537941929556\n",
      "181 ITERATION FROM 334 , cur shortest path is:  1.45914774775 cur transitivity is:  0.540894698945\n",
      "182 ITERATION FROM 334 , cur shortest path is:  1.45594374374 cur transitivity is:  0.54406060497\n",
      "183 ITERATION FROM 334 , cur shortest path is:  1.45326386386 cur transitivity is:  0.546718855781\n"
     ]
    },
    {
     "ename": "KeyboardInterrupt",
     "evalue": "",
     "output_type": "error",
     "traceback": [
      "\u001b[0;31m---------------------------------------------------------------------------\u001b[0m",
      "\u001b[0;31mKeyboardInterrupt\u001b[0m                         Traceback (most recent call last)",
      "\u001b[0;32m<ipython-input-11-0cca32bd7ec7>\u001b[0m in \u001b[0;36m<module>\u001b[0;34m()\u001b[0m\n\u001b[1;32m     12\u001b[0m     \u001b[1;32mfor\u001b[0m \u001b[0mG\u001b[0m \u001b[1;32min\u001b[0m \u001b[0mcur_gs\u001b[0m\u001b[1;33m:\u001b[0m\u001b[1;33m\u001b[0m\u001b[0m\n\u001b[1;32m     13\u001b[0m         \u001b[0mG_comp\u001b[0m \u001b[1;33m=\u001b[0m \u001b[0mG\u001b[0m\u001b[1;33m.\u001b[0m\u001b[0msubgraph\u001b[0m\u001b[1;33m(\u001b[0m\u001b[0mmax\u001b[0m\u001b[1;33m(\u001b[0m\u001b[0mnx\u001b[0m\u001b[1;33m.\u001b[0m\u001b[0mconnected_component_subgraphs\u001b[0m\u001b[1;33m(\u001b[0m\u001b[0mG\u001b[0m\u001b[1;33m)\u001b[0m\u001b[1;33m,\u001b[0m \u001b[0mkey\u001b[0m\u001b[1;33m=\u001b[0m\u001b[0mlen\u001b[0m\u001b[1;33m)\u001b[0m\u001b[1;33m)\u001b[0m\u001b[1;33m\u001b[0m\u001b[0m\n\u001b[0;32m---> 14\u001b[0;31m         \u001b[0mgraphs_shortest_path\u001b[0m\u001b[1;33m.\u001b[0m\u001b[0mappend\u001b[0m\u001b[1;33m(\u001b[0m\u001b[0mnx\u001b[0m\u001b[1;33m.\u001b[0m\u001b[0maverage_shortest_path_length\u001b[0m\u001b[1;33m(\u001b[0m\u001b[0mG_comp\u001b[0m\u001b[1;33m)\u001b[0m\u001b[1;33m)\u001b[0m\u001b[1;33m\u001b[0m\u001b[0m\n\u001b[0m\u001b[1;32m     15\u001b[0m         \u001b[0mgraphs_transitivity\u001b[0m\u001b[1;33m.\u001b[0m\u001b[0mappend\u001b[0m\u001b[1;33m(\u001b[0m\u001b[0mnx\u001b[0m\u001b[1;33m.\u001b[0m\u001b[0mtransitivity\u001b[0m\u001b[1;33m(\u001b[0m\u001b[0mG_comp\u001b[0m\u001b[1;33m)\u001b[0m\u001b[1;33m)\u001b[0m\u001b[1;33m\u001b[0m\u001b[0m\n\u001b[1;32m     16\u001b[0m     \u001b[0mnew_shortest_path\u001b[0m \u001b[1;33m=\u001b[0m \u001b[0mnp\u001b[0m\u001b[1;33m.\u001b[0m\u001b[0mmean\u001b[0m\u001b[1;33m(\u001b[0m\u001b[0mgraphs_shortest_path\u001b[0m\u001b[1;33m)\u001b[0m\u001b[1;33m\u001b[0m\u001b[0m\n",
      "\u001b[0;32mC:\\Users\\Samsung\\Anaconda3\\lib\\site-packages\\networkx\\algorithms\\shortest_paths\\generic.py\u001b[0m in \u001b[0;36maverage_shortest_path_length\u001b[0;34m(G, weight)\u001b[0m\n\u001b[1;32m    301\u001b[0m     \u001b[1;32mif\u001b[0m \u001b[0mweight\u001b[0m \u001b[1;32mis\u001b[0m \u001b[1;32mNone\u001b[0m\u001b[1;33m:\u001b[0m\u001b[1;33m\u001b[0m\u001b[0m\n\u001b[1;32m    302\u001b[0m         \u001b[1;32mfor\u001b[0m \u001b[0mnode\u001b[0m \u001b[1;32min\u001b[0m \u001b[0mG\u001b[0m\u001b[1;33m:\u001b[0m\u001b[1;33m\u001b[0m\u001b[0m\n\u001b[0;32m--> 303\u001b[0;31m             \u001b[0mpath_length\u001b[0m\u001b[1;33m=\u001b[0m\u001b[0mnx\u001b[0m\u001b[1;33m.\u001b[0m\u001b[0msingle_source_shortest_path_length\u001b[0m\u001b[1;33m(\u001b[0m\u001b[0mG\u001b[0m\u001b[1;33m,\u001b[0m \u001b[0mnode\u001b[0m\u001b[1;33m)\u001b[0m\u001b[1;33m\u001b[0m\u001b[0m\n\u001b[0m\u001b[1;32m    304\u001b[0m             \u001b[0mavg\u001b[0m \u001b[1;33m+=\u001b[0m \u001b[0msum\u001b[0m\u001b[1;33m(\u001b[0m\u001b[0mpath_length\u001b[0m\u001b[1;33m.\u001b[0m\u001b[0mvalues\u001b[0m\u001b[1;33m(\u001b[0m\u001b[1;33m)\u001b[0m\u001b[1;33m)\u001b[0m\u001b[1;33m\u001b[0m\u001b[0m\n\u001b[1;32m    305\u001b[0m     \u001b[1;32melse\u001b[0m\u001b[1;33m:\u001b[0m\u001b[1;33m\u001b[0m\u001b[0m\n",
      "\u001b[0;32mC:\\Users\\Samsung\\Anaconda3\\lib\\site-packages\\networkx\\algorithms\\shortest_paths\\unweighted.py\u001b[0m in \u001b[0;36msingle_source_shortest_path_length\u001b[0;34m(G, source, cutoff)\u001b[0m\n\u001b[1;32m     61\u001b[0m             \u001b[1;32mif\u001b[0m \u001b[0mv\u001b[0m \u001b[1;32mnot\u001b[0m \u001b[1;32min\u001b[0m \u001b[0mseen\u001b[0m\u001b[1;33m:\u001b[0m\u001b[1;33m\u001b[0m\u001b[0m\n\u001b[1;32m     62\u001b[0m                 \u001b[0mseen\u001b[0m\u001b[1;33m[\u001b[0m\u001b[0mv\u001b[0m\u001b[1;33m]\u001b[0m\u001b[1;33m=\u001b[0m\u001b[0mlevel\u001b[0m \u001b[1;31m# set the level of vertex v\u001b[0m\u001b[1;33m\u001b[0m\u001b[0m\n\u001b[0;32m---> 63\u001b[0;31m                 \u001b[0mnextlevel\u001b[0m\u001b[1;33m.\u001b[0m\u001b[0mupdate\u001b[0m\u001b[1;33m(\u001b[0m\u001b[0mG\u001b[0m\u001b[1;33m[\u001b[0m\u001b[0mv\u001b[0m\u001b[1;33m]\u001b[0m\u001b[1;33m)\u001b[0m \u001b[1;31m# add neighbors of v\u001b[0m\u001b[1;33m\u001b[0m\u001b[0m\n\u001b[0m\u001b[1;32m     64\u001b[0m         \u001b[1;32mif\u001b[0m \u001b[1;33m(\u001b[0m\u001b[0mcutoff\u001b[0m \u001b[1;32mis\u001b[0m \u001b[1;32mnot\u001b[0m \u001b[1;32mNone\u001b[0m \u001b[1;32mand\u001b[0m \u001b[0mcutoff\u001b[0m \u001b[1;33m<=\u001b[0m \u001b[0mlevel\u001b[0m\u001b[1;33m)\u001b[0m\u001b[1;33m:\u001b[0m  \u001b[1;32mbreak\u001b[0m\u001b[1;33m\u001b[0m\u001b[0m\n\u001b[1;32m     65\u001b[0m         \u001b[0mlevel\u001b[0m\u001b[1;33m=\u001b[0m\u001b[0mlevel\u001b[0m\u001b[1;33m+\u001b[0m\u001b[1;36m1\u001b[0m\u001b[1;33m\u001b[0m\u001b[0m\n",
      "\u001b[0;31mKeyboardInterrupt\u001b[0m: "
     ]
    }
   ],
   "source": [
    "n = 1000\n",
    "p = 0.001\n",
    "k = 10\n",
    "shortest_path_values = []\n",
    "transitivity_values = []\n",
    "steps = int(0.999/0.003 + 1)\n",
    "iter_num = 0\n",
    "for p2 in np.linspace(0.001, 1, steps):\n",
    "    cur_gs = generate_k_graph(k, n, p2)\n",
    "    graphs_shortest_path = []\n",
    "    graphs_transitivity = []\n",
    "    for G in cur_gs:\n",
    "        G_comp = G.subgraph(max(nx.connected_component_subgraphs(G), key=len))\n",
    "        graphs_shortest_path.append(nx.average_shortest_path_length(G_comp))\n",
    "        graphs_transitivity.append(nx.transitivity(G_comp))\n",
    "    new_shortest_path = np.mean(graphs_shortest_path)\n",
    "    new_transitivity = np.mean(graphs_transitivity)\n",
    "    if len(transitivity_values) > 3:\n",
    "        if np.absolute(new_shortest_path - shortest_path_values[-1]) < 0.1 and np.absolute(new_transitivity - transitivity_values[-1] < 0.001):\n",
    "            break\n",
    "    iter_num += 1\n",
    "    print(iter_num, \"ITERATION FROM\", steps, \", cur shortest path is: \", new_shortest_path, \"cur transitivity is: \", new_transitivity)\n",
    "    shortest_path_values.append(new_shortest_path)\n",
    "    transitivity_values.append(new_transitivity)"
   ]
  },
  {
   "cell_type": "markdown",
   "metadata": {},
   "source": [
    "Поскольку в этот момент стало очевидно, что работу скоро будет необходимо сдать, а полностью все не досчиталось, было сделано волевое решение посмотреть на зависимости по имеющимся на этот момент данным."
   ]
  },
  {
   "cell_type": "markdown",
   "metadata": {},
   "source": [
    "Наименьший путь:"
   ]
  },
  {
   "cell_type": "code",
   "execution_count": 12,
   "metadata": {
    "collapsed": false
   },
   "outputs": [
    {
     "data": {
      "text/plain": [
       "[<matplotlib.lines.Line2D at 0x250f6068b70>]"
      ]
     },
     "execution_count": 12,
     "metadata": {},
     "output_type": "execute_result"
    },
    {
     "data": {
      "image/png": "[encoded data removed]",
      "text/plain": [
       "<matplotlib.figure.Figure at 0x25092e3e6a0>"
      ]
     },
     "metadata": {},
     "output_type": "display_data"
    }
   ],
   "source": [
    "plt.plot(np.linspace(0.001, p2-0.003, len(shortest_path_values)), shortest_path_values)"
   ]
  },
  {
   "cell_type": "markdown",
   "metadata": {},
   "source": [
    "Можно заметить, что после резкого спуска приближаясь по вероятности к единице, график медленно, но верно, стремится к 1"
   ]
  },
  {
   "cell_type": "markdown",
   "metadata": {},
   "source": [
    "Транзитивность"
   ]
  },
  {
   "cell_type": "code",
   "execution_count": 13,
   "metadata": {
    "collapsed": false
   },
   "outputs": [
    {
     "data": {
      "text/plain": [
       "[<matplotlib.lines.Line2D at 0x250fc749ac8>]"
      ]
     },
     "execution_count": 13,
     "metadata": {},
     "output_type": "execute_result"
    },
    {
     "data": {
      "image/png": "[encoded data removed]",
      "text/plain": [
       "<matplotlib.figure.Figure at 0x250a7c48780>"
      ]
     },
     "metadata": {},
     "output_type": "display_data"
    }
   ],
   "source": [
    "plt.plot(np.linspace(0.001, p2-0.003, len(transitivity_values)), transitivity_values)"
   ]
  },
  {
   "cell_type": "markdown",
   "metadata": {
    "collapsed": true
   },
   "source": [
    "Ну а здесь на лицо линейная зависимость коэффициента транзитивности от вероятности"
   ]
  },
  {
   "cell_type": "markdown",
   "metadata": {},
   "source": [
    "В принципе, даже на неполных данных все взаимосвязи можно видеть"
   ]
  }
 ],
 "metadata": {
  "anaconda-cloud": {},
  "kernelspec": {
   "display_name": "Python [conda root]",
   "language": "python",
   "name": "conda-root-py"
  },
  "language_info": {
   "codemirror_mode": {
    "name": "ipython",
    "version": 3
   },
   "file_extension": ".py",
   "mimetype": "text/x-python",
   "name": "python",
   "nbconvert_exporter": "python",
   "pygments_lexer": "ipython3",
   "version": "3.5.2"
  }
 },
 "nbformat": 4,
 "nbformat_minor": 0
}
