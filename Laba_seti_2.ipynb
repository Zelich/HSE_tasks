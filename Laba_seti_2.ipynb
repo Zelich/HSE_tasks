{
 "cells": [
  {
   "cell_type": "code",
   "execution_count": 2,
   "metadata": {
    "collapsed": false
   },
   "outputs": [],
   "source": [
    "import numpy as np\n",
    "import matplotlib.pyplot as plt\n",
    "import networkx as nx\n",
    "import numpy.random as rnd\n",
    "import seaborn as sns\n",
    "sns.set()\n",
    "%matplotlib inline"
   ]
  },
  {
   "cell_type": "markdown",
   "metadata": {},
   "source": [
    "# Task 1"
   ]
  },
  {
   "cell_type": "markdown",
   "metadata": {},
   "source": [
    "$$\\text{Clustering coefficient} = \\frac{\\langle k \\rangle}{n} = p $$\n",
    "Generate $100$ Random Graphs with $n = 1000$ and $p = 0.002$ (for saving computational time) and plot the box-plot of your computations"
   ]
  },
  {
   "cell_type": "markdown",
   "metadata": {},
   "source": [
    "Функция для генерации графа"
   ]
  },
  {
   "cell_type": "code",
   "execution_count": 3,
   "metadata": {
    "collapsed": true
   },
   "outputs": [],
   "source": [
    "def generate_graph(n, p):\n",
    "    G=nx.Graph()\n",
    "    G.add_nodes_from(range(0, n))\n",
    "    for i in range(0, n):\n",
    "        for j in range(i+1, n):\n",
    "            if rnd.random() <= p:\n",
    "                G.add_edge(i, j)\n",
    "    return G"
   ]
  },
  {
   "cell_type": "markdown",
   "metadata": {},
   "source": [
    "Функция для генерации множества графов"
   ]
  },
  {
   "cell_type": "code",
   "execution_count": 4,
   "metadata": {
    "collapsed": true
   },
   "outputs": [],
   "source": [
    "def generate_k_graph(k, n, p):\n",
    "    gs = []\n",
    "    for i in range(k):\n",
    "        gs.append(generate_graph(n, p))\n",
    "    return gs"
   ]
  },
  {
   "cell_type": "markdown",
   "metadata": {},
   "source": [
    "Генерим графы с заданными условиями:"
   ]
  },
  {
   "cell_type": "code",
   "execution_count": 5,
   "metadata": {
    "collapsed": false
   },
   "outputs": [],
   "source": [
    "n = 1000\n",
    "p = 0.002\n",
    "gs = generate_k_graph(100, n, p)"
   ]
  },
  {
   "cell_type": "markdown",
   "metadata": {},
   "source": [
    "Посчитаем для них коэффициенты кластеризации:"
   ]
  },
  {
   "cell_type": "code",
   "execution_count": 10,
   "metadata": {
    "collapsed": false
   },
   "outputs": [],
   "source": [
    "cluster_coefs = []\n",
    "for G in gs:\n",
    "    cluster_coefs.append(G.number_of_edges() / (n * (n-1) / 2))"
   ]
  },
  {
   "cell_type": "markdown",
   "metadata": {},
   "source": [
    "Построим график:"
   ]
  },
  {
   "cell_type": "code",
   "execution_count": 11,
   "metadata": {
    "collapsed": false
   },
   "outputs": [
    {
     "data": {
      "text/plain": [
       "<matplotlib.axes._subplots.AxesSubplot at 0x120da3c8>"
      ]
     },
     "execution_count": 11,
     "metadata": {},
     "output_type": "execute_result"
    },
    {
     "data": {
      "image/png": "[encoded data removed]",
      "text/plain": [
       "<matplotlib.figure.Figure at 0x120b9a58>"
      ]
     },
     "metadata": {},
     "output_type": "display_data"
    }
   ],
   "source": [
    "sns.boxplot(cluster_coefs)"
   ]
  },
  {
   "cell_type": "markdown",
   "metadata": {},
   "source": [
    "Действительно, среднее значение находится примерно на значении $p=0.002$"
   ]
  },
  {
   "cell_type": "markdown",
   "metadata": {},
   "source": [
    "# Task 2"
   ]
  },
  {
   "cell_type": "markdown",
   "metadata": {},
   "source": [
    "In this task you are asked to calculate the average size of small components (small component = not a giant one) with regard to average degree of the network. To see the effect clearly, plot average size around $\\langle k \\rangle = 1$."
   ]
  },
  {
   "cell_type": "markdown",
   "metadata": {},
   "source": [
    "На самом деле задание было (как оказалось) о другом - надо перебирать $n\\cdot p$ и для каждого значения генерить графы, для которых смотреть средний размер не самых больших компонент.\n",
    "Для этой цели фиксируем $n$, перебираем $p$ от 0.0001 до 0.0015 (чтобы $n \\cdot p$ получилось в районе 1), смотрим значения."
   ]
  },
  {
   "cell_type": "code",
   "execution_count": 90,
   "metadata": {
    "collapsed": false
   },
   "outputs": [
    {
     "name": "stdout",
     "output_type": "stream",
     "text": [
      "1 ITERATION FROM 15\n",
      "2 ITERATION FROM 15\n",
      "3 ITERATION FROM 15\n",
      "4 ITERATION FROM 15\n",
      "5 ITERATION FROM 15\n",
      "6 ITERATION FROM 15\n",
      "7 ITERATION FROM 15\n",
      "8 ITERATION FROM 15\n",
      "9 ITERATION FROM 15\n",
      "10 ITERATION FROM 15\n",
      "11 ITERATION FROM 15\n",
      "12 ITERATION FROM 15\n",
      "13 ITERATION FROM 15\n",
      "14 ITERATION FROM 15\n",
      "15 ITERATION FROM 15\n"
     ]
    }
   ],
   "source": [
    "n = 1000\n",
    "p = 0.0001\n",
    "k = 50\n",
    "values = []\n",
    "steps = 15\n",
    "iter_num = 0\n",
    "for p2 in np.linspace(0.0001, 0.0015, steps):\n",
    "    iter_num += 1\n",
    "    print(iter_num, \"ITERATION FROM\", steps)\n",
    "    cur_gs = generate_k_graph(k, n, p2)\n",
    "    graphs_comp_lens = []\n",
    "    for G in cur_gs:\n",
    "        comp_lens = [len(x) for x in sorted(list(nx.connected_components(G)), key=len)[:-1]]\n",
    "        graphs_comp_lens.append(np.mean(comp_lens))\n",
    "    values.append(np.mean(graphs_comp_lens))"
   ]
  },
  {
   "cell_type": "markdown",
   "metadata": {},
   "source": [
    "Построим график"
   ]
  },
  {
   "cell_type": "code",
   "execution_count": 91,
   "metadata": {
    "collapsed": false
   },
   "outputs": [
    {
     "data": {
      "text/plain": [
       "[<matplotlib.lines.Line2D at 0x116ffef0>]"
      ]
     },
     "execution_count": 91,
     "metadata": {},
     "output_type": "execute_result"
    },
    {
     "data": {
      "image/png": "[encoded data removed]",
      "text/plain": [
       "<matplotlib.figure.Figure at 0x172b5400>"
      ]
     },
     "metadata": {},
     "output_type": "display_data"
    }
   ],
   "source": [
    "plt.plot(np.linspace(0.0001, 0.0015, steps)*n, values)"
   ]
  },
  {
   "cell_type": "markdown",
   "metadata": {},
   "source": [
    "Заметим, что максимум достигается в районе единички. Почему это так? Скорее всего это связано с тем, что пока $n\\cdot p <1$ с увеличением $n\\cdot p$ самая большая компонента связности еще не \"поглотила\" достаточное количество вершин. Однако после критического значения она поглощает вершины, которые потенциально могли бы быть связаны друг с другом, образуя компоненты связности большие единицы."
   ]
  },
  {
   "cell_type": "markdown",
   "metadata": {},
   "source": [
    "# Task 3"
   ]
  },
  {
   "cell_type": "markdown",
   "metadata": {},
   "source": [
    "Plot the average path length and transitivity coefficents with $n=1000$ and p=0.001 while increasing by 0.003"
   ]
  },
  {
   "cell_type": "code",
   "execution_count": null,
   "metadata": {
    "collapsed": false
   },
   "outputs": [
    {
     "name": "stdout",
     "output_type": "stream",
     "text": [
      "1 ITERATION FROM 334\n",
      "2 ITERATION FROM 334\n",
      "3 ITERATION FROM 334\n",
      "4 ITERATION FROM 334\n",
      "5 ITERATION FROM 334\n",
      "6 ITERATION FROM 334\n",
      "7 ITERATION FROM 334\n",
      "8 ITERATION FROM 334\n",
      "9 ITERATION FROM 334\n",
      "10 ITERATION FROM 334\n",
      "11 ITERATION FROM 334\n",
      "12 ITERATION FROM 334\n",
      "13 ITERATION FROM 334\n",
      "14 ITERATION FROM 334\n",
      "15 ITERATION FROM 334\n",
      "16 ITERATION FROM 334\n",
      "17 ITERATION FROM 334\n",
      "18 ITERATION FROM 334\n",
      "19 ITERATION FROM 334\n",
      "20 ITERATION FROM 334\n",
      "21 ITERATION FROM 334\n",
      "22 ITERATION FROM 334\n",
      "23 ITERATION FROM 334\n",
      "24 ITERATION FROM 334\n",
      "25 ITERATION FROM 334\n",
      "26 ITERATION FROM 334\n",
      "27 ITERATION FROM 334\n",
      "28 ITERATION FROM 334\n",
      "29 ITERATION FROM 334\n",
      "30 ITERATION FROM 334\n",
      "31 ITERATION FROM 334\n",
      "32 ITERATION FROM 334\n",
      "33 ITERATION FROM 334\n",
      "34 ITERATION FROM 334\n",
      "35 ITERATION FROM 334\n",
      "36 ITERATION FROM 334\n",
      "37 ITERATION FROM 334\n"
     ]
    }
   ],
   "source": [
    "n = 1000\n",
    "p = 0.001\n",
    "k = 10\n",
    "shortest_path_values = []\n",
    "transitivity_values = []\n",
    "steps = int(0.999/0.003 + 1)\n",
    "iter_num = 0\n",
    "for p2 in np.linspace(0.001, 1, steps):\n",
    "    iter_num += 1\n",
    "    print(iter_num, \"ITERATION FROM\", steps)\n",
    "    cur_gs = generate_k_graph(k, n, p2)\n",
    "    graphs_shortest_path = []\n",
    "    graphs_transitivity = []\n",
    "    for G in cur_gs:\n",
    "        G_comp = G.subgraph(max(nx.connected_component_subgraphs(G), key=len))\n",
    "        graphs_shortest_path.append(nx.average_shortest_path_length(G_comp))\n",
    "        graphs_transitivity.append(nx.transitivity(G_comp))\n",
    "    new_shortest_path = np.mean(graphs_shortest_path)\n",
    "    new_transitivity = np.mean(graphs_transitivity)\n",
    "    if len(transitivity_values) > 3:\n",
    "        if np.absolute(new_shortest_path - shortest_path_values[-1]) < 0.1 and np.absolute(new_transitivity - transitivity_values[-1] < 0.001):\n",
    "            break\n",
    "    shortest_path_values.append(new_shortest_path)\n",
    "    transitivity_values.append(new_transitivity)"
   ]
  },
  {
   "cell_type": "code",
   "execution_count": null,
   "metadata": {
    "collapsed": false
   },
   "outputs": [],
   "source": [
    "plt.plot(np.linspace(0.001, p2-0.003, len(shortest_path_values)), shortest_path_values)"
   ]
  },
  {
   "cell_type": "code",
   "execution_count": null,
   "metadata": {
    "collapsed": false
   },
   "outputs": [],
   "source": [
    "plt.plot(np.linspace(0.001, p2-0.003, len(transitivity_values)), transitivity_values)"
   ]
  },
  {
   "cell_type": "code",
   "execution_count": null,
   "metadata": {
    "collapsed": true
   },
   "outputs": [],
   "source": []
  }
 ],
 "metadata": {
  "anaconda-cloud": {},
  "kernelspec": {
   "display_name": "Python [Root]",
   "language": "python",
   "name": "Python [Root]"
  },
  "language_info": {
   "codemirror_mode": {
    "name": "ipython",
    "version": 3
   },
   "file_extension": ".py",
   "mimetype": "text/x-python",
   "name": "python",
   "nbconvert_exporter": "python",
   "pygments_lexer": "ipython3",
   "version": "3.5.2"
  }
 },
 "nbformat": 4,
 "nbformat_minor": 0
}
